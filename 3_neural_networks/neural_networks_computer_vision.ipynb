{
 "cells": [
  {
   "cell_type": "markdown",
   "metadata": {
    "id": "zFKW4X_tMYQI"
   },
   "source": [
    "The first part of this workshop is a revised version of the last year's version by Ahmed Ibrahim and Sharon Ho. Inspired by: [Dr Christopher Lovejoy](https://youtu.be/c8s5GKRrenY).\n",
    "\n",
    "The second part adapts the official PyTorch [tutorial on image classification](https://pytorch.org/tutorials/beginner/blitz/cifar10_tutorial.html) with convolutional neural networks to a medical domain."
   ]
  },
  {
   "cell_type": "markdown",
   "metadata": {
    "id": "rQ7dZXc3MJCC"
   },
   "source": [
    "# Neural Networks and Computer Vision "
   ]
  },
  {
   "cell_type": "markdown",
   "metadata": {
    "id": "n2F1YvwKM2W3"
   },
   "source": [
    "In the first part of this workshop, we will be using a [dataset](https://www.kaggle.com/datasets/uciml/breast-cancer-wisconsin-data) that describes the characteristics of cell nuclei obtained from biopsies of patients with breast cancer. We will be building and optimising a simple artificial neural network (specifically a multi-layer perceptron) to predict whether the breast cancer is benign or malignant.\n",
    "- The first subsection covers the data pre-processing and implementation in scikit-learn\n",
    "- The second subsection uses PyTorch, which is a more advanced deep learning framework, commonly used by deep learning professionals.\n",
    "\n",
    "\n",
    "In the second part of the notebook, we will look into chest x-ray images. We will use the available data from the [MedMNIST dataset](https://medmnist.com) to classify whether a patient has pneumonia or not. We will start with a simple neural network and understanding how to implement a training loop. The later part covers the implementation of a more advanced neural architecture -- a convolutional neural network (CNN). \n"
   ]
  },
  {
   "cell_type": "markdown",
   "metadata": {
    "id": "Sn53E1XgNcHW"
   },
   "source": [
    "## Part 1.1: Neural Networks using scikit-learn"
   ]
  },
  {
   "cell_type": "markdown",
   "metadata": {},
   "source": [
    "For this part of the workshop, we will be using `scikit-learn`. Further in the notebook, you'll have a chance to see how the same machine learning problem can be solved using more advanced framework -- `PyTorch`."
   ]
  },
  {
   "cell_type": "markdown",
   "metadata": {
    "id": "0xL5zLcnNq_3"
   },
   "source": [
    "### Importing libraries"
   ]
  },
  {
   "cell_type": "code",
   "execution_count": 1,
   "metadata": {
    "id": "jJdneZBMOU_Q"
   },
   "outputs": [],
   "source": [
    "import pandas as pd\n",
    "from sklearn.model_selection import train_test_split\n",
    "from sklearn.preprocessing import StandardScaler\n",
    "from sklearn.neural_network import MLPClassifier\n",
    "from sklearn.metrics import (\n",
    "    confusion_matrix,\n",
    "    ConfusionMatrixDisplay,\n",
    "    precision_score,\n",
    "    recall_score,\n",
    "    f1_score,\n",
    "    accuracy_score,\n",
    ")"
   ]
  },
  {
   "cell_type": "markdown",
   "metadata": {
    "id": "pRNdUS4hNviF"
   },
   "source": [
    "### Importing dataset"
   ]
  },
  {
   "cell_type": "code",
   "execution_count": 2,
   "metadata": {
    "id": "HuGu04PeTvXP"
   },
   "outputs": [],
   "source": [
    "dataset = pd.read_csv(\n",
    "    \"https://raw.githubusercontent.com/ahmed-ibrahim0/AIM/main/Breast%20Cancer%20Wisconsin%20Dataset.csv\"\n",
    ")"
   ]
  },
  {
   "cell_type": "markdown",
   "metadata": {
    "id": "cZoZdvkuVxkt"
   },
   "source": [
    "## Processing the dataset"
   ]
  },
  {
   "cell_type": "markdown",
   "metadata": {
    "id": "GPm_QyH0J3r_"
   },
   "source": [
    "### Inspecting the dataset"
   ]
  },
  {
   "cell_type": "markdown",
   "metadata": {
    "id": "7hojL1l5FSB5"
   },
   "source": [
    "Before diving in to building our neural network, it is a good idea to spend some time understanding our dataset:"
   ]
  },
  {
   "cell_type": "code",
   "execution_count": 3,
   "metadata": {},
   "outputs": [
    {
     "data": {
      "text/html": [
       "<div>\n",
       "<style scoped>\n",
       "    .dataframe tbody tr th:only-of-type {\n",
       "        vertical-align: middle;\n",
       "    }\n",
       "\n",
       "    .dataframe tbody tr th {\n",
       "        vertical-align: top;\n",
       "    }\n",
       "\n",
       "    .dataframe thead th {\n",
       "        text-align: right;\n",
       "    }\n",
       "</style>\n",
       "<table border=\"1\" class=\"dataframe\">\n",
       "  <thead>\n",
       "    <tr style=\"text-align: right;\">\n",
       "      <th></th>\n",
       "      <th>id</th>\n",
       "      <th>diagnosis</th>\n",
       "      <th>radius_mean</th>\n",
       "      <th>texture_mean</th>\n",
       "      <th>perimeter_mean</th>\n",
       "      <th>area_mean</th>\n",
       "      <th>smoothness_mean</th>\n",
       "      <th>compactness_mean</th>\n",
       "      <th>concavity_mean</th>\n",
       "      <th>concave points_mean</th>\n",
       "      <th>...</th>\n",
       "      <th>texture_worst</th>\n",
       "      <th>perimeter_worst</th>\n",
       "      <th>area_worst</th>\n",
       "      <th>smoothness_worst</th>\n",
       "      <th>compactness_worst</th>\n",
       "      <th>concavity_worst</th>\n",
       "      <th>concave points_worst</th>\n",
       "      <th>symmetry_worst</th>\n",
       "      <th>fractal_dimension_worst</th>\n",
       "      <th>Unnamed: 32</th>\n",
       "    </tr>\n",
       "  </thead>\n",
       "  <tbody>\n",
       "    <tr>\n",
       "      <th>0</th>\n",
       "      <td>842302</td>\n",
       "      <td>M</td>\n",
       "      <td>17.99</td>\n",
       "      <td>10.38</td>\n",
       "      <td>122.80</td>\n",
       "      <td>1001.0</td>\n",
       "      <td>0.11840</td>\n",
       "      <td>0.27760</td>\n",
       "      <td>0.30010</td>\n",
       "      <td>0.14710</td>\n",
       "      <td>...</td>\n",
       "      <td>17.33</td>\n",
       "      <td>184.60</td>\n",
       "      <td>2019.0</td>\n",
       "      <td>0.16220</td>\n",
       "      <td>0.66560</td>\n",
       "      <td>0.7119</td>\n",
       "      <td>0.2654</td>\n",
       "      <td>0.4601</td>\n",
       "      <td>0.11890</td>\n",
       "      <td>NaN</td>\n",
       "    </tr>\n",
       "    <tr>\n",
       "      <th>1</th>\n",
       "      <td>842517</td>\n",
       "      <td>M</td>\n",
       "      <td>20.57</td>\n",
       "      <td>17.77</td>\n",
       "      <td>132.90</td>\n",
       "      <td>1326.0</td>\n",
       "      <td>0.08474</td>\n",
       "      <td>0.07864</td>\n",
       "      <td>0.08690</td>\n",
       "      <td>0.07017</td>\n",
       "      <td>...</td>\n",
       "      <td>23.41</td>\n",
       "      <td>158.80</td>\n",
       "      <td>1956.0</td>\n",
       "      <td>0.12380</td>\n",
       "      <td>0.18660</td>\n",
       "      <td>0.2416</td>\n",
       "      <td>0.1860</td>\n",
       "      <td>0.2750</td>\n",
       "      <td>0.08902</td>\n",
       "      <td>NaN</td>\n",
       "    </tr>\n",
       "    <tr>\n",
       "      <th>2</th>\n",
       "      <td>84300903</td>\n",
       "      <td>M</td>\n",
       "      <td>19.69</td>\n",
       "      <td>21.25</td>\n",
       "      <td>130.00</td>\n",
       "      <td>1203.0</td>\n",
       "      <td>0.10960</td>\n",
       "      <td>0.15990</td>\n",
       "      <td>0.19740</td>\n",
       "      <td>0.12790</td>\n",
       "      <td>...</td>\n",
       "      <td>25.53</td>\n",
       "      <td>152.50</td>\n",
       "      <td>1709.0</td>\n",
       "      <td>0.14440</td>\n",
       "      <td>0.42450</td>\n",
       "      <td>0.4504</td>\n",
       "      <td>0.2430</td>\n",
       "      <td>0.3613</td>\n",
       "      <td>0.08758</td>\n",
       "      <td>NaN</td>\n",
       "    </tr>\n",
       "    <tr>\n",
       "      <th>3</th>\n",
       "      <td>84348301</td>\n",
       "      <td>M</td>\n",
       "      <td>11.42</td>\n",
       "      <td>20.38</td>\n",
       "      <td>77.58</td>\n",
       "      <td>386.1</td>\n",
       "      <td>0.14250</td>\n",
       "      <td>0.28390</td>\n",
       "      <td>0.24140</td>\n",
       "      <td>0.10520</td>\n",
       "      <td>...</td>\n",
       "      <td>26.50</td>\n",
       "      <td>98.87</td>\n",
       "      <td>567.7</td>\n",
       "      <td>0.20980</td>\n",
       "      <td>0.86630</td>\n",
       "      <td>0.6869</td>\n",
       "      <td>0.2575</td>\n",
       "      <td>0.6638</td>\n",
       "      <td>0.17300</td>\n",
       "      <td>NaN</td>\n",
       "    </tr>\n",
       "    <tr>\n",
       "      <th>4</th>\n",
       "      <td>84358402</td>\n",
       "      <td>M</td>\n",
       "      <td>20.29</td>\n",
       "      <td>14.34</td>\n",
       "      <td>135.10</td>\n",
       "      <td>1297.0</td>\n",
       "      <td>0.10030</td>\n",
       "      <td>0.13280</td>\n",
       "      <td>0.19800</td>\n",
       "      <td>0.10430</td>\n",
       "      <td>...</td>\n",
       "      <td>16.67</td>\n",
       "      <td>152.20</td>\n",
       "      <td>1575.0</td>\n",
       "      <td>0.13740</td>\n",
       "      <td>0.20500</td>\n",
       "      <td>0.4000</td>\n",
       "      <td>0.1625</td>\n",
       "      <td>0.2364</td>\n",
       "      <td>0.07678</td>\n",
       "      <td>NaN</td>\n",
       "    </tr>\n",
       "    <tr>\n",
       "      <th>...</th>\n",
       "      <td>...</td>\n",
       "      <td>...</td>\n",
       "      <td>...</td>\n",
       "      <td>...</td>\n",
       "      <td>...</td>\n",
       "      <td>...</td>\n",
       "      <td>...</td>\n",
       "      <td>...</td>\n",
       "      <td>...</td>\n",
       "      <td>...</td>\n",
       "      <td>...</td>\n",
       "      <td>...</td>\n",
       "      <td>...</td>\n",
       "      <td>...</td>\n",
       "      <td>...</td>\n",
       "      <td>...</td>\n",
       "      <td>...</td>\n",
       "      <td>...</td>\n",
       "      <td>...</td>\n",
       "      <td>...</td>\n",
       "      <td>...</td>\n",
       "    </tr>\n",
       "    <tr>\n",
       "      <th>564</th>\n",
       "      <td>926424</td>\n",
       "      <td>M</td>\n",
       "      <td>21.56</td>\n",
       "      <td>22.39</td>\n",
       "      <td>142.00</td>\n",
       "      <td>1479.0</td>\n",
       "      <td>0.11100</td>\n",
       "      <td>0.11590</td>\n",
       "      <td>0.24390</td>\n",
       "      <td>0.13890</td>\n",
       "      <td>...</td>\n",
       "      <td>26.40</td>\n",
       "      <td>166.10</td>\n",
       "      <td>2027.0</td>\n",
       "      <td>0.14100</td>\n",
       "      <td>0.21130</td>\n",
       "      <td>0.4107</td>\n",
       "      <td>0.2216</td>\n",
       "      <td>0.2060</td>\n",
       "      <td>0.07115</td>\n",
       "      <td>NaN</td>\n",
       "    </tr>\n",
       "    <tr>\n",
       "      <th>565</th>\n",
       "      <td>926682</td>\n",
       "      <td>M</td>\n",
       "      <td>20.13</td>\n",
       "      <td>28.25</td>\n",
       "      <td>131.20</td>\n",
       "      <td>1261.0</td>\n",
       "      <td>0.09780</td>\n",
       "      <td>0.10340</td>\n",
       "      <td>0.14400</td>\n",
       "      <td>0.09791</td>\n",
       "      <td>...</td>\n",
       "      <td>38.25</td>\n",
       "      <td>155.00</td>\n",
       "      <td>1731.0</td>\n",
       "      <td>0.11660</td>\n",
       "      <td>0.19220</td>\n",
       "      <td>0.3215</td>\n",
       "      <td>0.1628</td>\n",
       "      <td>0.2572</td>\n",
       "      <td>0.06637</td>\n",
       "      <td>NaN</td>\n",
       "    </tr>\n",
       "    <tr>\n",
       "      <th>566</th>\n",
       "      <td>926954</td>\n",
       "      <td>M</td>\n",
       "      <td>16.60</td>\n",
       "      <td>28.08</td>\n",
       "      <td>108.30</td>\n",
       "      <td>858.1</td>\n",
       "      <td>0.08455</td>\n",
       "      <td>0.10230</td>\n",
       "      <td>0.09251</td>\n",
       "      <td>0.05302</td>\n",
       "      <td>...</td>\n",
       "      <td>34.12</td>\n",
       "      <td>126.70</td>\n",
       "      <td>1124.0</td>\n",
       "      <td>0.11390</td>\n",
       "      <td>0.30940</td>\n",
       "      <td>0.3403</td>\n",
       "      <td>0.1418</td>\n",
       "      <td>0.2218</td>\n",
       "      <td>0.07820</td>\n",
       "      <td>NaN</td>\n",
       "    </tr>\n",
       "    <tr>\n",
       "      <th>567</th>\n",
       "      <td>927241</td>\n",
       "      <td>M</td>\n",
       "      <td>20.60</td>\n",
       "      <td>29.33</td>\n",
       "      <td>140.10</td>\n",
       "      <td>1265.0</td>\n",
       "      <td>0.11780</td>\n",
       "      <td>0.27700</td>\n",
       "      <td>0.35140</td>\n",
       "      <td>0.15200</td>\n",
       "      <td>...</td>\n",
       "      <td>39.42</td>\n",
       "      <td>184.60</td>\n",
       "      <td>1821.0</td>\n",
       "      <td>0.16500</td>\n",
       "      <td>0.86810</td>\n",
       "      <td>0.9387</td>\n",
       "      <td>0.2650</td>\n",
       "      <td>0.4087</td>\n",
       "      <td>0.12400</td>\n",
       "      <td>NaN</td>\n",
       "    </tr>\n",
       "    <tr>\n",
       "      <th>568</th>\n",
       "      <td>92751</td>\n",
       "      <td>B</td>\n",
       "      <td>7.76</td>\n",
       "      <td>24.54</td>\n",
       "      <td>47.92</td>\n",
       "      <td>181.0</td>\n",
       "      <td>0.05263</td>\n",
       "      <td>0.04362</td>\n",
       "      <td>0.00000</td>\n",
       "      <td>0.00000</td>\n",
       "      <td>...</td>\n",
       "      <td>30.37</td>\n",
       "      <td>59.16</td>\n",
       "      <td>268.6</td>\n",
       "      <td>0.08996</td>\n",
       "      <td>0.06444</td>\n",
       "      <td>0.0000</td>\n",
       "      <td>0.0000</td>\n",
       "      <td>0.2871</td>\n",
       "      <td>0.07039</td>\n",
       "      <td>NaN</td>\n",
       "    </tr>\n",
       "  </tbody>\n",
       "</table>\n",
       "<p>569 rows × 33 columns</p>\n",
       "</div>"
      ],
      "text/plain": [
       "           id diagnosis  radius_mean  texture_mean  perimeter_mean  area_mean  \\\n",
       "0      842302         M        17.99         10.38          122.80     1001.0   \n",
       "1      842517         M        20.57         17.77          132.90     1326.0   \n",
       "2    84300903         M        19.69         21.25          130.00     1203.0   \n",
       "3    84348301         M        11.42         20.38           77.58      386.1   \n",
       "4    84358402         M        20.29         14.34          135.10     1297.0   \n",
       "..        ...       ...          ...           ...             ...        ...   \n",
       "564    926424         M        21.56         22.39          142.00     1479.0   \n",
       "565    926682         M        20.13         28.25          131.20     1261.0   \n",
       "566    926954         M        16.60         28.08          108.30      858.1   \n",
       "567    927241         M        20.60         29.33          140.10     1265.0   \n",
       "568     92751         B         7.76         24.54           47.92      181.0   \n",
       "\n",
       "     smoothness_mean  compactness_mean  concavity_mean  concave points_mean  \\\n",
       "0            0.11840           0.27760         0.30010              0.14710   \n",
       "1            0.08474           0.07864         0.08690              0.07017   \n",
       "2            0.10960           0.15990         0.19740              0.12790   \n",
       "3            0.14250           0.28390         0.24140              0.10520   \n",
       "4            0.10030           0.13280         0.19800              0.10430   \n",
       "..               ...               ...             ...                  ...   \n",
       "564          0.11100           0.11590         0.24390              0.13890   \n",
       "565          0.09780           0.10340         0.14400              0.09791   \n",
       "566          0.08455           0.10230         0.09251              0.05302   \n",
       "567          0.11780           0.27700         0.35140              0.15200   \n",
       "568          0.05263           0.04362         0.00000              0.00000   \n",
       "\n",
       "     ...  texture_worst  perimeter_worst  area_worst  smoothness_worst  \\\n",
       "0    ...          17.33           184.60      2019.0           0.16220   \n",
       "1    ...          23.41           158.80      1956.0           0.12380   \n",
       "2    ...          25.53           152.50      1709.0           0.14440   \n",
       "3    ...          26.50            98.87       567.7           0.20980   \n",
       "4    ...          16.67           152.20      1575.0           0.13740   \n",
       "..   ...            ...              ...         ...               ...   \n",
       "564  ...          26.40           166.10      2027.0           0.14100   \n",
       "565  ...          38.25           155.00      1731.0           0.11660   \n",
       "566  ...          34.12           126.70      1124.0           0.11390   \n",
       "567  ...          39.42           184.60      1821.0           0.16500   \n",
       "568  ...          30.37            59.16       268.6           0.08996   \n",
       "\n",
       "     compactness_worst  concavity_worst  concave points_worst  symmetry_worst  \\\n",
       "0              0.66560           0.7119                0.2654          0.4601   \n",
       "1              0.18660           0.2416                0.1860          0.2750   \n",
       "2              0.42450           0.4504                0.2430          0.3613   \n",
       "3              0.86630           0.6869                0.2575          0.6638   \n",
       "4              0.20500           0.4000                0.1625          0.2364   \n",
       "..                 ...              ...                   ...             ...   \n",
       "564            0.21130           0.4107                0.2216          0.2060   \n",
       "565            0.19220           0.3215                0.1628          0.2572   \n",
       "566            0.30940           0.3403                0.1418          0.2218   \n",
       "567            0.86810           0.9387                0.2650          0.4087   \n",
       "568            0.06444           0.0000                0.0000          0.2871   \n",
       "\n",
       "     fractal_dimension_worst  Unnamed: 32  \n",
       "0                    0.11890          NaN  \n",
       "1                    0.08902          NaN  \n",
       "2                    0.08758          NaN  \n",
       "3                    0.17300          NaN  \n",
       "4                    0.07678          NaN  \n",
       "..                       ...          ...  \n",
       "564                  0.07115          NaN  \n",
       "565                  0.06637          NaN  \n",
       "566                  0.07820          NaN  \n",
       "567                  0.12400          NaN  \n",
       "568                  0.07039          NaN  \n",
       "\n",
       "[569 rows x 33 columns]"
      ]
     },
     "execution_count": 3,
     "metadata": {},
     "output_type": "execute_result"
    }
   ],
   "source": [
    "dataset"
   ]
  },
  {
   "cell_type": "markdown",
   "metadata": {},
   "source": [
    "It looks like there is a additional column in the dataset (\"Unnamed: 32\"), it probably got created by mistake. Let's remove it."
   ]
  },
  {
   "cell_type": "code",
   "execution_count": 4,
   "metadata": {
    "colab": {
     "base_uri": "https://localhost:8080/",
     "height": 461
    },
    "id": "gjuqrrbaV_LC",
    "outputId": "463ee009-6a8a-4088-dc73-bcf58c86d403"
   },
   "outputs": [
    {
     "data": {
      "text/html": [
       "<div>\n",
       "<style scoped>\n",
       "    .dataframe tbody tr th:only-of-type {\n",
       "        vertical-align: middle;\n",
       "    }\n",
       "\n",
       "    .dataframe tbody tr th {\n",
       "        vertical-align: top;\n",
       "    }\n",
       "\n",
       "    .dataframe thead th {\n",
       "        text-align: right;\n",
       "    }\n",
       "</style>\n",
       "<table border=\"1\" class=\"dataframe\">\n",
       "  <thead>\n",
       "    <tr style=\"text-align: right;\">\n",
       "      <th></th>\n",
       "      <th>id</th>\n",
       "      <th>diagnosis</th>\n",
       "      <th>radius_mean</th>\n",
       "      <th>texture_mean</th>\n",
       "      <th>perimeter_mean</th>\n",
       "      <th>area_mean</th>\n",
       "      <th>smoothness_mean</th>\n",
       "      <th>compactness_mean</th>\n",
       "      <th>concavity_mean</th>\n",
       "      <th>concave points_mean</th>\n",
       "      <th>...</th>\n",
       "      <th>radius_worst</th>\n",
       "      <th>texture_worst</th>\n",
       "      <th>perimeter_worst</th>\n",
       "      <th>area_worst</th>\n",
       "      <th>smoothness_worst</th>\n",
       "      <th>compactness_worst</th>\n",
       "      <th>concavity_worst</th>\n",
       "      <th>concave points_worst</th>\n",
       "      <th>symmetry_worst</th>\n",
       "      <th>fractal_dimension_worst</th>\n",
       "    </tr>\n",
       "  </thead>\n",
       "  <tbody>\n",
       "    <tr>\n",
       "      <th>0</th>\n",
       "      <td>842302</td>\n",
       "      <td>M</td>\n",
       "      <td>17.99</td>\n",
       "      <td>10.38</td>\n",
       "      <td>122.80</td>\n",
       "      <td>1001.0</td>\n",
       "      <td>0.11840</td>\n",
       "      <td>0.27760</td>\n",
       "      <td>0.30010</td>\n",
       "      <td>0.14710</td>\n",
       "      <td>...</td>\n",
       "      <td>25.380</td>\n",
       "      <td>17.33</td>\n",
       "      <td>184.60</td>\n",
       "      <td>2019.0</td>\n",
       "      <td>0.16220</td>\n",
       "      <td>0.66560</td>\n",
       "      <td>0.7119</td>\n",
       "      <td>0.2654</td>\n",
       "      <td>0.4601</td>\n",
       "      <td>0.11890</td>\n",
       "    </tr>\n",
       "    <tr>\n",
       "      <th>1</th>\n",
       "      <td>842517</td>\n",
       "      <td>M</td>\n",
       "      <td>20.57</td>\n",
       "      <td>17.77</td>\n",
       "      <td>132.90</td>\n",
       "      <td>1326.0</td>\n",
       "      <td>0.08474</td>\n",
       "      <td>0.07864</td>\n",
       "      <td>0.08690</td>\n",
       "      <td>0.07017</td>\n",
       "      <td>...</td>\n",
       "      <td>24.990</td>\n",
       "      <td>23.41</td>\n",
       "      <td>158.80</td>\n",
       "      <td>1956.0</td>\n",
       "      <td>0.12380</td>\n",
       "      <td>0.18660</td>\n",
       "      <td>0.2416</td>\n",
       "      <td>0.1860</td>\n",
       "      <td>0.2750</td>\n",
       "      <td>0.08902</td>\n",
       "    </tr>\n",
       "    <tr>\n",
       "      <th>2</th>\n",
       "      <td>84300903</td>\n",
       "      <td>M</td>\n",
       "      <td>19.69</td>\n",
       "      <td>21.25</td>\n",
       "      <td>130.00</td>\n",
       "      <td>1203.0</td>\n",
       "      <td>0.10960</td>\n",
       "      <td>0.15990</td>\n",
       "      <td>0.19740</td>\n",
       "      <td>0.12790</td>\n",
       "      <td>...</td>\n",
       "      <td>23.570</td>\n",
       "      <td>25.53</td>\n",
       "      <td>152.50</td>\n",
       "      <td>1709.0</td>\n",
       "      <td>0.14440</td>\n",
       "      <td>0.42450</td>\n",
       "      <td>0.4504</td>\n",
       "      <td>0.2430</td>\n",
       "      <td>0.3613</td>\n",
       "      <td>0.08758</td>\n",
       "    </tr>\n",
       "    <tr>\n",
       "      <th>3</th>\n",
       "      <td>84348301</td>\n",
       "      <td>M</td>\n",
       "      <td>11.42</td>\n",
       "      <td>20.38</td>\n",
       "      <td>77.58</td>\n",
       "      <td>386.1</td>\n",
       "      <td>0.14250</td>\n",
       "      <td>0.28390</td>\n",
       "      <td>0.24140</td>\n",
       "      <td>0.10520</td>\n",
       "      <td>...</td>\n",
       "      <td>14.910</td>\n",
       "      <td>26.50</td>\n",
       "      <td>98.87</td>\n",
       "      <td>567.7</td>\n",
       "      <td>0.20980</td>\n",
       "      <td>0.86630</td>\n",
       "      <td>0.6869</td>\n",
       "      <td>0.2575</td>\n",
       "      <td>0.6638</td>\n",
       "      <td>0.17300</td>\n",
       "    </tr>\n",
       "    <tr>\n",
       "      <th>4</th>\n",
       "      <td>84358402</td>\n",
       "      <td>M</td>\n",
       "      <td>20.29</td>\n",
       "      <td>14.34</td>\n",
       "      <td>135.10</td>\n",
       "      <td>1297.0</td>\n",
       "      <td>0.10030</td>\n",
       "      <td>0.13280</td>\n",
       "      <td>0.19800</td>\n",
       "      <td>0.10430</td>\n",
       "      <td>...</td>\n",
       "      <td>22.540</td>\n",
       "      <td>16.67</td>\n",
       "      <td>152.20</td>\n",
       "      <td>1575.0</td>\n",
       "      <td>0.13740</td>\n",
       "      <td>0.20500</td>\n",
       "      <td>0.4000</td>\n",
       "      <td>0.1625</td>\n",
       "      <td>0.2364</td>\n",
       "      <td>0.07678</td>\n",
       "    </tr>\n",
       "    <tr>\n",
       "      <th>...</th>\n",
       "      <td>...</td>\n",
       "      <td>...</td>\n",
       "      <td>...</td>\n",
       "      <td>...</td>\n",
       "      <td>...</td>\n",
       "      <td>...</td>\n",
       "      <td>...</td>\n",
       "      <td>...</td>\n",
       "      <td>...</td>\n",
       "      <td>...</td>\n",
       "      <td>...</td>\n",
       "      <td>...</td>\n",
       "      <td>...</td>\n",
       "      <td>...</td>\n",
       "      <td>...</td>\n",
       "      <td>...</td>\n",
       "      <td>...</td>\n",
       "      <td>...</td>\n",
       "      <td>...</td>\n",
       "      <td>...</td>\n",
       "      <td>...</td>\n",
       "    </tr>\n",
       "    <tr>\n",
       "      <th>564</th>\n",
       "      <td>926424</td>\n",
       "      <td>M</td>\n",
       "      <td>21.56</td>\n",
       "      <td>22.39</td>\n",
       "      <td>142.00</td>\n",
       "      <td>1479.0</td>\n",
       "      <td>0.11100</td>\n",
       "      <td>0.11590</td>\n",
       "      <td>0.24390</td>\n",
       "      <td>0.13890</td>\n",
       "      <td>...</td>\n",
       "      <td>25.450</td>\n",
       "      <td>26.40</td>\n",
       "      <td>166.10</td>\n",
       "      <td>2027.0</td>\n",
       "      <td>0.14100</td>\n",
       "      <td>0.21130</td>\n",
       "      <td>0.4107</td>\n",
       "      <td>0.2216</td>\n",
       "      <td>0.2060</td>\n",
       "      <td>0.07115</td>\n",
       "    </tr>\n",
       "    <tr>\n",
       "      <th>565</th>\n",
       "      <td>926682</td>\n",
       "      <td>M</td>\n",
       "      <td>20.13</td>\n",
       "      <td>28.25</td>\n",
       "      <td>131.20</td>\n",
       "      <td>1261.0</td>\n",
       "      <td>0.09780</td>\n",
       "      <td>0.10340</td>\n",
       "      <td>0.14400</td>\n",
       "      <td>0.09791</td>\n",
       "      <td>...</td>\n",
       "      <td>23.690</td>\n",
       "      <td>38.25</td>\n",
       "      <td>155.00</td>\n",
       "      <td>1731.0</td>\n",
       "      <td>0.11660</td>\n",
       "      <td>0.19220</td>\n",
       "      <td>0.3215</td>\n",
       "      <td>0.1628</td>\n",
       "      <td>0.2572</td>\n",
       "      <td>0.06637</td>\n",
       "    </tr>\n",
       "    <tr>\n",
       "      <th>566</th>\n",
       "      <td>926954</td>\n",
       "      <td>M</td>\n",
       "      <td>16.60</td>\n",
       "      <td>28.08</td>\n",
       "      <td>108.30</td>\n",
       "      <td>858.1</td>\n",
       "      <td>0.08455</td>\n",
       "      <td>0.10230</td>\n",
       "      <td>0.09251</td>\n",
       "      <td>0.05302</td>\n",
       "      <td>...</td>\n",
       "      <td>18.980</td>\n",
       "      <td>34.12</td>\n",
       "      <td>126.70</td>\n",
       "      <td>1124.0</td>\n",
       "      <td>0.11390</td>\n",
       "      <td>0.30940</td>\n",
       "      <td>0.3403</td>\n",
       "      <td>0.1418</td>\n",
       "      <td>0.2218</td>\n",
       "      <td>0.07820</td>\n",
       "    </tr>\n",
       "    <tr>\n",
       "      <th>567</th>\n",
       "      <td>927241</td>\n",
       "      <td>M</td>\n",
       "      <td>20.60</td>\n",
       "      <td>29.33</td>\n",
       "      <td>140.10</td>\n",
       "      <td>1265.0</td>\n",
       "      <td>0.11780</td>\n",
       "      <td>0.27700</td>\n",
       "      <td>0.35140</td>\n",
       "      <td>0.15200</td>\n",
       "      <td>...</td>\n",
       "      <td>25.740</td>\n",
       "      <td>39.42</td>\n",
       "      <td>184.60</td>\n",
       "      <td>1821.0</td>\n",
       "      <td>0.16500</td>\n",
       "      <td>0.86810</td>\n",
       "      <td>0.9387</td>\n",
       "      <td>0.2650</td>\n",
       "      <td>0.4087</td>\n",
       "      <td>0.12400</td>\n",
       "    </tr>\n",
       "    <tr>\n",
       "      <th>568</th>\n",
       "      <td>92751</td>\n",
       "      <td>B</td>\n",
       "      <td>7.76</td>\n",
       "      <td>24.54</td>\n",
       "      <td>47.92</td>\n",
       "      <td>181.0</td>\n",
       "      <td>0.05263</td>\n",
       "      <td>0.04362</td>\n",
       "      <td>0.00000</td>\n",
       "      <td>0.00000</td>\n",
       "      <td>...</td>\n",
       "      <td>9.456</td>\n",
       "      <td>30.37</td>\n",
       "      <td>59.16</td>\n",
       "      <td>268.6</td>\n",
       "      <td>0.08996</td>\n",
       "      <td>0.06444</td>\n",
       "      <td>0.0000</td>\n",
       "      <td>0.0000</td>\n",
       "      <td>0.2871</td>\n",
       "      <td>0.07039</td>\n",
       "    </tr>\n",
       "  </tbody>\n",
       "</table>\n",
       "<p>569 rows × 32 columns</p>\n",
       "</div>"
      ],
      "text/plain": [
       "           id diagnosis  radius_mean  texture_mean  perimeter_mean  area_mean  \\\n",
       "0      842302         M        17.99         10.38          122.80     1001.0   \n",
       "1      842517         M        20.57         17.77          132.90     1326.0   \n",
       "2    84300903         M        19.69         21.25          130.00     1203.0   \n",
       "3    84348301         M        11.42         20.38           77.58      386.1   \n",
       "4    84358402         M        20.29         14.34          135.10     1297.0   \n",
       "..        ...       ...          ...           ...             ...        ...   \n",
       "564    926424         M        21.56         22.39          142.00     1479.0   \n",
       "565    926682         M        20.13         28.25          131.20     1261.0   \n",
       "566    926954         M        16.60         28.08          108.30      858.1   \n",
       "567    927241         M        20.60         29.33          140.10     1265.0   \n",
       "568     92751         B         7.76         24.54           47.92      181.0   \n",
       "\n",
       "     smoothness_mean  compactness_mean  concavity_mean  concave points_mean  \\\n",
       "0            0.11840           0.27760         0.30010              0.14710   \n",
       "1            0.08474           0.07864         0.08690              0.07017   \n",
       "2            0.10960           0.15990         0.19740              0.12790   \n",
       "3            0.14250           0.28390         0.24140              0.10520   \n",
       "4            0.10030           0.13280         0.19800              0.10430   \n",
       "..               ...               ...             ...                  ...   \n",
       "564          0.11100           0.11590         0.24390              0.13890   \n",
       "565          0.09780           0.10340         0.14400              0.09791   \n",
       "566          0.08455           0.10230         0.09251              0.05302   \n",
       "567          0.11780           0.27700         0.35140              0.15200   \n",
       "568          0.05263           0.04362         0.00000              0.00000   \n",
       "\n",
       "     ...  radius_worst  texture_worst  perimeter_worst  area_worst  \\\n",
       "0    ...        25.380          17.33           184.60      2019.0   \n",
       "1    ...        24.990          23.41           158.80      1956.0   \n",
       "2    ...        23.570          25.53           152.50      1709.0   \n",
       "3    ...        14.910          26.50            98.87       567.7   \n",
       "4    ...        22.540          16.67           152.20      1575.0   \n",
       "..   ...           ...            ...              ...         ...   \n",
       "564  ...        25.450          26.40           166.10      2027.0   \n",
       "565  ...        23.690          38.25           155.00      1731.0   \n",
       "566  ...        18.980          34.12           126.70      1124.0   \n",
       "567  ...        25.740          39.42           184.60      1821.0   \n",
       "568  ...         9.456          30.37            59.16       268.6   \n",
       "\n",
       "     smoothness_worst  compactness_worst  concavity_worst  \\\n",
       "0             0.16220            0.66560           0.7119   \n",
       "1             0.12380            0.18660           0.2416   \n",
       "2             0.14440            0.42450           0.4504   \n",
       "3             0.20980            0.86630           0.6869   \n",
       "4             0.13740            0.20500           0.4000   \n",
       "..                ...                ...              ...   \n",
       "564           0.14100            0.21130           0.4107   \n",
       "565           0.11660            0.19220           0.3215   \n",
       "566           0.11390            0.30940           0.3403   \n",
       "567           0.16500            0.86810           0.9387   \n",
       "568           0.08996            0.06444           0.0000   \n",
       "\n",
       "     concave points_worst  symmetry_worst  fractal_dimension_worst  \n",
       "0                  0.2654          0.4601                  0.11890  \n",
       "1                  0.1860          0.2750                  0.08902  \n",
       "2                  0.2430          0.3613                  0.08758  \n",
       "3                  0.2575          0.6638                  0.17300  \n",
       "4                  0.1625          0.2364                  0.07678  \n",
       "..                    ...             ...                      ...  \n",
       "564                0.2216          0.2060                  0.07115  \n",
       "565                0.1628          0.2572                  0.06637  \n",
       "566                0.1418          0.2218                  0.07820  \n",
       "567                0.2650          0.4087                  0.12400  \n",
       "568                0.0000          0.2871                  0.07039  \n",
       "\n",
       "[569 rows x 32 columns]"
      ]
     },
     "execution_count": 4,
     "metadata": {},
     "output_type": "execute_result"
    }
   ],
   "source": [
    "dataset.drop(\n",
    "    columns=[\"Unnamed: 32\"],\n",
    "    inplace=True,\n",
    ")\n",
    "dataset"
   ]
  },
  {
   "cell_type": "markdown",
   "metadata": {
    "id": "8eKZH3aRFjM-"
   },
   "source": [
    "The above cell gives a summary of our dataset. We can see that we have 569 breast cancer samples, each of which has been labelled with various histological features describing the nature of the cell nuclei, as well as whether the cancer is benign (B) or malignant (M)."
   ]
  },
  {
   "cell_type": "markdown",
   "metadata": {
    "id": "hjFzm13SKK0f"
   },
   "source": [
    "### Dataset features"
   ]
  },
  {
   "cell_type": "markdown",
   "metadata": {
    "id": "4StMKuCSGGvD"
   },
   "source": [
    "The cell nuclei features that the dataset includes are:\n",
    "\n",
    "\n",
    "* radius\n",
    "* texture (standard deviation of the grey-scale values for each pixel)\n",
    "* perimeter\n",
    "* area\n",
    "* smoothness (local variation in radius lengths)\n",
    "* compactness (perimeter^2 / area - 1.0)\n",
    "* concavity (severity of concave portions of the contour)\n",
    "* concave points (number of concave portions of the contour)\n",
    "* symmetry\n",
    "* fractal dimension (ratio of the change in detail of the edge to the change in scale at which it is measured - basically just a measure of roughness)\n",
    "\n",
    "For each feature, we have the mean, standard error and the worst value\n",
    "\n"
   ]
  },
  {
   "cell_type": "markdown",
   "metadata": {
    "id": "WYlRb1wrHvx-"
   },
   "source": [
    "The dataset is also split into 357 benign and 212 malignant samples, which is good because we want a roughly even split to give our model the best chance of picking out the important features that discriminate between the two."
   ]
  },
  {
   "cell_type": "markdown",
   "metadata": {
    "id": "RLWG0I61KPKx"
   },
   "source": [
    "### Feature distributions"
   ]
  },
  {
   "cell_type": "markdown",
   "metadata": {
    "id": "a6KOAs1QKUUZ"
   },
   "source": [
    "We can also perform some simple statistical calculations and plot histograms for each feature to get a feel for how they are distributed. For now, we will only be considering the mean values to make our analysis and model simpler."
   ]
  },
  {
   "cell_type": "code",
   "execution_count": 5,
   "metadata": {
    "colab": {
     "base_uri": "https://localhost:8080/",
     "height": 337
    },
    "id": "axjOnetzK21b",
    "outputId": "e01f5051-cd27-46f8-fd9b-214833ca0be7"
   },
   "outputs": [
    {
     "data": {
      "text/html": [
       "<div>\n",
       "<style scoped>\n",
       "    .dataframe tbody tr th:only-of-type {\n",
       "        vertical-align: middle;\n",
       "    }\n",
       "\n",
       "    .dataframe tbody tr th {\n",
       "        vertical-align: top;\n",
       "    }\n",
       "\n",
       "    .dataframe thead th {\n",
       "        text-align: right;\n",
       "    }\n",
       "</style>\n",
       "<table border=\"1\" class=\"dataframe\">\n",
       "  <thead>\n",
       "    <tr style=\"text-align: right;\">\n",
       "      <th></th>\n",
       "      <th>radius_mean</th>\n",
       "      <th>texture_mean</th>\n",
       "      <th>perimeter_mean</th>\n",
       "      <th>area_mean</th>\n",
       "      <th>smoothness_mean</th>\n",
       "      <th>compactness_mean</th>\n",
       "      <th>concavity_mean</th>\n",
       "      <th>concave points_mean</th>\n",
       "      <th>symmetry_mean</th>\n",
       "      <th>fractal_dimension_mean</th>\n",
       "    </tr>\n",
       "  </thead>\n",
       "  <tbody>\n",
       "    <tr>\n",
       "      <th>count</th>\n",
       "      <td>569.000000</td>\n",
       "      <td>569.000000</td>\n",
       "      <td>569.000000</td>\n",
       "      <td>569.000000</td>\n",
       "      <td>569.000000</td>\n",
       "      <td>569.000000</td>\n",
       "      <td>569.000000</td>\n",
       "      <td>569.000000</td>\n",
       "      <td>569.000000</td>\n",
       "      <td>569.000000</td>\n",
       "    </tr>\n",
       "    <tr>\n",
       "      <th>mean</th>\n",
       "      <td>14.127292</td>\n",
       "      <td>19.289649</td>\n",
       "      <td>91.969033</td>\n",
       "      <td>654.889104</td>\n",
       "      <td>0.096360</td>\n",
       "      <td>0.104341</td>\n",
       "      <td>0.088799</td>\n",
       "      <td>0.048919</td>\n",
       "      <td>0.181162</td>\n",
       "      <td>0.062798</td>\n",
       "    </tr>\n",
       "    <tr>\n",
       "      <th>std</th>\n",
       "      <td>3.524049</td>\n",
       "      <td>4.301036</td>\n",
       "      <td>24.298981</td>\n",
       "      <td>351.914129</td>\n",
       "      <td>0.014064</td>\n",
       "      <td>0.052813</td>\n",
       "      <td>0.079720</td>\n",
       "      <td>0.038803</td>\n",
       "      <td>0.027414</td>\n",
       "      <td>0.007060</td>\n",
       "    </tr>\n",
       "    <tr>\n",
       "      <th>min</th>\n",
       "      <td>6.981000</td>\n",
       "      <td>9.710000</td>\n",
       "      <td>43.790000</td>\n",
       "      <td>143.500000</td>\n",
       "      <td>0.052630</td>\n",
       "      <td>0.019380</td>\n",
       "      <td>0.000000</td>\n",
       "      <td>0.000000</td>\n",
       "      <td>0.106000</td>\n",
       "      <td>0.049960</td>\n",
       "    </tr>\n",
       "    <tr>\n",
       "      <th>25%</th>\n",
       "      <td>11.700000</td>\n",
       "      <td>16.170000</td>\n",
       "      <td>75.170000</td>\n",
       "      <td>420.300000</td>\n",
       "      <td>0.086370</td>\n",
       "      <td>0.064920</td>\n",
       "      <td>0.029560</td>\n",
       "      <td>0.020310</td>\n",
       "      <td>0.161900</td>\n",
       "      <td>0.057700</td>\n",
       "    </tr>\n",
       "    <tr>\n",
       "      <th>50%</th>\n",
       "      <td>13.370000</td>\n",
       "      <td>18.840000</td>\n",
       "      <td>86.240000</td>\n",
       "      <td>551.100000</td>\n",
       "      <td>0.095870</td>\n",
       "      <td>0.092630</td>\n",
       "      <td>0.061540</td>\n",
       "      <td>0.033500</td>\n",
       "      <td>0.179200</td>\n",
       "      <td>0.061540</td>\n",
       "    </tr>\n",
       "    <tr>\n",
       "      <th>75%</th>\n",
       "      <td>15.780000</td>\n",
       "      <td>21.800000</td>\n",
       "      <td>104.100000</td>\n",
       "      <td>782.700000</td>\n",
       "      <td>0.105300</td>\n",
       "      <td>0.130400</td>\n",
       "      <td>0.130700</td>\n",
       "      <td>0.074000</td>\n",
       "      <td>0.195700</td>\n",
       "      <td>0.066120</td>\n",
       "    </tr>\n",
       "    <tr>\n",
       "      <th>max</th>\n",
       "      <td>28.110000</td>\n",
       "      <td>39.280000</td>\n",
       "      <td>188.500000</td>\n",
       "      <td>2501.000000</td>\n",
       "      <td>0.163400</td>\n",
       "      <td>0.345400</td>\n",
       "      <td>0.426800</td>\n",
       "      <td>0.201200</td>\n",
       "      <td>0.304000</td>\n",
       "      <td>0.097440</td>\n",
       "    </tr>\n",
       "  </tbody>\n",
       "</table>\n",
       "</div>"
      ],
      "text/plain": [
       "       radius_mean  texture_mean  perimeter_mean    area_mean  \\\n",
       "count   569.000000    569.000000      569.000000   569.000000   \n",
       "mean     14.127292     19.289649       91.969033   654.889104   \n",
       "std       3.524049      4.301036       24.298981   351.914129   \n",
       "min       6.981000      9.710000       43.790000   143.500000   \n",
       "25%      11.700000     16.170000       75.170000   420.300000   \n",
       "50%      13.370000     18.840000       86.240000   551.100000   \n",
       "75%      15.780000     21.800000      104.100000   782.700000   \n",
       "max      28.110000     39.280000      188.500000  2501.000000   \n",
       "\n",
       "       smoothness_mean  compactness_mean  concavity_mean  concave points_mean  \\\n",
       "count       569.000000        569.000000      569.000000           569.000000   \n",
       "mean          0.096360          0.104341        0.088799             0.048919   \n",
       "std           0.014064          0.052813        0.079720             0.038803   \n",
       "min           0.052630          0.019380        0.000000             0.000000   \n",
       "25%           0.086370          0.064920        0.029560             0.020310   \n",
       "50%           0.095870          0.092630        0.061540             0.033500   \n",
       "75%           0.105300          0.130400        0.130700             0.074000   \n",
       "max           0.163400          0.345400        0.426800             0.201200   \n",
       "\n",
       "       symmetry_mean  fractal_dimension_mean  \n",
       "count     569.000000              569.000000  \n",
       "mean        0.181162                0.062798  \n",
       "std         0.027414                0.007060  \n",
       "min         0.106000                0.049960  \n",
       "25%         0.161900                0.057700  \n",
       "50%         0.179200                0.061540  \n",
       "75%         0.195700                0.066120  \n",
       "max         0.304000                0.097440  "
      ]
     },
     "execution_count": 5,
     "metadata": {},
     "output_type": "execute_result"
    }
   ],
   "source": [
    "dataset_mean = dataset.iloc[:, 1:12]\n",
    "dataset_mean.describe()"
   ]
  },
  {
   "cell_type": "code",
   "execution_count": 6,
   "metadata": {
    "colab": {
     "base_uri": "https://localhost:8080/",
     "height": 1000
    },
    "id": "s2_ZJokbWG5U",
    "outputId": "315290a0-5362-41fe-a041-6655d53f7251"
   },
   "outputs": [
    {
     "data": {
      "text/plain": [
       "array([[<Axes: title={'center': 'radius_mean'}>,\n",
       "        <Axes: title={'center': 'texture_mean'}>,\n",
       "        <Axes: title={'center': 'perimeter_mean'}>],\n",
       "       [<Axes: title={'center': 'area_mean'}>,\n",
       "        <Axes: title={'center': 'smoothness_mean'}>,\n",
       "        <Axes: title={'center': 'compactness_mean'}>],\n",
       "       [<Axes: title={'center': 'concavity_mean'}>,\n",
       "        <Axes: title={'center': 'concave points_mean'}>,\n",
       "        <Axes: title={'center': 'symmetry_mean'}>],\n",
       "       [<Axes: title={'center': 'fractal_dimension_mean'}>, <Axes: >,\n",
       "        <Axes: >]], dtype=object)"
      ]
     },
     "execution_count": 6,
     "metadata": {},
     "output_type": "execute_result"
    },
    {
     "data": {
      "image/png": "[encoded data removed]",
      "text/plain": [
       "<Figure size 2000x2000 with 12 Axes>"
      ]
     },
     "metadata": {},
     "output_type": "display_data"
    }
   ],
   "source": [
    "dataset_mean.hist(figsize=(20, 20), rwidth=0.95)"
   ]
  },
  {
   "cell_type": "markdown",
   "metadata": {
    "id": "wb1BZ0l1RVfU"
   },
   "source": [
    "### Splitting the data"
   ]
  },
  {
   "cell_type": "markdown",
   "metadata": {
    "id": "9PkxBqigRZM0"
   },
   "source": [
    "Because neural networks can be an example of a supervised machine learning algorithm, we need to split the samples in our dataset into two sets:\n",
    "\n",
    "\n",
    "*   **Training set** - this is the set that our neural network will learn from\n",
    "*   **Testing set** - this is the set we will use to assess how good our model is\n",
    "\n",
    "To do this, we will randomly allocate 80% of the samples to the training set and 20% of the samples to the testing set. It is also a good idea to split off our inputs (cell nuclei features) from our output (benign or malignant) at this stage.\n",
    "\n"
   ]
  },
  {
   "cell_type": "code",
   "execution_count": 7,
   "metadata": {
    "id": "ja-u5SfsRY3r"
   },
   "outputs": [],
   "source": [
    "y_dataset_mean = dataset_mean.iloc[:, 0]\n",
    "x_dataset_mean = dataset_mean.iloc[:, 1:]\n",
    "\n",
    "X_train, X_test, y_train, y_test = train_test_split(\n",
    "    x_dataset_mean,\n",
    "    y_dataset_mean,\n",
    "    test_size=0.2,  # this says that 20% of the dataset will be allocated to the test set\n",
    "    random_state=42,\n",
    ")  # this sets the \"seed\" for the random allocation - it's not too important to understand but essentially allows us to recreate the same allocation in the future if we needed to"
   ]
  },
  {
   "cell_type": "markdown",
   "metadata": {
    "id": "q8tqP5f8dsQu"
   },
   "source": [
    "### Feature scaling"
   ]
  },
  {
   "cell_type": "markdown",
   "metadata": {
    "id": "qzqH-LUueku_"
   },
   "source": [
    "Because each feature can take different ranges of values, it is common practice to \"scale\" the values so that they are similar. This helps speed up the training process and improves accuracy.\n",
    "<br><br>\n",
    "Here, we will use a feature scaling method called **standardisation**, where we scale each value in a feature so that the overall distribution has a mean of 0 and a variance of 1."
   ]
  },
  {
   "cell_type": "code",
   "execution_count": 8,
   "metadata": {
    "id": "U-y7MxTod1su"
   },
   "outputs": [],
   "source": [
    "sc = StandardScaler()\n",
    "X_train = sc.fit_transform(X_train)\n",
    "X_test = sc.fit_transform(X_test)"
   ]
  },
  {
   "cell_type": "markdown",
   "metadata": {
    "id": "SzabHOXcLxHs"
   },
   "source": [
    "## Building the model"
   ]
  },
  {
   "cell_type": "markdown",
   "metadata": {
    "id": "CSPJUAdBMDZp"
   },
   "source": [
    "### Defining the model architecture"
   ]
  },
  {
   "cell_type": "markdown",
   "metadata": {
    "id": "6G8IyzGzMI6A"
   },
   "source": [
    "We are now ready to start building our neural newtork. The first thing we need to decide on is what our network should look like i.e. how many layers we should have, and how many neurons should be in each layer.\n",
    "<br><br>\n",
    "The first layer will be taking in our inputs, so there must be 1 neuron for each feature i.e. 10. Likewise, the final layer will be giving us our output. We are only interested in 1 output parameter - the probability of a breast cancer sample being malignant. We therefore want only 1 neuron in our output layer. (We automatically get the probability of it being benign, since probabilities must add up to 1)\n",
    "<br><br>\n",
    "The structure of the neural network in between is completely up to us. There are no clear rules for an optimal architecture, so deciding on this is largely down to prior experience and trial & error.\n",
    "<br><br>\n",
    "For now, let's go with 2 hidden layers, the first with 6 neurons and the second with 3 neurons. You'll get a chance later to design your own neural network architecture to see if it outperforms this one!\n",
    "<br><br>\n",
    "This is a visualisation of what the network will look like:"
   ]
  },
  {
   "cell_type": "markdown",
   "metadata": {
    "id": "-YdBkib5QU51"
   },
   "source": [
    "![nn.png](data:image/png;base64,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)"
   ]
  },
  {
   "cell_type": "code",
   "execution_count": 9,
   "metadata": {
    "id": "MKgV1CVlLwqw"
   },
   "outputs": [],
   "source": [
    "classifier = MLPClassifier(\n",
    "    hidden_layer_sizes=(\n",
    "        6,\n",
    "        3,\n",
    "    ),  # number of neurons in each hidden layer, first number is the number of neuron in the first hidden layer and so on\n",
    "    max_iter=500,  # maximum number of epochs (the number of times we run backpropagation through the entire training set)\n",
    "    learning_rate_init=0.001,  # the learning rate used in gradient descent\n",
    "    activation=\"relu\",  # RELU activation function\n",
    "    solver=\"sgd\",  # sets the type of gradient descent used\n",
    "    random_state=42,\n",
    ")  # random seed"
   ]
  },
  {
   "cell_type": "markdown",
   "metadata": {
    "id": "dfqevmW1YAST"
   },
   "source": [
    "### Training"
   ]
  },
  {
   "cell_type": "markdown",
   "metadata": {
    "id": "Cr_-6sYTU-V-"
   },
   "source": [
    "This line of code runs through the backpropagation algorithm until the cost function converges onto a minimum value"
   ]
  },
  {
   "cell_type": "code",
   "execution_count": 10,
   "metadata": {
    "colab": {
     "base_uri": "https://localhost:8080/",
     "height": 91
    },
    "id": "5ODuysu4lvuM",
    "outputId": "f6f6e8bd-860c-4132-997f-80d4c8ecf04b"
   },
   "outputs": [
    {
     "data": {
      "text/html": [
       "<style>#sk-container-id-1 {\n",
       "  /* Definition of color scheme common for light and dark mode */\n",
       "  --sklearn-color-text: black;\n",
       "  --sklearn-color-line: gray;\n",
       "  /* Definition of color scheme for unfitted estimators */\n",
       "  --sklearn-color-unfitted-level-0: #fff5e6;\n",
       "  --sklearn-color-unfitted-level-1: #f6e4d2;\n",
       "  --sklearn-color-unfitted-level-2: #ffe0b3;\n",
       "  --sklearn-color-unfitted-level-3: chocolate;\n",
       "  /* Definition of color scheme for fitted estimators */\n",
       "  --sklearn-color-fitted-level-0: #f0f8ff;\n",
       "  --sklearn-color-fitted-level-1: #d4ebff;\n",
       "  --sklearn-color-fitted-level-2: #b3dbfd;\n",
       "  --sklearn-color-fitted-level-3: cornflowerblue;\n",
       "\n",
       "  /* Specific color for light theme */\n",
       "  --sklearn-color-text-on-default-background: var(--sg-text-color, var(--theme-code-foreground, var(--jp-content-font-color1, black)));\n",
       "  --sklearn-color-background: var(--sg-background-color, var(--theme-background, var(--jp-layout-color0, white)));\n",
       "  --sklearn-color-border-box: var(--sg-text-color, var(--theme-code-foreground, var(--jp-content-font-color1, black)));\n",
       "  --sklearn-color-icon: #696969;\n",
       "\n",
       "  @media (prefers-color-scheme: dark) {\n",
       "    /* Redefinition of color scheme for dark theme */\n",
       "    --sklearn-color-text-on-default-background: var(--sg-text-color, var(--theme-code-foreground, var(--jp-content-font-color1, white)));\n",
       "    --sklearn-color-background: var(--sg-background-color, var(--theme-background, var(--jp-layout-color0, #111)));\n",
       "    --sklearn-color-border-box: var(--sg-text-color, var(--theme-code-foreground, var(--jp-content-font-color1, white)));\n",
       "    --sklearn-color-icon: #878787;\n",
       "  }\n",
       "}\n",
       "\n",
       "#sk-container-id-1 {\n",
       "  color: var(--sklearn-color-text);\n",
       "}\n",
       "\n",
       "#sk-container-id-1 pre {\n",
       "  padding: 0;\n",
       "}\n",
       "\n",
       "#sk-container-id-1 input.sk-hidden--visually {\n",
       "  border: 0;\n",
       "  clip: rect(1px 1px 1px 1px);\n",
       "  clip: rect(1px, 1px, 1px, 1px);\n",
       "  height: 1px;\n",
       "  margin: -1px;\n",
       "  overflow: hidden;\n",
       "  padding: 0;\n",
       "  position: absolute;\n",
       "  width: 1px;\n",
       "}\n",
       "\n",
       "#sk-container-id-1 div.sk-dashed-wrapped {\n",
       "  border: 1px dashed var(--sklearn-color-line);\n",
       "  margin: 0 0.4em 0.5em 0.4em;\n",
       "  box-sizing: border-box;\n",
       "  padding-bottom: 0.4em;\n",
       "  background-color: var(--sklearn-color-background);\n",
       "}\n",
       "\n",
       "#sk-container-id-1 div.sk-container {\n",
       "  /* jupyter's `normalize.less` sets `[hidden] { display: none; }`\n",
       "     but bootstrap.min.css set `[hidden] { display: none !important; }`\n",
       "     so we also need the `!important` here to be able to override the\n",
       "     default hidden behavior on the sphinx rendered scikit-learn.org.\n",
       "     See: https://github.com/scikit-learn/scikit-learn/issues/21755 */\n",
       "  display: inline-block !important;\n",
       "  position: relative;\n",
       "}\n",
       "\n",
       "#sk-container-id-1 div.sk-text-repr-fallback {\n",
       "  display: none;\n",
       "}\n",
       "\n",
       "div.sk-parallel-item,\n",
       "div.sk-serial,\n",
       "div.sk-item {\n",
       "  /* draw centered vertical line to link estimators */\n",
       "  background-image: linear-gradient(var(--sklearn-color-text-on-default-background), var(--sklearn-color-text-on-default-background));\n",
       "  background-size: 2px 100%;\n",
       "  background-repeat: no-repeat;\n",
       "  background-position: center center;\n",
       "}\n",
       "\n",
       "/* Parallel-specific style estimator block */\n",
       "\n",
       "#sk-container-id-1 div.sk-parallel-item::after {\n",
       "  content: \"\";\n",
       "  width: 100%;\n",
       "  border-bottom: 2px solid var(--sklearn-color-text-on-default-background);\n",
       "  flex-grow: 1;\n",
       "}\n",
       "\n",
       "#sk-container-id-1 div.sk-parallel {\n",
       "  display: flex;\n",
       "  align-items: stretch;\n",
       "  justify-content: center;\n",
       "  background-color: var(--sklearn-color-background);\n",
       "  position: relative;\n",
       "}\n",
       "\n",
       "#sk-container-id-1 div.sk-parallel-item {\n",
       "  display: flex;\n",
       "  flex-direction: column;\n",
       "}\n",
       "\n",
       "#sk-container-id-1 div.sk-parallel-item:first-child::after {\n",
       "  align-self: flex-end;\n",
       "  width: 50%;\n",
       "}\n",
       "\n",
       "#sk-container-id-1 div.sk-parallel-item:last-child::after {\n",
       "  align-self: flex-start;\n",
       "  width: 50%;\n",
       "}\n",
       "\n",
       "#sk-container-id-1 div.sk-parallel-item:only-child::after {\n",
       "  width: 0;\n",
       "}\n",
       "\n",
       "/* Serial-specific style estimator block */\n",
       "\n",
       "#sk-container-id-1 div.sk-serial {\n",
       "  display: flex;\n",
       "  flex-direction: column;\n",
       "  align-items: center;\n",
       "  background-color: var(--sklearn-color-background);\n",
       "  padding-right: 1em;\n",
       "  padding-left: 1em;\n",
       "}\n",
       "\n",
       "\n",
       "/* Toggleable style: style used for estimator/Pipeline/ColumnTransformer box that is\n",
       "clickable and can be expanded/collapsed.\n",
       "- Pipeline and ColumnTransformer use this feature and define the default style\n",
       "- Estimators will overwrite some part of the style using the `sk-estimator` class\n",
       "*/\n",
       "\n",
       "/* Pipeline and ColumnTransformer style (default) */\n",
       "\n",
       "#sk-container-id-1 div.sk-toggleable {\n",
       "  /* Default theme specific background. It is overwritten whether we have a\n",
       "  specific estimator or a Pipeline/ColumnTransformer */\n",
       "  background-color: var(--sklearn-color-background);\n",
       "}\n",
       "\n",
       "/* Toggleable label */\n",
       "#sk-container-id-1 label.sk-toggleable__label {\n",
       "  cursor: pointer;\n",
       "  display: block;\n",
       "  width: 100%;\n",
       "  margin-bottom: 0;\n",
       "  padding: 0.5em;\n",
       "  box-sizing: border-box;\n",
       "  text-align: center;\n",
       "}\n",
       "\n",
       "#sk-container-id-1 label.sk-toggleable__label-arrow:before {\n",
       "  /* Arrow on the left of the label */\n",
       "  content: \"▸\";\n",
       "  float: left;\n",
       "  margin-right: 0.25em;\n",
       "  color: var(--sklearn-color-icon);\n",
       "}\n",
       "\n",
       "#sk-container-id-1 label.sk-toggleable__label-arrow:hover:before {\n",
       "  color: var(--sklearn-color-text);\n",
       "}\n",
       "\n",
       "/* Toggleable content - dropdown */\n",
       "\n",
       "#sk-container-id-1 div.sk-toggleable__content {\n",
       "  max-height: 0;\n",
       "  max-width: 0;\n",
       "  overflow: hidden;\n",
       "  text-align: left;\n",
       "  /* unfitted */\n",
       "  background-color: var(--sklearn-color-unfitted-level-0);\n",
       "}\n",
       "\n",
       "#sk-container-id-1 div.sk-toggleable__content.fitted {\n",
       "  /* fitted */\n",
       "  background-color: var(--sklearn-color-fitted-level-0);\n",
       "}\n",
       "\n",
       "#sk-container-id-1 div.sk-toggleable__content pre {\n",
       "  margin: 0.2em;\n",
       "  border-radius: 0.25em;\n",
       "  color: var(--sklearn-color-text);\n",
       "  /* unfitted */\n",
       "  background-color: var(--sklearn-color-unfitted-level-0);\n",
       "}\n",
       "\n",
       "#sk-container-id-1 div.sk-toggleable__content.fitted pre {\n",
       "  /* unfitted */\n",
       "  background-color: var(--sklearn-color-fitted-level-0);\n",
       "}\n",
       "\n",
       "#sk-container-id-1 input.sk-toggleable__control:checked~div.sk-toggleable__content {\n",
       "  /* Expand drop-down */\n",
       "  max-height: 200px;\n",
       "  max-width: 100%;\n",
       "  overflow: auto;\n",
       "}\n",
       "\n",
       "#sk-container-id-1 input.sk-toggleable__control:checked~label.sk-toggleable__label-arrow:before {\n",
       "  content: \"▾\";\n",
       "}\n",
       "\n",
       "/* Pipeline/ColumnTransformer-specific style */\n",
       "\n",
       "#sk-container-id-1 div.sk-label input.sk-toggleable__control:checked~label.sk-toggleable__label {\n",
       "  color: var(--sklearn-color-text);\n",
       "  background-color: var(--sklearn-color-unfitted-level-2);\n",
       "}\n",
       "\n",
       "#sk-container-id-1 div.sk-label.fitted input.sk-toggleable__control:checked~label.sk-toggleable__label {\n",
       "  background-color: var(--sklearn-color-fitted-level-2);\n",
       "}\n",
       "\n",
       "/* Estimator-specific style */\n",
       "\n",
       "/* Colorize estimator box */\n",
       "#sk-container-id-1 div.sk-estimator input.sk-toggleable__control:checked~label.sk-toggleable__label {\n",
       "  /* unfitted */\n",
       "  background-color: var(--sklearn-color-unfitted-level-2);\n",
       "}\n",
       "\n",
       "#sk-container-id-1 div.sk-estimator.fitted input.sk-toggleable__control:checked~label.sk-toggleable__label {\n",
       "  /* fitted */\n",
       "  background-color: var(--sklearn-color-fitted-level-2);\n",
       "}\n",
       "\n",
       "#sk-container-id-1 div.sk-label label.sk-toggleable__label,\n",
       "#sk-container-id-1 div.sk-label label {\n",
       "  /* The background is the default theme color */\n",
       "  color: var(--sklearn-color-text-on-default-background);\n",
       "}\n",
       "\n",
       "/* On hover, darken the color of the background */\n",
       "#sk-container-id-1 div.sk-label:hover label.sk-toggleable__label {\n",
       "  color: var(--sklearn-color-text);\n",
       "  background-color: var(--sklearn-color-unfitted-level-2);\n",
       "}\n",
       "\n",
       "/* Label box, darken color on hover, fitted */\n",
       "#sk-container-id-1 div.sk-label.fitted:hover label.sk-toggleable__label.fitted {\n",
       "  color: var(--sklearn-color-text);\n",
       "  background-color: var(--sklearn-color-fitted-level-2);\n",
       "}\n",
       "\n",
       "/* Estimator label */\n",
       "\n",
       "#sk-container-id-1 div.sk-label label {\n",
       "  font-family: monospace;\n",
       "  font-weight: bold;\n",
       "  display: inline-block;\n",
       "  line-height: 1.2em;\n",
       "}\n",
       "\n",
       "#sk-container-id-1 div.sk-label-container {\n",
       "  text-align: center;\n",
       "}\n",
       "\n",
       "/* Estimator-specific */\n",
       "#sk-container-id-1 div.sk-estimator {\n",
       "  font-family: monospace;\n",
       "  border: 1px dotted var(--sklearn-color-border-box);\n",
       "  border-radius: 0.25em;\n",
       "  box-sizing: border-box;\n",
       "  margin-bottom: 0.5em;\n",
       "  /* unfitted */\n",
       "  background-color: var(--sklearn-color-unfitted-level-0);\n",
       "}\n",
       "\n",
       "#sk-container-id-1 div.sk-estimator.fitted {\n",
       "  /* fitted */\n",
       "  background-color: var(--sklearn-color-fitted-level-0);\n",
       "}\n",
       "\n",
       "/* on hover */\n",
       "#sk-container-id-1 div.sk-estimator:hover {\n",
       "  /* unfitted */\n",
       "  background-color: var(--sklearn-color-unfitted-level-2);\n",
       "}\n",
       "\n",
       "#sk-container-id-1 div.sk-estimator.fitted:hover {\n",
       "  /* fitted */\n",
       "  background-color: var(--sklearn-color-fitted-level-2);\n",
       "}\n",
       "\n",
       "/* Specification for estimator info (e.g. \"i\" and \"?\") */\n",
       "\n",
       "/* Common style for \"i\" and \"?\" */\n",
       "\n",
       ".sk-estimator-doc-link,\n",
       "a:link.sk-estimator-doc-link,\n",
       "a:visited.sk-estimator-doc-link {\n",
       "  float: right;\n",
       "  font-size: smaller;\n",
       "  line-height: 1em;\n",
       "  font-family: monospace;\n",
       "  background-color: var(--sklearn-color-background);\n",
       "  border-radius: 1em;\n",
       "  height: 1em;\n",
       "  width: 1em;\n",
       "  text-decoration: none !important;\n",
       "  margin-left: 1ex;\n",
       "  /* unfitted */\n",
       "  border: var(--sklearn-color-unfitted-level-1) 1pt solid;\n",
       "  color: var(--sklearn-color-unfitted-level-1);\n",
       "}\n",
       "\n",
       ".sk-estimator-doc-link.fitted,\n",
       "a:link.sk-estimator-doc-link.fitted,\n",
       "a:visited.sk-estimator-doc-link.fitted {\n",
       "  /* fitted */\n",
       "  border: var(--sklearn-color-fitted-level-1) 1pt solid;\n",
       "  color: var(--sklearn-color-fitted-level-1);\n",
       "}\n",
       "\n",
       "/* On hover */\n",
       "div.sk-estimator:hover .sk-estimator-doc-link:hover,\n",
       ".sk-estimator-doc-link:hover,\n",
       "div.sk-label-container:hover .sk-estimator-doc-link:hover,\n",
       ".sk-estimator-doc-link:hover {\n",
       "  /* unfitted */\n",
       "  background-color: var(--sklearn-color-unfitted-level-3);\n",
       "  color: var(--sklearn-color-background);\n",
       "  text-decoration: none;\n",
       "}\n",
       "\n",
       "div.sk-estimator.fitted:hover .sk-estimator-doc-link.fitted:hover,\n",
       ".sk-estimator-doc-link.fitted:hover,\n",
       "div.sk-label-container:hover .sk-estimator-doc-link.fitted:hover,\n",
       ".sk-estimator-doc-link.fitted:hover {\n",
       "  /* fitted */\n",
       "  background-color: var(--sklearn-color-fitted-level-3);\n",
       "  color: var(--sklearn-color-background);\n",
       "  text-decoration: none;\n",
       "}\n",
       "\n",
       "/* Span, style for the box shown on hovering the info icon */\n",
       ".sk-estimator-doc-link span {\n",
       "  display: none;\n",
       "  z-index: 9999;\n",
       "  position: relative;\n",
       "  font-weight: normal;\n",
       "  right: .2ex;\n",
       "  padding: .5ex;\n",
       "  margin: .5ex;\n",
       "  width: min-content;\n",
       "  min-width: 20ex;\n",
       "  max-width: 50ex;\n",
       "  color: var(--sklearn-color-text);\n",
       "  box-shadow: 2pt 2pt 4pt #999;\n",
       "  /* unfitted */\n",
       "  background: var(--sklearn-color-unfitted-level-0);\n",
       "  border: .5pt solid var(--sklearn-color-unfitted-level-3);\n",
       "}\n",
       "\n",
       ".sk-estimator-doc-link.fitted span {\n",
       "  /* fitted */\n",
       "  background: var(--sklearn-color-fitted-level-0);\n",
       "  border: var(--sklearn-color-fitted-level-3);\n",
       "}\n",
       "\n",
       ".sk-estimator-doc-link:hover span {\n",
       "  display: block;\n",
       "}\n",
       "\n",
       "/* \"?\"-specific style due to the `<a>` HTML tag */\n",
       "\n",
       "#sk-container-id-1 a.estimator_doc_link {\n",
       "  float: right;\n",
       "  font-size: 1rem;\n",
       "  line-height: 1em;\n",
       "  font-family: monospace;\n",
       "  background-color: var(--sklearn-color-background);\n",
       "  border-radius: 1rem;\n",
       "  height: 1rem;\n",
       "  width: 1rem;\n",
       "  text-decoration: none;\n",
       "  /* unfitted */\n",
       "  color: var(--sklearn-color-unfitted-level-1);\n",
       "  border: var(--sklearn-color-unfitted-level-1) 1pt solid;\n",
       "}\n",
       "\n",
       "#sk-container-id-1 a.estimator_doc_link.fitted {\n",
       "  /* fitted */\n",
       "  border: var(--sklearn-color-fitted-level-1) 1pt solid;\n",
       "  color: var(--sklearn-color-fitted-level-1);\n",
       "}\n",
       "\n",
       "/* On hover */\n",
       "#sk-container-id-1 a.estimator_doc_link:hover {\n",
       "  /* unfitted */\n",
       "  background-color: var(--sklearn-color-unfitted-level-3);\n",
       "  color: var(--sklearn-color-background);\n",
       "  text-decoration: none;\n",
       "}\n",
       "\n",
       "#sk-container-id-1 a.estimator_doc_link.fitted:hover {\n",
       "  /* fitted */\n",
       "  background-color: var(--sklearn-color-fitted-level-3);\n",
       "}\n",
       "</style><div id=\"sk-container-id-1\" class=\"sk-top-container\"><div class=\"sk-text-repr-fallback\"><pre>MLPClassifier(hidden_layer_sizes=(6, 3), max_iter=500, random_state=42,\n",
       "              solver=&#x27;sgd&#x27;)</pre><b>In a Jupyter environment, please rerun this cell to show the HTML representation or trust the notebook. <br />On GitHub, the HTML representation is unable to render, please try loading this page with nbviewer.org.</b></div><div class=\"sk-container\" hidden><div class=\"sk-item\"><div class=\"sk-estimator fitted sk-toggleable\"><input class=\"sk-toggleable__control sk-hidden--visually\" id=\"sk-estimator-id-1\" type=\"checkbox\" checked><label for=\"sk-estimator-id-1\" class=\"sk-toggleable__label fitted sk-toggleable__label-arrow fitted\">&nbsp;&nbsp;MLPClassifier<a class=\"sk-estimator-doc-link fitted\" rel=\"noreferrer\" target=\"_blank\" href=\"https://scikit-learn.org/1.5/modules/generated/sklearn.neural_network.MLPClassifier.html\">?<span>Documentation for MLPClassifier</span></a><span class=\"sk-estimator-doc-link fitted\">i<span>Fitted</span></span></label><div class=\"sk-toggleable__content fitted\"><pre>MLPClassifier(hidden_layer_sizes=(6, 3), max_iter=500, random_state=42,\n",
       "              solver=&#x27;sgd&#x27;)</pre></div> </div></div></div></div>"
      ],
      "text/plain": [
       "MLPClassifier(hidden_layer_sizes=(6, 3), max_iter=500, random_state=42,\n",
       "              solver='sgd')"
      ]
     },
     "execution_count": 10,
     "metadata": {},
     "output_type": "execute_result"
    }
   ],
   "source": [
    "classifier.fit(X_train, y_train)"
   ]
  },
  {
   "cell_type": "markdown",
   "metadata": {
    "id": "R7Il9VZmYDfy"
   },
   "source": [
    "### Testing"
   ]
  },
  {
   "cell_type": "markdown",
   "metadata": {
    "id": "n9dhMBnHVFnF"
   },
   "source": [
    "We've now trained our model and want to see how well it predicts malignancy in the test set. To do this, we pass through the cell nuclei features of each test example into the model and compare the prediction with the true diagnosis.\n",
    "<br><br>\n",
    "We can visualise the results using a Confusion Matrix (0 -- benign, 1 -- malignant):"
   ]
  },
  {
   "cell_type": "code",
   "execution_count": 11,
   "metadata": {
    "colab": {
     "base_uri": "https://localhost:8080/"
    },
    "id": "jSuktVnxl6jy",
    "outputId": "44fda614-db35-478c-b8ee-1ea6f68d1eaa"
   },
   "outputs": [
    {
     "data": {
      "text/plain": [
       "<sklearn.metrics._plot.confusion_matrix.ConfusionMatrixDisplay at 0x128037e60>"
      ]
     },
     "execution_count": 11,
     "metadata": {},
     "output_type": "execute_result"
    },
    {
     "data": {
      "image/png": "[encoded data removed]",
      "text/plain": [
       "<Figure size 640x480 with 2 Axes>"
      ]
     },
     "metadata": {},
     "output_type": "display_data"
    }
   ],
   "source": [
    "y_pred = classifier.predict(X_test)\n",
    "cm = confusion_matrix(y_test, y_pred)\n",
    "ConfusionMatrixDisplay(cm).plot()"
   ]
  },
  {
   "cell_type": "markdown",
   "metadata": {
    "id": "ou6NFO6tUFRQ"
   },
   "source": [
    "We can see that the model performs pretty well, with only 5 incorrect predictions out of a total of 114. We can represent this numerically by calculating the accuracy of the model:\n",
    "\n",
    "$Accuracy = \\frac{Number ~ of ~ correct ~ predictions}{Total ~ number ~ of ~ predictions} = \\frac{TP + TN}{TP + TN + FP + FN},$\n",
    "\n",
    "where:\n",
    "- True Positives (TP), instances that are positive and got classified correctly\n",
    "- True Negatives (TN), instances that are negative and got classified correctly\n",
    "- False Positives (FP), instances that got classified as positive but are negative\n",
    "- False Negatives (FN), instances that got classified as negative but are positive"
   ]
  },
  {
   "cell_type": "code",
   "execution_count": 12,
   "metadata": {
    "colab": {
     "base_uri": "https://localhost:8080/"
    },
    "id": "8wcbFEkcnt3V",
    "outputId": "d62a043f-b982-4d53-b7f2-cbbdd1542418"
   },
   "outputs": [
    {
     "name": "stdout",
     "output_type": "stream",
     "text": [
      "Accuracy of neural network = 95.61%\n"
     ]
    }
   ],
   "source": [
    "def accuracy(confusion_matrix):\n",
    "    diagonal_sum = confusion_matrix.trace()\n",
    "    sum_of_all_elements = confusion_matrix.sum()\n",
    "    return diagonal_sum / sum_of_all_elements\n",
    "\n",
    "\n",
    "acc = accuracy(cm)\n",
    "\n",
    "print(f\"Accuracy of neural network = {100*acc:.2f}%\")"
   ]
  },
  {
   "cell_type": "markdown",
   "metadata": {
    "id": "uW5lYEOmYmAL"
   },
   "source": [
    "Other useful metrics that are commonly used in classification problems are precision and recall:\n",
    "\n",
    "Precision:\n",
    "ratio of correctly predicted positive observations to the total predicted positives\n",
    "\n",
    "Recall: ratio of correctly predicted positive observations to all actual positives\n",
    "\n",
    "F1 Score: harmonic mean of precision and recall\n",
    "\n",
    "$Precision = \\frac{TP}{TP + FP}$\n",
    "\n",
    "$Recall = \\frac{TP}{TP + FN}$\n",
    "\n",
    "$F1 = \\frac{2}{\\frac{1}{Precision}+\\frac{1}{Recall}}$ or $F1 = \\frac{2 \\times Precision \\times Recall}{Precision + Recall}$"
   ]
  },
  {
   "cell_type": "code",
   "execution_count": 13,
   "metadata": {
    "id": "jKtR5HaXZBB_"
   },
   "outputs": [
    {
     "name": "stdout",
     "output_type": "stream",
     "text": [
      "Precision of neural network = 0.97\n",
      "Recall of neural network = 0.91\n",
      "F1 Score of neural network = 0.94\n"
     ]
    }
   ],
   "source": [
    "precision = precision_score(y_test, y_pred, pos_label=\"M\")\n",
    "recall = recall_score(y_test, y_pred, pos_label=\"M\")\n",
    "f1 = f1_score(y_test, y_pred, pos_label=\"M\")\n",
    "\n",
    "print(f\"Precision of neural network = {precision:.2f}\")\n",
    "print(f\"Recall of neural network = {recall:.2f}\")\n",
    "print(f\"F1 Score of neural network = {f1:.2f}\")"
   ]
  },
  {
   "cell_type": "markdown",
   "metadata": {
    "id": "EVva-zxjYP6g"
   },
   "source": [
    "## Optimising the model"
   ]
  },
  {
   "cell_type": "markdown",
   "metadata": {
    "id": "R3dkxBRTjKZa"
   },
   "source": [
    "So far we have built and trained a simple neural network based only on the mean values for each cell nuclei feature. It's now your turn to build your own neural network, with the aim of getting as high an accuracy as possible. The things that you're allowed to change are the:\n",
    "\n",
    "\n",
    "* Features from the original dataset that are used\n",
    "* Architecture of the neural network (i.e. the number of hidden layers and the number of neurons in each layer)\n",
    "* Activation function (relu, sigmoid, tanh)\n",
    "* Learning rate\n",
    "\n"
   ]
  },
  {
   "cell_type": "markdown",
   "metadata": {
    "id": "4zbjteazO_j4"
   },
   "source": [
    "### Importing the dataset"
   ]
  },
  {
   "cell_type": "code",
   "execution_count": null,
   "metadata": {
    "id": "WmjGytRMkJcH"
   },
   "outputs": [],
   "source": [
    "dataset = pd.read_csv(\n",
    "    \"https://raw.githubusercontent.com/ahmed-ibrahim0/AIM/main/Breast%20Cancer%20Wisconsin%20Dataset.csv\"\n",
    ")\n",
    "dataset = dataset.drop(columns=[\"Unnamed: 32\"], axis=1)"
   ]
  },
  {
   "cell_type": "markdown",
   "metadata": {
    "id": "NWNID_NQPB9-"
   },
   "source": [
    "### Feature selection (code editing section)"
   ]
  },
  {
   "cell_type": "markdown",
   "metadata": {
    "id": "pBehZYdBPFs1"
   },
   "source": [
    "Run the cell below to get a full list of the features present in the dataset:"
   ]
  },
  {
   "cell_type": "code",
   "execution_count": null,
   "metadata": {
    "id": "9xRFcDFBOxAu"
   },
   "outputs": [],
   "source": [
    "dataset.columns[2:]"
   ]
  },
  {
   "cell_type": "markdown",
   "metadata": {
    "id": "ka72EngIRW59"
   },
   "source": [
    "Have a think about which features would help the model learn the difference between benign and malignant. Copy and paste them into the list below, separating each item by a comma and remembering to enclose each feature in apostrophes or speech marks e.g.\n",
    "<br><br>\n",
    "features_list = ['radius_se', 'smoothness_worst', 'fractal_dimension_mean']"
   ]
  },
  {
   "cell_type": "code",
   "execution_count": null,
   "metadata": {
    "id": "wGcYCelyRUDi"
   },
   "outputs": [],
   "source": [
    "features_list = []  # <------------------ EDIT"
   ]
  },
  {
   "cell_type": "markdown",
   "metadata": {
    "id": "hfAx4QnzS44S"
   },
   "source": [
    "### Neural Network Architecture (code editing section)"
   ]
  },
  {
   "cell_type": "markdown",
   "metadata": {
    "id": "XdTNUGh6UCvg"
   },
   "source": [
    "You can now define the architecture of the neural network (i.e. the number of hidden layers and the number of neurons in each), the learning rate used in gradient descent and the activation function.\n",
    "<br><br>\n",
    "Note that the variables must be defined in particular ways:\n",
    "\n",
    "- Architecture - this should be expressed as a tuple, which is just a list of numbers enclosed in curved brackets. The ith element in the tuple represents the number of neurons in the ith hidden layer. For example, for the neural network we used above, we used (6,3) because the first hidden layer had 6 neurons and the second had 3.\n",
    "\n",
    "- Activation function - this can be one of 3 functions:\n",
    "- 'relu'\n",
    "- 'logistic' --> this is the sigmoid function we met in the talk\n",
    "- 'tanh'\n",
    "\n",
    "Remember that the number of neurons in the input layer is dependent on how many features you select.\n"
   ]
  },
  {
   "cell_type": "code",
   "execution_count": null,
   "metadata": {
    "id": "DxumfnmXS9Fd"
   },
   "outputs": [],
   "source": [
    "architecture = ()  # <------------------ EDIT\n",
    "activation_function = \"\"  # <----------- EDIT"
   ]
  },
  {
   "cell_type": "markdown",
   "metadata": {
    "id": "LXaXkRQ2WeDQ"
   },
   "source": [
    "### Training and Testing"
   ]
  },
  {
   "cell_type": "markdown",
   "metadata": {
    "id": "3raJRT-CXM7a"
   },
   "source": [
    "Run the code block below to train and test the model you've designed. No edits are needed here."
   ]
  },
  {
   "cell_type": "code",
   "execution_count": null,
   "metadata": {
    "id": "0gMxnjchXT7Q"
   },
   "outputs": [],
   "source": [
    "x_dataset = dataset[features_list]\n",
    "y_dataset = dataset[\"diagnosis\"]\n",
    "\n",
    "X_train, X_test, y_train, y_test = train_test_split(\n",
    "    x_dataset, y_dataset, test_size=0.2, random_state=42\n",
    ")\n",
    "\n",
    "sc = StandardScaler()\n",
    "X_train = sc.fit_transform(X_train)\n",
    "X_test = sc.fit_transform(X_test)\n",
    "\n",
    "if \"learning_rate\" not in locals():\n",
    "    learning_rate = 0.001\n",
    "\n",
    "classifier = MLPClassifier(\n",
    "    hidden_layer_sizes=architecture,\n",
    "    learning_rate_init=learning_rate,\n",
    "    activation=activation_function,\n",
    "    max_iter=500,\n",
    "    solver=\"sgd\",\n",
    "    random_state=42,\n",
    ")\n",
    "\n",
    "classifier.fit(X_train, y_train)\n",
    "\n",
    "y_pred = classifier.predict(X_test)\n",
    "cm = confusion_matrix(y_test, y_pred)\n",
    "ConfusionMatrixDisplay(cm).plot()\n",
    "\n",
    "acc = accuracy_score(y_test, y_pred)\n",
    "print(\"ACCURACY = %.4f\" % acc)"
   ]
  },
  {
   "cell_type": "markdown",
   "metadata": {
    "id": "5tkKp4H3jOlb"
   },
   "source": [
    "### Learning rate (code editing section)"
   ]
  },
  {
   "cell_type": "markdown",
   "metadata": {
    "id": "gtQLh2R-ksK2"
   },
   "source": [
    "An important variable that we haven't discussed yet is the learning rate. This is a \"hyperparameter\" that defines how quickly we adjust our weights during the training phase. So far, we have been using a learning rate of 0.001. Experiment below with changing the learning rate and re-running the code block above.\n",
    "<br><br>\n",
    "How does the learning rate affect the accuracy? Why do you think this is the case? (Hint: try using extreme values for the learning rate, does the code return any warnings?)"
   ]
  },
  {
   "cell_type": "code",
   "execution_count": null,
   "metadata": {
    "id": "uc3IgjHFiYPn"
   },
   "outputs": [],
   "source": [
    "learning_rate = ...  # <-------------------- EDIT"
   ]
  },
  {
   "cell_type": "markdown",
   "metadata": {
    "id": "6OE8ZtrChrQw"
   },
   "source": [
    "## Additional resources"
   ]
  },
  {
   "cell_type": "markdown",
   "metadata": {
    "id": "n1JbYk4rhq1E"
   },
   "source": [
    "- Interactive neural network builder: https://playground.tensorflow.org/\n",
    "- Examples of Deep Learning in healthcare:\n",
    " - [Diagnosis of oesophageal cancer from endoscopic images](https://pubmed.ncbi.nlm.nih.gov/35848703/)\n",
    " - [Diagnosis of Cerebral Aneurysms from CT scans](https://pubmed.ncbi.nlm.nih.gov/31173130/)\n",
    " - [Prediction of Shock Wave Lithotripsy efficacy](https://pubmed.ncbi.nlm.nih.gov/33638143/)\n",
    " - [Diabetic retinopathy screening](https://pubmed.ncbi.nlm.nih.gov/32504495/)\n",
    "\n",
    "---"
   ]
  },
  {
   "cell_type": "markdown",
   "metadata": {
    "id": "08VzfsYfNdBs"
   },
   "source": [
    "## Part 1.2: Neural Networks in PyTorch\n",
    "\n",
    "Let's implement the same thing but this time using a deep learning framework PyTorch."
   ]
  },
  {
   "cell_type": "code",
   "execution_count": null,
   "metadata": {},
   "outputs": [],
   "source": [
    "import torch\n",
    "import torch.nn as nn\n",
    "import torch.nn.functional as F\n",
    "import torch.optim as optim\n",
    "from torch.utils.data import TensorDataset, DataLoader"
   ]
  },
  {
   "cell_type": "code",
   "execution_count": null,
   "metadata": {},
   "outputs": [],
   "source": [
    "dataset = pd.read_csv(\n",
    "    \"https://raw.githubusercontent.com/ahmed-ibrahim0/AIM/main/Breast%20Cancer%20Wisconsin%20Dataset.csv\"\n",
    ")"
   ]
  },
  {
   "cell_type": "markdown",
   "metadata": {},
   "source": [
    "Let's drop the last unnamed column and encode the diagnosis labels using categorical codes. \n",
    "\n",
    "1 - malignant, 0 - benign"
   ]
  },
  {
   "cell_type": "code",
   "execution_count": null,
   "metadata": {},
   "outputs": [],
   "source": [
    "dataset.drop(columns=[\"Unnamed: 32\"], inplace=True)\n",
    "dataset[\"diagnosis\"] = pd.Categorical(dataset[\"diagnosis\"]).codes\n",
    "dataset"
   ]
  },
  {
   "cell_type": "markdown",
   "metadata": {},
   "source": [
    "Let's split the data again into a trainset and a testset.\n",
    "We will use the first 10 numerical values as features and will try to predict the class malignant vs benign. "
   ]
  },
  {
   "cell_type": "code",
   "execution_count": null,
   "metadata": {},
   "outputs": [],
   "source": [
    "x_dataset = dataset.iloc[:, 2:12].to_numpy()\n",
    "y_dataset = dataset.iloc[:, 1].to_numpy()\n",
    "\n",
    "X_train, X_test, y_train, y_test = train_test_split(\n",
    "    x_dataset,\n",
    "    y_dataset,\n",
    "    test_size=0.2,  # this says that 20% of the dataset will be allocated to the test set\n",
    "    random_state=42,\n",
    ")  # this sets the \"seed\" for the random allocation - it's not too important to understand but essentially allows us to recreate the same allocation in the future if we needed to"
   ]
  },
  {
   "cell_type": "markdown",
   "metadata": {},
   "source": [
    "Since we are using PyTorch, we need to \"translate\" the data to the right format. PyTorch uses its own `Tensor`s.\n",
    "To comply with their framework, we can also define datasets, which allow us to iterate over all samples. We will use `TensorDataset`.\n",
    "Finally, a `DataLoader` is used to chunk the dataset into smaller mini-batches and allows training the model with less data at once but more frequent parameter updates!"
   ]
  },
  {
   "cell_type": "code",
   "execution_count": null,
   "metadata": {},
   "outputs": [],
   "source": [
    "trainset = TensorDataset(torch.Tensor(X_train), torch.Tensor(y_train))\n",
    "testset = TensorDataset(\n",
    "    torch.Tensor(X_test), torch.Tensor(y_test)\n",
    ")  # create your datset\n",
    "\n",
    "\n",
    "train_loader = DataLoader(trainset, batch_size=64)  # create your dataloader\n",
    "test_loader = DataLoader(testset, batch_size=64)  # create your dataloader"
   ]
  },
  {
   "cell_type": "markdown",
   "metadata": {},
   "source": [
    "Now we can define the network. PyTorch requires the layers to be specified in the class constructor (`__init__`). The initialised layers are further used to define how data flows through the network in the `forward` function. \n",
    "\n",
    "For example, here we specify 3 linear layers, each with different input and output feature numbers."
   ]
  },
  {
   "cell_type": "code",
   "execution_count": null,
   "metadata": {},
   "outputs": [],
   "source": [
    "class NeuralNet(nn.Module):\n",
    "    def __init__(self) -> None:\n",
    "        super().__init__()\n",
    "\n",
    "        # First layer has 10 input features and outputs 32 numbers.\n",
    "        self.layer1 = nn.Linear(10, 32)\n",
    "        # The second layer has 32 input features and outputs 16 numbers.\n",
    "        self.layer2 = nn.Linear(32, 16)\n",
    "        # Since we want a yes/no answer (binary classification), the last layer takes 16 inputs and outputs a single number.\n",
    "        self.layer3 = nn.Linear(16, 1)\n",
    "\n",
    "    def forward(self, x):\n",
    "        # After each layer we apply a non-linear function. Here we use ReLU.\n",
    "        x = F.relu(self.layer1(x))\n",
    "        # Again, we use ReLU.\n",
    "        x = F.relu(self.layer2(x))\n",
    "        # However, here it makes more sense to use sigmoid. It nicely squeezes all possible output values into the range 0-1.\n",
    "        # Afterwards, we could set 0.5 as a natural boundary between classes.\n",
    "        x = F.sigmoid(self.layer3(x))\n",
    "\n",
    "        return x"
   ]
  },
  {
   "cell_type": "markdown",
   "metadata": {},
   "source": [
    "We are almost there! Two more things to do: define an optimizer to use (in our case this is Stochastic Gradient Descent (SGD)) and a loss. A suitable loss for a binary classification task in a Binary Cross-Entropy loss."
   ]
  },
  {
   "cell_type": "code",
   "execution_count": null,
   "metadata": {},
   "outputs": [],
   "source": [
    "net = NeuralNet()\n",
    "\n",
    "optimizer = optim.SGD(net.parameters(), lr=0.001, momentum=0.1)\n",
    "criterion = nn.BCELoss()"
   ]
  },
  {
   "cell_type": "markdown",
   "metadata": {},
   "source": [
    "This is the training loop. You can see here that we are running the training over 500 epochs. Since this is more manual than in scikit-learn, make sure you understand what each part of this loop does and don't hesitate to consult [PyTorch documentation](https://pytorch.org/docs/stable/index.html)."
   ]
  },
  {
   "cell_type": "code",
   "execution_count": null,
   "metadata": {},
   "outputs": [],
   "source": [
    "for epoch in range(500):  # loop over the dataset multiple times\n",
    "\n",
    "    for i, data in enumerate(train_loader, 0):\n",
    "        # get the inputs; data is a list of [inputs, labels]\n",
    "        inputs, labels = data\n",
    "\n",
    "        # zero the parameter gradients\n",
    "        optimizer.zero_grad()\n",
    "\n",
    "        # forward pass\n",
    "        outputs = net(inputs)\n",
    "\n",
    "        # compute loss\n",
    "        loss = criterion(outputs.squeeze(), labels)\n",
    "\n",
    "        # compute gradients with respect to network parameters\n",
    "        loss.backward()\n",
    "\n",
    "        # update the network parameters using the computed gradients\n",
    "        optimizer.step()\n",
    "\n",
    "print(\"Finished Training\")"
   ]
  },
  {
   "cell_type": "markdown",
   "metadata": {},
   "source": [
    "After we trained the network, we can make some predictions and evaluate how well the network performs!"
   ]
  },
  {
   "cell_type": "code",
   "execution_count": null,
   "metadata": {},
   "outputs": [],
   "source": [
    "correct = 0\n",
    "total = 0\n",
    "# since we're not training, we don't need to calculate the gradients for our outputs\n",
    "labels_lst = []\n",
    "preds_lst = []\n",
    "with torch.no_grad():\n",
    "    for data in test_loader:\n",
    "        inputs, labels = data\n",
    "        # calculate outputs by running inputs through the network\n",
    "        outputs = net(inputs).squeeze()\n",
    "\n",
    "        predicted = torch.where(outputs >= 0.5, 1, 0)\n",
    "\n",
    "        labels_lst.extend(labels)\n",
    "        preds_lst.extend(predicted)"
   ]
  },
  {
   "cell_type": "code",
   "execution_count": null,
   "metadata": {},
   "outputs": [],
   "source": [
    "acc = accuracy_score(labels_lst, preds_lst)\n",
    "print(f\"Accuracy of the network on test images: {(100*acc):.2f} %\\n\")\n",
    "\n",
    "cm = confusion_matrix(labels_lst, preds_lst)\n",
    "ConfusionMatrixDisplay(cm).plot()"
   ]
  },
  {
   "cell_type": "markdown",
   "metadata": {},
   "source": [
    "While we did not achieve the same accuracy as when using scikit-learn, this is because have control over more elements of the training procedure. Perhaps you could change the optimiser to a more advanced `AdamW`, or modify the learning rate to see what happens? \n",
    "\n",
    "---"
   ]
  },
  {
   "cell_type": "markdown",
   "metadata": {
    "id": "D3L3hK3FKey9"
   },
   "source": [
    "## Part 2: Medical image classification with neural networks"
   ]
  },
  {
   "cell_type": "markdown",
   "metadata": {},
   "source": [
    "Make sure to run the cell below to download the necessary datasets."
   ]
  },
  {
   "cell_type": "code",
   "execution_count": null,
   "metadata": {
    "colab": {
     "base_uri": "https://localhost:8080/"
    },
    "id": "U8Db546NaNja",
    "outputId": "62413923-651e-4d93-e6f1-4806c1e75c2e"
   },
   "outputs": [],
   "source": [
    "!pip3 install medmnist"
   ]
  },
  {
   "cell_type": "markdown",
   "metadata": {
    "id": "FfHwMmBcaCII"
   },
   "source": [
    "### Training a Classifier\n",
    "\n",
    "#### What about data?\n",
    "\n",
    "Generally, when you have to deal with image, text, audio or video data,\n",
    "you can use standard python packages that load data into a numpy array.\n",
    "Then you can convert this array into a `torch.*Tensor`.\n",
    "\n",
    "-   For images, packages such as Pillow, OpenCV are useful\n",
    "-   For audio, packages such as scipy and librosa\n",
    "-   For text, either raw Python or Cython based loading, or NLTK and\n",
    "    SpaCy are useful\n",
    "\n",
    "Specifically for vision, we have created a package called `torchvision`,\n",
    "that has data loaders for common datasets such as ImageNet, CIFAR10,\n",
    "MNIST, etc. and data transformers for images, viz.,\n",
    "`torchvision.datasets` and `torch.utils.data.DataLoader`.\n",
    "\n",
    "This provides a huge convenience and avoids writing boilerplate code.\n",
    "\n",
    "For this tutorial, we will use the Pneumonia part of the [MedMNIST dataset](https://medmnist.com). \n",
    "\n",
    "#### Training an image classifier\n",
    "\n",
    "We will do the following steps in order:\n",
    "\n",
    "1.  Load and normalize the MedMNIST training and test datasets\n",
    "2.  Define a Neural Network\n",
    "3.  Define a loss function\n",
    "4.  Train the network on the training data\n",
    "5.  Test the network on the test data\n"
   ]
  },
  {
   "cell_type": "code",
   "execution_count": null,
   "metadata": {
    "id": "qgojOi_vaCII"
   },
   "outputs": [],
   "source": [
    "import torch\n",
    "import torchvision\n",
    "import torchvision.transforms as transforms"
   ]
  },
  {
   "cell_type": "code",
   "execution_count": null,
   "metadata": {
    "id": "Kae5WlcmaZ2z"
   },
   "outputs": [],
   "source": [
    "from medmnist import PneumoniaMNIST"
   ]
  },
  {
   "cell_type": "markdown",
   "metadata": {
    "id": "M8gNuthTaCIJ"
   },
   "source": [
    "The output of torchvision datasets are PILImage images of range \\[0,\n",
    "1\\]. We transform them to Tensors of normalized range \\[-1, 1\\].\n"
   ]
  },
  {
   "cell_type": "markdown",
   "metadata": {
    "id": "oZ37GHYkaCIJ"
   },
   "source": [
    "<div style=\"background-color: #54c7ec; color: #fff; font-weight: 700; padding-left: 10px; padding-top: 5px; padding-bottom: 5px\"><strong>NOTE:</strong></div>\n",
    "\n",
    "<div style=\"background-color: #f3f4f7; padding-left: 10px; padding-top: 10px; padding-bottom: 10px; padding-right: 10px\">\n",
    "\n",
    "<p>If running on Windows and you get a BrokenPipeError, try settingthe num_worker of torch.utils.data.DataLoader() to 0.</p>\n",
    "\n",
    "</div>\n",
    "\n"
   ]
  },
  {
   "cell_type": "code",
   "execution_count": null,
   "metadata": {
    "colab": {
     "base_uri": "https://localhost:8080/"
    },
    "id": "QB50dMlvaCIJ",
    "outputId": "f4a30b9a-b672-4956-bec3-2fa76e63307a"
   },
   "outputs": [],
   "source": [
    "# define a sequential transform to 1) change the input data type to Tensors and 2) normalise them.\n",
    "transform = transforms.Compose(\n",
    "    [transforms.ToTensor(), transforms.Normalize((0.5), (0.5))]\n",
    ")\n",
    "\n",
    "batch_size = 4\n",
    "\n",
    "# Load the train set of the images\n",
    "trainset = PneumoniaMNIST(\"train\", transform=transform, download=True, size=28)\n",
    "trainloader = torch.utils.data.DataLoader(\n",
    "    trainset, batch_size=batch_size, shuffle=True, num_workers=2, pin_memory=True\n",
    ")\n",
    "\n",
    "# Load the test set of the images\n",
    "testset = PneumoniaMNIST(\"test\", transform=transform, download=True, size=28)\n",
    "testloader = torch.utils.data.DataLoader(\n",
    "    testset, batch_size=batch_size, shuffle=False, num_workers=2, pin_memory=True\n",
    ")\n",
    "\n",
    "classes = (\"normal\", \"pneumonia\")"
   ]
  },
  {
   "cell_type": "markdown",
   "metadata": {
    "id": "V2abNU2waCIJ"
   },
   "source": [
    "Let us show some of the training images.\n"
   ]
  },
  {
   "cell_type": "code",
   "execution_count": null,
   "metadata": {
    "colab": {
     "base_uri": "https://localhost:8080/",
     "height": 211
    },
    "id": "K_EiEkkpaCIJ",
    "outputId": "26036233-6d8a-4ec5-88f7-61157a2d7f8c"
   },
   "outputs": [],
   "source": [
    "import matplotlib.pyplot as plt\n",
    "import numpy as np\n",
    "\n",
    "# functions to show an image\n",
    "\n",
    "\n",
    "def imshow(img):\n",
    "    img = img / 2 + 0.5  # unnormalize\n",
    "    npimg = img.numpy()\n",
    "    plt.imshow(np.transpose(npimg, (1, 2, 0)))\n",
    "    plt.show()\n",
    "\n",
    "\n",
    "# get some random training images\n",
    "dataiter = iter(trainloader)\n",
    "images, labels = next(dataiter)\n",
    "\n",
    "# show images\n",
    "imshow(torchvision.utils.make_grid(images))\n",
    "# print labels\n",
    "print(\" \".join(f\"{classes[labels[j]]:5s}\" for j in range(batch_size)))"
   ]
  },
  {
   "cell_type": "markdown",
   "metadata": {},
   "source": [
    "### Define a simple Neural Network"
   ]
  },
  {
   "cell_type": "code",
   "execution_count": null,
   "metadata": {},
   "outputs": [],
   "source": [
    "import torch.nn as nn\n",
    "import torch.nn.functional as F\n",
    "\n",
    "\n",
    "class LinearNet(nn.Module):\n",
    "    def __init__(self):\n",
    "        super().__init__()\n",
    "        self.fc1 = nn.Linear(784, 120)\n",
    "        self.fc2 = nn.Linear(120, 48)\n",
    "        self.fc3 = nn.Linear(48, 1)\n",
    "\n",
    "    def forward(self, x):\n",
    "        x = torch.flatten(x, 1)  # Flatten the image into a long vector!\n",
    "\n",
    "        x = F.relu(self.fc1(x))\n",
    "        x = F.relu(self.fc2(x))\n",
    "        x = F.sigmoid(self.fc3(x))  # remember to apply sigmoid on the final output\n",
    "        return x"
   ]
  },
  {
   "cell_type": "markdown",
   "metadata": {
    "id": "Hr_8mgWEaCIJ"
   },
   "source": [
    "### Define a Loss function and optimizer\n",
    "\n",
    "Let\\'s use a Binary Cross-Entropy loss and AdamW optimiser, a gradient-based method.\n"
   ]
  },
  {
   "cell_type": "code",
   "execution_count": null,
   "metadata": {
    "id": "vlGW-rXTaCIJ"
   },
   "outputs": [],
   "source": [
    "import torch.optim as optim\n",
    "\n",
    "net = LinearNet()\n",
    "criterion = nn.BCELoss()\n",
    "optimizer = optim.AdamW(net.parameters(), lr=0.001)"
   ]
  },
  {
   "cell_type": "markdown",
   "metadata": {
    "id": "vERm9DJMaCIK"
   },
   "source": [
    "### Train the network\n",
    "\n",
    "This is when things start to get interesting. We simply have to loop\n",
    "over our data iterator, and feed the inputs to the network and optimize.\n"
   ]
  },
  {
   "cell_type": "code",
   "execution_count": null,
   "metadata": {
    "colab": {
     "base_uri": "https://localhost:8080/"
    },
    "id": "j6EltFgMaCIK",
    "outputId": "3b93862a-37b0-4689-c4bd-9af849837c25"
   },
   "outputs": [],
   "source": [
    "for epoch in range(2):  # loop over the dataset multiple times\n",
    "\n",
    "    running_loss = 0.0\n",
    "    for i, data in enumerate(trainloader, 0):\n",
    "        # get the inputs; data is a list of [inputs, labels]\n",
    "        inputs, labels = data\n",
    "\n",
    "        # zero the parameter gradients\n",
    "        optimizer.zero_grad()\n",
    "\n",
    "        # forward + backward + optimize\n",
    "        outputs = net(inputs)\n",
    "\n",
    "        loss = criterion(outputs, labels.to(torch.float))\n",
    "        loss.backward()\n",
    "        optimizer.step()\n",
    "\n",
    "        # print statistics\n",
    "        running_loss += loss.item()\n",
    "        if i % 200 == 199:  # print every 2000 mini-batches\n",
    "            print(f\"[{epoch + 1}, {i + 1:5d}] loss: {running_loss / 200}\")\n",
    "            running_loss = 0.0\n",
    "\n",
    "print(\"Finished Training\")"
   ]
  },
  {
   "cell_type": "markdown",
   "metadata": {
    "id": "nf03kzL2aCIK"
   },
   "source": [
    "### Test the network on the test data\n",
    "\n",
    "We have trained the network for 2 passes over the training dataset. But\n",
    "we need to check if the network has learnt anything at all.\n",
    "\n",
    "We will check this by predicting the class label that the neural network\n",
    "outputs, and checking it against the ground-truth. If the prediction is\n",
    "correct, we add the sample to the list of correct predictions.\n",
    "\n",
    "Okay, first step. Let us display an image from the test set to get\n",
    "familiar.\n"
   ]
  },
  {
   "cell_type": "code",
   "execution_count": null,
   "metadata": {
    "colab": {
     "base_uri": "https://localhost:8080/",
     "height": 211
    },
    "id": "0JMr40EsaCIK",
    "outputId": "a60dcb70-f342-48b9-aa98-d10b0dd3c472"
   },
   "outputs": [],
   "source": [
    "dataiter = iter(testloader)\n",
    "images, labels = next(dataiter)\n",
    "\n",
    "# print images\n",
    "imshow(torchvision.utils.make_grid(images))\n",
    "print(\"GroundTruth: \", \" \".join(f\"{classes[labels[j]]:5s}\" for j in range(4)))"
   ]
  },
  {
   "cell_type": "markdown",
   "metadata": {
    "id": "pyNrszf3aCIK"
   },
   "source": [
    "Okay, now let us see what the neural network thinks these examples above\n",
    "are:\n"
   ]
  },
  {
   "cell_type": "code",
   "execution_count": null,
   "metadata": {
    "id": "TpMfX2xBaCIK"
   },
   "outputs": [],
   "source": [
    "outputs = net(images)"
   ]
  },
  {
   "cell_type": "markdown",
   "metadata": {
    "id": "9A_J0A9kaCIK"
   },
   "source": [
    "The outputs are values between 0 and 1. Hence, we can use 0.5 as a natural boundary between normal and pneumonia. \n"
   ]
  },
  {
   "cell_type": "code",
   "execution_count": null,
   "metadata": {
    "colab": {
     "base_uri": "https://localhost:8080/"
    },
    "id": "xdWVnQQraCIK",
    "outputId": "dec8cb32-cc61-478e-a712-5cf6609cd7e3"
   },
   "outputs": [],
   "source": [
    "predicted = torch.where(outputs >= 0.5, 1, 0)\n",
    "\n",
    "print(\"Predicted: \", \" \".join(f\"{classes[predicted[j]]:5s}\" for j in range(4)))"
   ]
  },
  {
   "cell_type": "markdown",
   "metadata": {
    "id": "jqBGnDZmaCIK"
   },
   "source": [
    "The results seem pretty good.\n",
    "\n",
    "Let us look at how the network performs on the whole dataset.\n"
   ]
  },
  {
   "cell_type": "code",
   "execution_count": null,
   "metadata": {
    "id": "OnDt7e_3aCIK"
   },
   "outputs": [],
   "source": [
    "correct = 0\n",
    "total = 0\n",
    "# since we're not training, we don't need to calculate the gradients for our outputs\n",
    "labels_lst = []\n",
    "preds_lst = []\n",
    "with torch.no_grad():\n",
    "    for data in testloader:\n",
    "        images, labels = data\n",
    "        # calculate outputs by running images through the network\n",
    "        outputs = net(images)\n",
    "\n",
    "        predicted = torch.where(outputs >= 0.5, 1, 0)\n",
    "\n",
    "        labels_lst.extend(labels)\n",
    "        preds_lst.extend(predicted)"
   ]
  },
  {
   "cell_type": "code",
   "execution_count": null,
   "metadata": {
    "colab": {
     "base_uri": "https://localhost:8080/",
     "height": 500
    },
    "id": "dxiOXY_eliQc",
    "outputId": "efb1ccb1-9c87-475d-e453-e4468a67e70e"
   },
   "outputs": [],
   "source": [
    "from sklearn.metrics import confusion_matrix, ConfusionMatrixDisplay, accuracy_score\n",
    "\n",
    "\n",
    "acc = accuracy_score(labels_lst, preds_lst)\n",
    "print(f\"Accuracy of the network on test images: {(100*acc):.2f} %\\n\")\n",
    "\n",
    "cm = confusion_matrix(labels_lst, preds_lst)\n",
    "ConfusionMatrixDisplay(cm).plot()"
   ]
  },
  {
   "cell_type": "markdown",
   "metadata": {
    "id": "_p4UrWpMaCIK"
   },
   "source": [
    "That looks way better than chance, which is 50% accuracy. Seems like the network learnt something!"
   ]
  },
  {
   "cell_type": "markdown",
   "metadata": {},
   "source": [
    "## Extra content: Convolutional Neural Networks\n",
    "\n",
    "While this works, you may be thinking that by flattening the image we are losing significant amount of spatial information in the image (e.g. the relative position of two objects)...\n",
    "\n",
    "...and you're right! PyTorch gives us a lot of flexibility in defining our own network architecture. Hence, we can use Convolutional Neural Networks, which revolutionised how computer vision problems are approached nowadays! \n",
    "\n",
    "CNNs have 2 fundamental building blocks: \n",
    "- convolutional layers, which consist of several learnable filters (kernels) scanning through an image and extracting desired features\n",
    "- pooling layers, which decrease the spatial dimensions of the image and help focusing only on the most important features\n",
    "\n",
    "After a series of alternating convolutional and pooling layers, the spatial information has been already utilised and the representation can be flattened into a long vector, just as we did it above. From now on, the network uses simple fully-connected linear layers. \n",
    "\n",
    "![](https://miro.medium.com/v2/resize:fit:1400/format:webp/1*uAeANQIOQPqWZnnuH-VEyw.jpeg)\n"
   ]
  },
  {
   "cell_type": "markdown",
   "metadata": {},
   "source": [
    "### Network definition"
   ]
  },
  {
   "cell_type": "code",
   "execution_count": null,
   "metadata": {},
   "outputs": [],
   "source": [
    "import torch.nn as nn\n",
    "import torch.nn.functional as F\n",
    "\n",
    "\n",
    "class ConvNet(nn.Module):\n",
    "    def __init__(self):\n",
    "        super().__init__()\n",
    "        self.conv1 = nn.Conv2d(1, 16, 5)\n",
    "        self.pool = nn.MaxPool2d(2)\n",
    "        self.conv2 = nn.Conv2d(16, 32, 3)\n",
    "        self.fc1 = nn.Linear(32 * 5 * 5, 120)\n",
    "        self.fc2 = nn.Linear(120, 48)\n",
    "        self.fc3 = nn.Linear(48, 1)\n",
    "\n",
    "    def forward(self, x):\n",
    "        x = self.pool(F.relu(self.conv1(x)))\n",
    "        x = self.pool(F.relu(self.conv2(x)))\n",
    "        x = torch.flatten(x, 1)  # flatten all dimensions except batch\n",
    "        x = F.relu(self.fc1(x))\n",
    "        x = F.relu(self.fc2(x))\n",
    "        x = F.sigmoid(self.fc3(x))\n",
    "        return x"
   ]
  },
  {
   "cell_type": "code",
   "execution_count": null,
   "metadata": {},
   "outputs": [],
   "source": [
    "import torch.optim as optim\n",
    "\n",
    "net = ConvNet()\n",
    "criterion = nn.BCELoss()\n",
    "optimizer = optim.AdamW(net.parameters(), lr=0.001)"
   ]
  },
  {
   "cell_type": "code",
   "execution_count": null,
   "metadata": {},
   "outputs": [],
   "source": [
    "for epoch in range(2):  # loop over the dataset multiple times\n",
    "\n",
    "    running_loss = 0.0\n",
    "    for i, data in enumerate(trainloader, 0):\n",
    "        # get the inputs; data is a list of [inputs, labels]\n",
    "        inputs, labels = data\n",
    "\n",
    "        # zero the parameter gradients\n",
    "        optimizer.zero_grad()\n",
    "\n",
    "        # forward + backward + optimize\n",
    "        outputs = net(inputs)\n",
    "\n",
    "        loss = criterion(outputs, labels.to(torch.float))\n",
    "        loss.backward()\n",
    "        optimizer.step()\n",
    "\n",
    "        # print statistics\n",
    "        running_loss += loss.item()\n",
    "        if i % 200 == 199:  # print every 2000 mini-batches\n",
    "            print(f\"[{epoch + 1}, {i + 1:5d}] loss: {running_loss / 200}\")\n",
    "            running_loss = 0.0\n",
    "\n",
    "print(\"Finished Training\")"
   ]
  },
  {
   "cell_type": "code",
   "execution_count": null,
   "metadata": {},
   "outputs": [],
   "source": [
    "correct = 0\n",
    "total = 0\n",
    "\n",
    "labels_lst = []\n",
    "preds_lst = []\n",
    "\n",
    "# since we're not training, we don't need to calculate the gradients for our outputs\n",
    "with torch.no_grad():\n",
    "    for data in testloader:\n",
    "        images, labels = data\n",
    "        # calculate outputs by running images through the network\n",
    "        outputs = net(images)\n",
    "\n",
    "        predicted = torch.where(outputs >= 0.5, 1, 0)\n",
    "\n",
    "        labels_lst.extend(labels)\n",
    "        preds_lst.extend(predicted)"
   ]
  },
  {
   "cell_type": "code",
   "execution_count": null,
   "metadata": {},
   "outputs": [],
   "source": [
    "from sklearn.metrics import confusion_matrix, ConfusionMatrixDisplay, accuracy_score\n",
    "\n",
    "\n",
    "acc = accuracy_score(labels_lst, preds_lst)\n",
    "print(f\"Accuracy of the network on test images: {(100*acc):.2f} %\\n\")\n",
    "\n",
    "cm = confusion_matrix(labels_lst, preds_lst)\n",
    "ConfusionMatrixDisplay(cm).plot()"
   ]
  },
  {
   "cell_type": "markdown",
   "metadata": {
    "id": "PhB7TwDtaCIL"
   },
   "source": [
    "Okay, so what next?\n",
    "\n",
    "How do we run these neural networks on the GPU?\n",
    "\n",
    "## Extra content: Training on GPU\n",
    "\n",
    "Just like how you transfer a Tensor onto the GPU, you transfer the\n",
    "neural net onto the GPU.\n",
    "\n",
    "Let\\'s first define our device as the first visible cuda device if we\n",
    "have CUDA available:\n"
   ]
  },
  {
   "cell_type": "code",
   "execution_count": null,
   "metadata": {
    "id": "_ZMXLUl7aCIL"
   },
   "outputs": [],
   "source": [
    "device = torch.device(\"cuda:0\" if torch.cuda.is_available() else \"cpu\")\n",
    "\n",
    "# Assuming that we are on a CUDA machine, this should print a CUDA device:\n",
    "\n",
    "print(device)"
   ]
  },
  {
   "cell_type": "markdown",
   "metadata": {
    "id": "9eqTiIh6aCIL"
   },
   "source": [
    "The rest of this section assumes that `device` is a CUDA device.\n",
    "\n",
    "Then these methods will recursively go over all modules and convert\n",
    "their parameters and buffers to CUDA tensors:\n",
    "\n",
    "``` {.python}\n",
    "net.to(device)\n",
    "```\n",
    "\n",
    "Remember that you will have to send the inputs and targets at every step\n",
    "to the GPU too:\n",
    "\n",
    "``` {.python}\n",
    "inputs, labels = data[0].to(device), data[1].to(device)\n",
    "```\n",
    "\n",
    "Why don\\'t I notice MASSIVE speedup compared to CPU? Because your\n",
    "network is really small.\n",
    "\n",
    "**Exercise:** Try increasing the width of your network (argument 2 of\n",
    "the first `nn.Conv2d`, and argument 1 of the second `nn.Conv2d` -- they\n",
    "need to be the same number), see what kind of speedup you get."
   ]
  }
 ],
 "metadata": {
  "colab": {
   "provenance": [],
   "toc_visible": true
  },
  "kernelspec": {
   "display_name": "venv",
   "language": "python",
   "name": "python3"
  },
  "language_info": {
   "codemirror_mode": {
    "name": "ipython",
    "version": 3
   },
   "file_extension": ".py",
   "mimetype": "text/x-python",
   "name": "python",
   "nbconvert_exporter": "python",
   "pygments_lexer": "ipython3",
   "version": "3.12.6"
  }
 },
 "nbformat": 4,
 "nbformat_minor": 0
}
