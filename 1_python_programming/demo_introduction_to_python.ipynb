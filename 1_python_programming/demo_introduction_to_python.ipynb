{
 "cells": [
  {
   "attachments": {},
   "cell_type": "markdown",
   "metadata": {
    "collapsed": false
   },
   "source": [
    "This notebook is adapted from a **great series of tutorials on Machine Learning** delivered by a team at the [UCL AI Society](https://uclaisociety.co.uk) last year! \n",
    "\n",
    "I **highly recommend** having a look at the resources:\n",
    "- slides, talk recordings and useful overviews on [the society website](https://uclaisociety.co.uk/our-initiatives/tutorials/2023-2024/),\n",
    "- Jupyter Notebooks with numerous ML code examples available [on GitHub](https://github.com/UCLAIS/ml-tutorials-season-4)!\n",
    "\n",
    "---\n",
    "\n",
    "# Introduction to Python: Demo\n",
    "\n",
    "**Note: This is a short version of the introductory notebook, only used for presentation. I strongly recommend using [the full introductory notebook](./introduction_to_python.ipynb), which has significantly more detailed explanations and more content.**\n",
    "\n",
    "## The Zen of Python, by Tim Peters"
   ]
  },
  {
   "cell_type": "code",
   "execution_count": null,
   "metadata": {
    "collapsed": false
   },
   "outputs": [],
   "source": [
    "import this"
   ]
  },
  {
   "cell_type": "markdown",
   "metadata": {
    "collapsed": false
   },
   "source": [
    "## Basic Syntax\n",
    "\n",
    "### Comments"
   ]
  },
  {
   "cell_type": "code",
   "execution_count": null,
   "metadata": {
    "collapsed": false
   },
   "outputs": [],
   "source": [
    "# Single-line comments look like this!\n",
    "# Everything after the '#' character on the same line is ignored.\n",
    "\n",
    "\"\"\"\n",
    "    Multi-line strings look like this. When freestanding like this,\n",
    "    they are typically used for documentation.\n",
    "\n",
    "    Properly documenting your code is especially important if you are\n",
    "    working in a team (or even on your own over a long period).\n",
    "\"\"\""
   ]
  },
  {
   "cell_type": "markdown",
   "metadata": {
    "collapsed": false
   },
   "source": [
    "## Built-in Types\n",
    "\n",
    "Python comes with many different built-in types, including numerics, sequences, mappings, classes, instances and exceptions. We are now going to get to know a few!\n",
    "\n",
    "### Numeric Types"
   ]
  },
  {
   "cell_type": "code",
   "execution_count": null,
   "metadata": {
    "collapsed": false
   },
   "outputs": [],
   "source": [
    "# Integers (Python integers have unlimited precision!)\n",
    "4  # => 4"
   ]
  },
  {
   "cell_type": "code",
   "execution_count": null,
   "metadata": {
    "collapsed": false
   },
   "outputs": [],
   "source": [
    "# Floats (IEEE 754 double-precision floating-point numbers)\n",
    "3.14"
   ]
  },
  {
   "cell_type": "code",
   "execution_count": null,
   "metadata": {
    "collapsed": false
   },
   "outputs": [],
   "source": [
    "# Complex numbers\n",
    "4 + 3j"
   ]
  },
  {
   "cell_type": "code",
   "execution_count": null,
   "metadata": {
    "collapsed": false
   },
   "outputs": [],
   "source": [
    "# Arithmetic operations\n",
    "5 + 5  # => 10"
   ]
  },
  {
   "cell_type": "code",
   "execution_count": null,
   "metadata": {
    "collapsed": false
   },
   "outputs": [],
   "source": [
    "7 - 2  # => 5"
   ]
  },
  {
   "cell_type": "code",
   "execution_count": null,
   "metadata": {
    "collapsed": false
   },
   "outputs": [],
   "source": [
    "3 * 4  # => 12"
   ]
  },
  {
   "cell_type": "code",
   "execution_count": null,
   "metadata": {
    "collapsed": false
   },
   "outputs": [],
   "source": [
    "24 / 3  # => 8.0 (standard division always results in a float)"
   ]
  },
  {
   "cell_type": "code",
   "execution_count": null,
   "metadata": {
    "collapsed": false
   },
   "outputs": [],
   "source": [
    "30 // 4  # => 7 (integer division)"
   ]
  },
  {
   "cell_type": "code",
   "execution_count": null,
   "metadata": {
    "collapsed": false
   },
   "outputs": [],
   "source": [
    "30 % 4  # => 2 (the modulo operator, which gives the remainder)"
   ]
  },
  {
   "cell_type": "code",
   "execution_count": null,
   "metadata": {
    "collapsed": false
   },
   "outputs": [],
   "source": [
    "-30 % 4  # => 2 (modulo also works for negative numbers)"
   ]
  },
  {
   "cell_type": "code",
   "execution_count": null,
   "metadata": {
    "collapsed": false
   },
   "outputs": [],
   "source": [
    "2**4  # => 16 (exponentiation)"
   ]
  },
  {
   "cell_type": "code",
   "execution_count": null,
   "metadata": {
    "collapsed": false
   },
   "outputs": [],
   "source": [
    "type(123), type(2.6), type(4 + 6j)  # allows you to check the type of number you have"
   ]
  },
  {
   "cell_type": "code",
   "execution_count": null,
   "metadata": {
    "collapsed": false
   },
   "outputs": [],
   "source": [
    "# what is going on here? blame IEEE 754 and how we represent decimal numbers\n",
    "0.1 + 0.2"
   ]
  },
  {
   "cell_type": "markdown",
   "metadata": {
    "collapsed": false
   },
   "source": [
    "### Boolean Values\n",
    "\n",
    "**Booleans** (named after the English mathematician George Boole) are truth values that are either `True` or `False` (note the capitalisation)."
   ]
  },
  {
   "cell_type": "code",
   "execution_count": null,
   "metadata": {
    "collapsed": false
   },
   "outputs": [],
   "source": [
    "True  # => True"
   ]
  },
  {
   "cell_type": "code",
   "execution_count": null,
   "metadata": {
    "collapsed": false
   },
   "outputs": [],
   "source": [
    "False  # => False"
   ]
  },
  {
   "cell_type": "code",
   "execution_count": null,
   "metadata": {
    "collapsed": false
   },
   "outputs": [],
   "source": [
    "not True  # => False"
   ]
  },
  {
   "cell_type": "code",
   "execution_count": null,
   "metadata": {
    "collapsed": false
   },
   "outputs": [],
   "source": [
    "not False  # => True"
   ]
  },
  {
   "cell_type": "code",
   "execution_count": null,
   "metadata": {
    "collapsed": false
   },
   "outputs": [],
   "source": [
    "True and True  # => True"
   ]
  },
  {
   "cell_type": "code",
   "execution_count": null,
   "metadata": {
    "collapsed": false
   },
   "outputs": [],
   "source": [
    "True and False  # => False"
   ]
  },
  {
   "cell_type": "code",
   "execution_count": null,
   "metadata": {
    "collapsed": false
   },
   "outputs": [],
   "source": [
    "False and True  # => False"
   ]
  },
  {
   "cell_type": "code",
   "execution_count": null,
   "metadata": {
    "collapsed": false
   },
   "outputs": [],
   "source": [
    "False and False  # => False"
   ]
  },
  {
   "cell_type": "code",
   "execution_count": null,
   "metadata": {
    "collapsed": false
   },
   "outputs": [],
   "source": [
    "True or True  # => True"
   ]
  },
  {
   "cell_type": "code",
   "execution_count": null,
   "metadata": {
    "collapsed": false
   },
   "outputs": [],
   "source": [
    "True or False  # => True"
   ]
  },
  {
   "cell_type": "code",
   "execution_count": null,
   "metadata": {
    "collapsed": false
   },
   "outputs": [],
   "source": [
    "False or True  # => True"
   ]
  },
  {
   "cell_type": "code",
   "execution_count": null,
   "metadata": {
    "collapsed": false
   },
   "outputs": [],
   "source": [
    "False or False  # => False"
   ]
  },
  {
   "cell_type": "code",
   "execution_count": null,
   "metadata": {
    "collapsed": false
   },
   "outputs": [],
   "source": [
    "type(True), type(False)"
   ]
  },
  {
   "cell_type": "markdown",
   "metadata": {
    "collapsed": false
   },
   "source": [
    "Comparison operations, such as checking for equality or inequality, evaluate to Boolean values."
   ]
  },
  {
   "cell_type": "code",
   "execution_count": null,
   "metadata": {
    "collapsed": false
   },
   "outputs": [],
   "source": [
    "4 == 4  # => True (checking for value equality)"
   ]
  },
  {
   "cell_type": "code",
   "execution_count": null,
   "metadata": {
    "collapsed": false
   },
   "outputs": [],
   "source": [
    "3 == 7  # => False"
   ]
  },
  {
   "cell_type": "code",
   "execution_count": null,
   "metadata": {
    "collapsed": false
   },
   "outputs": [],
   "source": [
    "1 != 5  # => True (checking for value inequality)"
   ]
  },
  {
   "cell_type": "code",
   "execution_count": null,
   "metadata": {
    "collapsed": false
   },
   "outputs": [],
   "source": [
    "1 < 2  # => True (less than)"
   ]
  },
  {
   "cell_type": "code",
   "execution_count": null,
   "metadata": {
    "collapsed": false
   },
   "outputs": [],
   "source": [
    "5 <= 5  # => True (less than or equal to)"
   ]
  },
  {
   "cell_type": "code",
   "execution_count": null,
   "metadata": {
    "collapsed": false
   },
   "outputs": [],
   "source": [
    "6 > 3  # => True (greater than)"
   ]
  },
  {
   "cell_type": "code",
   "execution_count": null,
   "metadata": {
    "collapsed": false
   },
   "outputs": [],
   "source": [
    "7 >= 8  # => False (greater than or equal to)"
   ]
  },
  {
   "cell_type": "code",
   "execution_count": null,
   "metadata": {
    "collapsed": false
   },
   "outputs": [],
   "source": [
    "1 < 2 < 3  # => True (these can be chained in Python, unlike other languages!)"
   ]
  },
  {
   "cell_type": "markdown",
   "metadata": {
    "collapsed": false
   },
   "source": [
    "### Strings"
   ]
  },
  {
   "cell_type": "markdown",
   "metadata": {
    "collapsed": false
   },
   "source": [
    "Generally, Python style guides encourage you to stick to double-quoted strings wherever reasonable."
   ]
  },
  {
   "cell_type": "code",
   "execution_count": null,
   "metadata": {},
   "outputs": [],
   "source": [
    "# Simple string\n",
    "\n",
    "\"Hello, World!\""
   ]
  },
  {
   "cell_type": "code",
   "execution_count": null,
   "metadata": {
    "collapsed": false
   },
   "outputs": [],
   "source": [
    "# Strings can be concatenated together\n",
    "\n",
    "\"Hello, \" + \"world!\""
   ]
  },
  {
   "cell_type": "markdown",
   "metadata": {
    "collapsed": false
   },
   "source": [
    "While `+` _adds_ two numbers together, it _concatenates_ two strings together. This idea that operators can have different meanings in different contexts is known as **operator overloading**.\n",
    "\n",
    "**Note**: you cannot use the `+` operator on a string and an integer together &ndash; this will raise a `TypeError`."
   ]
  },
  {
   "cell_type": "code",
   "execution_count": null,
   "metadata": {
    "collapsed": false
   },
   "outputs": [],
   "source": [
    "# len(·) can be used to find the length of a string\n",
    "\n",
    "len(\"Hello, world!\")"
   ]
  },
  {
   "cell_type": "code",
   "execution_count": null,
   "metadata": {},
   "outputs": [],
   "source": [
    "\"Hello\" + 4"
   ]
  },
  {
   "cell_type": "markdown",
   "metadata": {
    "collapsed": false
   },
   "source": [
    "You can check for the presence of a substring within string using the `in` operator, which returns a Boolean value."
   ]
  },
  {
   "cell_type": "code",
   "execution_count": null,
   "metadata": {
    "collapsed": false
   },
   "outputs": [],
   "source": [
    "\"world\" in \"Hello, world!\""
   ]
  },
  {
   "cell_type": "code",
   "execution_count": null,
   "metadata": {
    "collapsed": false
   },
   "outputs": [],
   "source": [
    "\"Goodbye\" in \"Hello, world!\""
   ]
  },
  {
   "cell_type": "code",
   "execution_count": null,
   "metadata": {
    "collapsed": false
   },
   "outputs": [],
   "source": [
    "\"Goodbye\" not in \"Hello, world!\""
   ]
  },
  {
   "cell_type": "markdown",
   "metadata": {
    "collapsed": false
   },
   "source": [
    "String objects &ndash; thanks to their type! &ndash; support a number of other useful operations too!"
   ]
  },
  {
   "cell_type": "code",
   "execution_count": null,
   "metadata": {
    "collapsed": false
   },
   "outputs": [],
   "source": [
    "\"hello\".upper()"
   ]
  },
  {
   "cell_type": "code",
   "execution_count": null,
   "metadata": {
    "collapsed": false
   },
   "outputs": [],
   "source": [
    "\"HELLO\".lower()"
   ]
  },
  {
   "cell_type": "code",
   "execution_count": null,
   "metadata": {
    "collapsed": false
   },
   "outputs": [],
   "source": [
    "\"hEllO, woRlD!\".capitalize()"
   ]
  },
  {
   "cell_type": "markdown",
   "metadata": {
    "collapsed": false
   },
   "source": [
    "### An Aside on Variables\n",
    "\n",
    "In Python, variables are symbolic names (labels) that reference objects. The act of setting a variable to a particular value is known as **assignment**. There is no separate declaration step as in other languages."
   ]
  },
  {
   "cell_type": "code",
   "execution_count": null,
   "metadata": {
    "collapsed": false
   },
   "outputs": [],
   "source": [
    "number = 123\n",
    "string = \"Hello, world!\"\n",
    "\n",
    "user = \"Andrzej\"\n",
    "\n",
    "# Format strings allow us to insert the string representation\n",
    "# of an object within a string (if it has one).\n",
    "\n",
    "f\"Hello, {user}!\""
   ]
  },
  {
   "cell_type": "markdown",
   "metadata": {
    "collapsed": false
   },
   "source": [
    "Variable names in Python can contain letters, digits and underscores; however, they cannot start with a digit. They are _case-sensitive_, so capitalisation matters!\n",
    "\n",
    "By convention, variable names in Python are all lowercase with words separated by underscores, e.g. `message_length`. This is known as _snake case_. 🐍"
   ]
  },
  {
   "cell_type": "code",
   "execution_count": 35,
   "metadata": {
    "collapsed": false
   },
   "outputs": [],
   "source": [
    "# Good variable names ✅\n",
    "\n",
    "user = \"Andrzej\"\n",
    "user_age = 23\n",
    "\n",
    "meaning_of_life = 42\n",
    "\n",
    "post_title = \"Introduction to Python\"\n",
    "like_count = 2137\n",
    "views = 12_345\n",
    "\n",
    "# Suboptimal variable names ❌\n",
    "\n",
    "countriesVisited = 17  # (lower) camel case\n",
    "NumberOfChapters = 8  # Pascal case / upper camel case\n",
    "SPEED_OF_LIGHT = 299_792_458  # uppercase with underscores\n",
    "golden_Ratio = 1.61803399  # pure pain"
   ]
  },
  {
   "cell_type": "markdown",
   "metadata": {
    "collapsed": false
   },
   "source": [
    "Sometimes, you might find yourself updating the value of a (typically numerical) variable in relation to itself using one of the **infix operators** we introduced earlier."
   ]
  },
  {
   "cell_type": "code",
   "execution_count": null,
   "metadata": {
    "collapsed": false
   },
   "outputs": [],
   "source": [
    "x = 1\n",
    "\n",
    "x = x + 6  # x = x + 6     => x == 7\n",
    "x = x - 1  # x = x - 1     => x == 6\n",
    "x = x * 2  # x = x * 2     => x == 12\n",
    "x = x / 3  # x = x / 3     => x == 4.0\n",
    "x = x // 3  # x = x // 3    => x == 1.0\n",
    "x = x + 10  # x = x + 10    => x == 11.0\n",
    "x = x % 4  # x = x % 4     => x == 3.0\n",
    "\n",
    "x"
   ]
  },
  {
   "cell_type": "markdown",
   "metadata": {
    "collapsed": false
   },
   "source": [
    "This can seem a bit verbose, so Python provides a series of **shorthand assignment operators** as **syntactic sugar** to help make your code cleaner and more readable &ndash; a useful thing to master! 🍦🍪"
   ]
  },
  {
   "cell_type": "code",
   "execution_count": null,
   "metadata": {
    "collapsed": false
   },
   "outputs": [],
   "source": [
    "x = 1\n",
    "\n",
    "x += 6  # x = x + 6     => x == 7\n",
    "x -= 1  # x = x - 1     => x == 6\n",
    "x *= 2  # x = x * 2     => x == 12\n",
    "x /= 3  # x = x / 3     => x == 4.0\n",
    "x //= 3  # x = x // 3    => x == 1.0\n",
    "x += 10  # x = x + 10    => x == 11.0\n",
    "x %= 4  # x = x % 4     => x == 3.0\n",
    "\n",
    "x"
   ]
  },
  {
   "cell_type": "markdown",
   "metadata": {
    "collapsed": false
   },
   "source": [
    "## Print statements\n",
    "\n",
    "Before we progress, it would be rude not to introduce the `print()` function! [Read more in the documentation](https://docs.python.org/3/library/functions.html#print)."
   ]
  },
  {
   "cell_type": "code",
   "execution_count": null,
   "metadata": {
    "collapsed": false
   },
   "outputs": [],
   "source": [
    "print(\"Hello, world!\")  # Glad we got that one out the way!"
   ]
  },
  {
   "cell_type": "code",
   "execution_count": null,
   "metadata": {},
   "outputs": [],
   "source": [
    "# It's possible to print many things at once!\n",
    "\n",
    "user = \"Andrzej\"\n",
    "\n",
    "print(\"Hello World and Hello\", user)"
   ]
  },
  {
   "cell_type": "code",
   "execution_count": null,
   "metadata": {
    "collapsed": false
   },
   "outputs": [],
   "source": [
    "# print(·) has plenty of useful arguments you can explore\n",
    "\n",
    "print(\"a\", \"b\", \"c\", \"d\", sep=\" | \", end=\" !\\n\")"
   ]
  },
  {
   "cell_type": "markdown",
   "metadata": {},
   "source": [
    "## Control Flow\n",
    "\n",
    "### Conditional statements\n",
    "\n",
    "The infamous 'if-statement' is used for executing different pieces of code based on some Boolean value.\n"
   ]
  },
  {
   "cell_type": "code",
   "execution_count": null,
   "metadata": {},
   "outputs": [],
   "source": [
    "if 1 < 2:\n",
    "    print(\"Wow, 1 < 2.\")"
   ]
  },
  {
   "cell_type": "code",
   "execution_count": 42,
   "metadata": {},
   "outputs": [],
   "source": [
    "ice_cream_available = 10"
   ]
  },
  {
   "cell_type": "code",
   "execution_count": null,
   "metadata": {},
   "outputs": [],
   "source": [
    "if ice_cream_available > 5:\n",
    "    print(\"We have plenty of ice-cream! Ready for Cambridge students.\")\n",
    "elif 0 < ice_cream_available <= 5:\n",
    "    print(\"Running, short! Let's get more ice-cream!\")\n",
    "else:\n",
    "    print(\"Oops... No ice-cream! What are we gonna do now?!\")"
   ]
  },
  {
   "cell_type": "markdown",
   "metadata": {},
   "source": [
    "Indentation is **really** important in Python! By convention, blocks are indented with four spaces &ndash; not tabs (however much you or I may love tabs)."
   ]
  },
  {
   "cell_type": "markdown",
   "metadata": {
    "collapsed": false
   },
   "source": [
    "### Functions\n",
    "\n",
    "#### Built-in Functions\n",
    "\n",
    "By default, Python has a selection of built-in functions you can use without having to import anything. We have already talked about a few of these, and it is worth taking the time to investigate what they do! Python has some [excellent documentation](https://docs.python.org/3/library/functions.html), and learning how to read documentation is an important skill."
   ]
  },
  {
   "cell_type": "code",
   "execution_count": null,
   "metadata": {},
   "outputs": [],
   "source": [
    "import math\n",
    "\n",
    "math.sqrt(25)"
   ]
  },
  {
   "cell_type": "markdown",
   "metadata": {
    "collapsed": false
   },
   "source": [
    "#### User-defined Functions\n",
    "\n",
    "Defining your own functions allows you to create your own units of reusable code. If used appropriately, they can contribute massively to code clarity and maintainability."
   ]
  },
  {
   "cell_type": "code",
   "execution_count": null,
   "metadata": {},
   "outputs": [],
   "source": [
    "def add(p, q):\n",
    "    return p + q\n",
    "\n",
    "\n",
    "# By default, arguments are passed in the same order in which they are defined\n",
    "add(1, 2)"
   ]
  },
  {
   "cell_type": "code",
   "execution_count": null,
   "metadata": {},
   "outputs": [],
   "source": [
    "# Python is very flexible with respect to argument order\n",
    "# if you are explicit enough about what you want to do!\n",
    "\n",
    "add(q=2, p=1)"
   ]
  },
  {
   "cell_type": "code",
   "execution_count": null,
   "metadata": {},
   "outputs": [],
   "source": [
    "# It is possible to specify default values\n",
    "\n",
    "\n",
    "def get_ice_cream(flavour=\"coconut & ube\"):\n",
    "    print(f\"Yummy scoop of {flavour}, just for you!\")\n",
    "\n",
    "\n",
    "get_ice_cream()\n",
    "get_ice_cream(\"lemon sorbet\")"
   ]
  },
  {
   "cell_type": "markdown",
   "metadata": {},
   "source": [
    "As another quick aside, one important idea in _software engineering_ is the **single-responsibility principle** (SRP) that functions, classes, modules and so on should have one clear responsibility. This is related to two other principles: **don't repeat yourself** (DRY) and **keep it simple, stupid** (KISS -- no, not the rock band)!\n",
    "\n",
    "You do not have to follow these principles religiously, but they can go a long way to helping you write cleaner code.\n",
    "\n",
    "In practice, if you have a function that performs some intensive computation and then outputs the result, you might want to consider splitting that up into a function that performs the computation and another that handles how it is displayed and formatted. By decoupling these two operations from each other, this then makes code to perform the original computation much more reusable and the program a bit more maintainable!"
   ]
  },
  {
   "cell_type": "code",
   "execution_count": null,
   "metadata": {},
   "outputs": [],
   "source": [
    "# We can also specify type annotations, which can be useful to other programmers,\n",
    "# as well as to type checking software (linters), which can help spot bugs in code\n",
    "\n",
    "\n",
    "def shout(message: str) -> None:\n",
    "    print(message.upper())\n",
    "\n",
    "\n",
    "shout(\"where is my ice-cream?!\")"
   ]
  },
  {
   "cell_type": "markdown",
   "metadata": {
    "collapsed": false
   },
   "source": [
    "### None\n",
    "\n",
    "`None` is keyword in Python that signifies that there is no value there &ndash; it is the encapsulation of emptiness, totally devoid of meaning."
   ]
  },
  {
   "cell_type": "code",
   "execution_count": null,
   "metadata": {
    "collapsed": false
   },
   "outputs": [],
   "source": [
    "value = None  # nothing to see here!\n",
    "\n",
    "value"
   ]
  },
  {
   "cell_type": "code",
   "execution_count": null,
   "metadata": {
    "collapsed": false
   },
   "outputs": [],
   "source": [
    "type(value)  # it still has a type though!"
   ]
  },
  {
   "cell_type": "markdown",
   "metadata": {
    "collapsed": false
   },
   "source": [
    "## Collections\n",
    "\n",
    "Collections are types that are used for containing other types! Python has several general-purpose built-in container types, such as **lists, tuples, sets and dictionaries**. More complex collections &ndash; such as queues, ordered dictionaries and so on &ndash; are available through modules in the **standard library** included with every Python installation.\n",
    "\n",
    "You will want to get familiar with many of the simpler collections.\n",
    "\n",
    "### Lists"
   ]
  },
  {
   "cell_type": "code",
   "execution_count": null,
   "metadata": {},
   "outputs": [],
   "source": [
    "ice_cream = [\n",
    "    \"Girton Apple\",\n",
    "    \"Lemon & Matcha Sorbet\",\n",
    "    \"Cocobut & Ube\",\n",
    "    \"Kings College Lavender\",\n",
    "    \"Black sesame\",\n",
    "    \"Cardamom & Rose\",\n",
    "    \"Cinnamon Waffle\",\n",
    "]\n",
    "\n",
    "ice_cream"
   ]
  },
  {
   "cell_type": "code",
   "execution_count": null,
   "metadata": {},
   "outputs": [],
   "source": [
    "# You can find the length of a list with len(·)\n",
    "\n",
    "len(ice_cream)\n",
    "\n",
    "# The list of ice cream above contains seven ice cream flavours! Ace!"
   ]
  },
  {
   "cell_type": "code",
   "execution_count": null,
   "metadata": {},
   "outputs": [],
   "source": [
    "# Lists are 'subscriptable', so you can index into them\n",
    "# Python lists are zero-indexed, so list indices start from zero\n",
    "\n",
    "ice_cream[0]"
   ]
  },
  {
   "cell_type": "markdown",
   "metadata": {},
   "source": [
    "When counting in Python, we always start at zero: 0, 1, 2, 3, 4, 5, 6, 7, etc."
   ]
  },
  {
   "cell_type": "code",
   "execution_count": null,
   "metadata": {},
   "outputs": [],
   "source": [
    "# Negative indices let you retrieve values relative to the end of the list\n",
    "\n",
    "ice_cream[-1]"
   ]
  },
  {
   "cell_type": "code",
   "execution_count": null,
   "metadata": {},
   "outputs": [],
   "source": [
    "# You can also select slices of a list\n",
    "\n",
    "ice_cream[2:4]  # the starting index is inclusive, but the ending index is exclusive"
   ]
  },
  {
   "cell_type": "code",
   "execution_count": null,
   "metadata": {},
   "outputs": [],
   "source": [
    "# You can omit a starting or ending point to expand to the start or end of the list\n",
    "\n",
    "ice_cream[1:]"
   ]
  },
  {
   "cell_type": "code",
   "execution_count": null,
   "metadata": {},
   "outputs": [],
   "source": [
    "ice_cream[:4]"
   ]
  },
  {
   "cell_type": "code",
   "execution_count": null,
   "metadata": {},
   "outputs": [],
   "source": [
    "# You can also provide a step! (e.g. to skip certain elements)\n",
    "\n",
    "ice_cream[::2]"
   ]
  },
  {
   "cell_type": "code",
   "execution_count": null,
   "metadata": {},
   "outputs": [],
   "source": [
    "ice_cream[1:6:2]"
   ]
  },
  {
   "cell_type": "code",
   "execution_count": null,
   "metadata": {},
   "outputs": [],
   "source": [
    "# In case you were wondering, yes -- you can use this to reverse lists!\n",
    "\n",
    "ice_cream[::-1]"
   ]
  },
  {
   "cell_type": "code",
   "execution_count": null,
   "metadata": {},
   "outputs": [],
   "source": [
    "# It is also a useful hack for creating soft copies of lists...\n",
    "\n",
    "ice_cream[:]"
   ]
  },
  {
   "cell_type": "code",
   "execution_count": null,
   "metadata": {},
   "outputs": [],
   "source": [
    "# You can also append to lists\n",
    "\n",
    "ice_cream.append(\"Cocoa Nib Brownie\")\n",
    "\n",
    "ice_cream"
   ]
  },
  {
   "cell_type": "code",
   "execution_count": null,
   "metadata": {},
   "outputs": [],
   "source": [
    "# And pop from the end of a list...\n",
    "\n",
    "ice_cream.pop()\n",
    "\n",
    "ice_cream"
   ]
  },
  {
   "cell_type": "code",
   "execution_count": null,
   "metadata": {},
   "outputs": [],
   "source": [
    "# Or anywhere really by index!\n",
    "\n",
    "kings_colleg_lavender = ice_cream.pop(3)  # sorry, King's 🙃\n",
    "\n",
    "kings_colleg_lavender, ice_cream"
   ]
  },
  {
   "cell_type": "code",
   "execution_count": null,
   "metadata": {},
   "outputs": [],
   "source": [
    "# You can also find the index of the first list item matching some value\n",
    "\n",
    "ice_cream.index(\"Black sesame\")"
   ]
  },
  {
   "cell_type": "code",
   "execution_count": null,
   "metadata": {},
   "outputs": [],
   "source": [
    "# And remove the first list item matching some value\n",
    "ice_cream.remove(\"Cardamom & Rose\")  # sorry, Cardamom & Rose\n",
    "\n",
    "ice_cream"
   ]
  },
  {
   "cell_type": "code",
   "execution_count": null,
   "metadata": {},
   "outputs": [],
   "source": [
    "# Lists can be concatenated together\n",
    "\n",
    "[1, 2, 3] + [4, 5, 6]"
   ]
  },
  {
   "cell_type": "code",
   "execution_count": null,
   "metadata": {},
   "outputs": [],
   "source": [
    "# And yes, they can also be 'multiplied'\n",
    "\n",
    "ice_cream * 4\n",
    "\n",
    "# Woah! So much ice cream flavours!"
   ]
  },
  {
   "cell_type": "code",
   "execution_count": null,
   "metadata": {},
   "outputs": [],
   "source": [
    "# You can also 'extend' one list with the values of another\n",
    "\n",
    "list1 = [1, 2, 3, 4]\n",
    "list2 = [5, 6, 7, 8]\n",
    "\n",
    "list1.extend(list2)\n",
    "\n",
    "list1"
   ]
  },
  {
   "cell_type": "code",
   "execution_count": null,
   "metadata": {},
   "outputs": [],
   "source": [
    "# You will notice that while list1 has grown, list2 stays the same!\n",
    "\n",
    "list2"
   ]
  },
  {
   "cell_type": "code",
   "execution_count": null,
   "metadata": {},
   "outputs": [],
   "source": [
    "# You can also check whether an element is in a list with `in`\n",
    "\n",
    "\"Blueberry Sorbet\" in ice_cream"
   ]
  },
  {
   "cell_type": "code",
   "execution_count": null,
   "metadata": {},
   "outputs": [],
   "source": [
    "# You can 'unpack' list values (the tuples are implicit here)\n",
    "\n",
    "# \"Assign the first two ice-cream flavours to a and b, and the last flavour to d,\n",
    "#  and stick any ice-cream flavours in the middle in c.\"\n",
    "\n",
    "a, b, *c, d = ice_cream\n",
    "\n",
    "a, b, c, d"
   ]
  },
  {
   "cell_type": "code",
   "execution_count": null,
   "metadata": {},
   "outputs": [],
   "source": [
    "# by the way, trailing commas are allowed when creating lists\n",
    "\n",
    "long_list = [\n",
    "    1,\n",
    "    2,\n",
    "    3,\n",
    "    4,\n",
    "    5,\n",
    "    6,\n",
    "    7,\n",
    "    8,\n",
    "    9,\n",
    "    10,  # <--- the 'trailing' comma\n",
    "]\n",
    "\n",
    "long_list"
   ]
  },
  {
   "cell_type": "markdown",
   "metadata": {
    "collapsed": false
   },
   "source": [
    "### Tuples\n",
    "\n",
    "Tuples are finite, immutable, ordered sequences of elements. Once a tuple is created, elements cannot be appended, removed or changed. Instead, a new tuple needs to be created.\n",
    "\n",
    "**Note**: this means that if you have a tuple of lists, the lists themselves can change, but the elements in the tuple cannot be reassigned to other objects."
   ]
  },
  {
   "cell_type": "code",
   "execution_count": null,
   "metadata": {
    "collapsed": false
   },
   "outputs": [],
   "source": [
    "# Tuples look like this\n",
    "()  # an empty tuple (or unit/null tuple)"
   ]
  },
  {
   "cell_type": "code",
   "execution_count": null,
   "metadata": {
    "collapsed": false
   },
   "outputs": [],
   "source": [
    "(1,)  # a 1-tuple"
   ]
  },
  {
   "cell_type": "code",
   "execution_count": null,
   "metadata": {
    "collapsed": false
   },
   "outputs": [],
   "source": [
    "(1, 3)  # a 2-tuple (or couple / ordered pair)"
   ]
  },
  {
   "cell_type": "code",
   "execution_count": null,
   "metadata": {
    "collapsed": false
   },
   "outputs": [],
   "source": [
    "(1, 3, 5)  # a 3-tuple (or triple)"
   ]
  },
  {
   "cell_type": "code",
   "execution_count": null,
   "metadata": {
    "collapsed": false
   },
   "outputs": [],
   "source": [
    "(1, 3, 5, 7)  # a 4-tuple (or quadruple)"
   ]
  },
  {
   "cell_type": "code",
   "execution_count": null,
   "metadata": {
    "collapsed": false
   },
   "outputs": [],
   "source": [
    "(1, 3, 5, 7, 9)  # a 5-tuple (or quintuple)"
   ]
  },
  {
   "cell_type": "code",
   "execution_count": null,
   "metadata": {
    "collapsed": false
   },
   "outputs": [],
   "source": [
    "type(())"
   ]
  },
  {
   "cell_type": "markdown",
   "metadata": {
    "collapsed": false
   },
   "source": [
    "### Dictionaries\n",
    "\n",
    "Dictionaries are key-value maps, where each key uniquely maps to a single value."
   ]
  },
  {
   "cell_type": "code",
   "execution_count": null,
   "metadata": {
    "collapsed": false
   },
   "outputs": [],
   "source": [
    "empty_dict = {}\n",
    "\n",
    "type(empty_dict)"
   ]
  },
  {
   "cell_type": "code",
   "execution_count": null,
   "metadata": {
    "collapsed": false
   },
   "outputs": [],
   "source": [
    "student = {\n",
    "    \"name\": \"Andrzej\",\n",
    "    \"age\": 23,\n",
    "    \"degree\": \"MPhil Advanced Computer Science\",\n",
    "    \"ice-cream\": [\"coconut & ube\", \"strawberry & cream\", \"pistachio\"],\n",
    "}\n",
    "\n",
    "# You can index into dictionaries just as you can with lists\n",
    "student[\"name\"]"
   ]
  },
  {
   "cell_type": "code",
   "execution_count": null,
   "metadata": {
    "collapsed": false
   },
   "outputs": [],
   "source": [
    "# You can check if an item is present within a dictionary using 'in'\n",
    "\n",
    "\"name\" in student"
   ]
  },
  {
   "cell_type": "markdown",
   "metadata": {
    "collapsed": false
   },
   "source": [
    "Objects are **hashable** if they can be associated with a **hash value** that remains constant throughout the lifetime of an object. Many immutable built-in objects in Python are hashable, such as integers and strings.\n",
    "\n",
    "Immutable containers, such as tuples, are hashable if all of their elements are hashable. Lists, on the other hand, are mutable containers, so they are not hashable.\n",
    "\n",
    "This is important, as objects being hashable is key to the efficient implementation of data structures, such as dictionaries and sets."
   ]
  },
  {
   "cell_type": "code",
   "execution_count": null,
   "metadata": {
    "collapsed": false
   },
   "outputs": [],
   "source": [
    "# use .keys() to get the keys of a dictionary\n",
    "\n",
    "student.keys()"
   ]
  },
  {
   "cell_type": "code",
   "execution_count": null,
   "metadata": {
    "collapsed": false
   },
   "outputs": [],
   "source": [
    "# likewise, use .values() to get only the values\n",
    "\n",
    "student.values()"
   ]
  },
  {
   "cell_type": "code",
   "execution_count": null,
   "metadata": {},
   "outputs": [],
   "source": [
    "student.items()"
   ]
  },
  {
   "cell_type": "code",
   "execution_count": null,
   "metadata": {
    "collapsed": false
   },
   "outputs": [],
   "source": [
    "# dictionaries can also be updated with the values from other dictionaries\n",
    "\n",
    "student.update({\"name\": \"Anjay\", \"favourite_colour\": \"Green\"})\n",
    "\n",
    "student"
   ]
  },
  {
   "cell_type": "code",
   "execution_count": null,
   "metadata": {
    "collapsed": false
   },
   "outputs": [],
   "source": [
    "# items can be removed from dictionaries with del\n",
    "\n",
    "del student[\"ice-cream\"]\n",
    "\n",
    "student"
   ]
  },
  {
   "cell_type": "markdown",
   "metadata": {
    "collapsed": false
   },
   "source": [
    "### For loops\n",
    "\n",
    "For loops provide a way of iterating over some **iterable**. It is possible to iterate over many of the types we have already discussed, such as the characters of a string, the items of a list and the keys of a dictionary."
   ]
  },
  {
   "cell_type": "code",
   "execution_count": null,
   "metadata": {
    "collapsed": false
   },
   "outputs": [],
   "source": [
    "for character in \"Hello\":\n",
    "    print(character)"
   ]
  },
  {
   "cell_type": "code",
   "execution_count": null,
   "metadata": {
    "collapsed": false
   },
   "outputs": [],
   "source": [
    "for item in [1, 2, 3, 4]:\n",
    "    print(item)"
   ]
  },
  {
   "cell_type": "code",
   "execution_count": null,
   "metadata": {
    "collapsed": false
   },
   "outputs": [],
   "source": [
    "dictionary = {\"a\": 1, \"b\": 2}\n",
    "for key in dictionary:\n",
    "    print(key, dictionary[key])"
   ]
  },
  {
   "cell_type": "code",
   "execution_count": null,
   "metadata": {
    "collapsed": false
   },
   "outputs": [],
   "source": [
    "# It is arguably more \"Pythonic\" to iterate over dictionaries\n",
    "# in the following way instead using .items():\n",
    "\n",
    "for key, value in dictionary.items():\n",
    "    print(key, value)"
   ]
  },
  {
   "cell_type": "markdown",
   "metadata": {
    "collapsed": false
   },
   "source": [
    "### While loops\n",
    "\n",
    "As in other languages, Python also has while loops."
   ]
  },
  {
   "cell_type": "code",
   "execution_count": null,
   "metadata": {
    "collapsed": false
   },
   "outputs": [],
   "source": [
    "i = 0\n",
    "while i < 10:\n",
    "    print(i)\n",
    "    i += 1\n",
    "\n",
    "# Yes, `while True:` would loop forever!"
   ]
  },
  {
   "cell_type": "markdown",
   "metadata": {},
   "source": [
    "## How to combine these ideas to solve a programming problem?\n",
    "\n",
    "> Problem: From a list of words, count how many of them start with \"a\" or end with \"b\".\n"
   ]
  }
 ],
 "metadata": {
  "kernelspec": {
   "display_name": "venv",
   "language": "python",
   "name": "python3"
  },
  "language_info": {
   "codemirror_mode": {
    "name": "ipython",
    "version": 3
   },
   "file_extension": ".py",
   "mimetype": "text/x-python",
   "name": "python",
   "nbconvert_exporter": "python",
   "pygments_lexer": "ipython3",
   "version": "3.12.6"
  },
  "orig_nbformat": 4
 },
 "nbformat": 4,
 "nbformat_minor": 2
}
