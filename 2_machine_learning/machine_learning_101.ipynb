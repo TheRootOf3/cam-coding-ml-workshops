{
 "cells": [
  {
   "attachments": {},
   "cell_type": "markdown",
   "metadata": {},
   "source": [
    "This notebook combines and adapts a bunch of great resources on Machine Learning from:\n",
    "- last year's version of this notebook\n",
    "- notebooks from a great series of tutorials on Machine Learning by [UCL AI Society](https://uclaisociety.co.uk) last year and two years ago.\n",
    "\n",
    "I **highly recommend** having a look at the resources:\n",
    "- slides, talk recordings and useful overviews on [the society website](https://uclaisociety.co.uk/our-initiatives/tutorials/2023-2024/),\n",
    "- Jupyter Notebooks with numerous ML code examples available [on GitHub](https://github.com/UCLAIS/ml-tutorials-season-4)!\n",
    "\n",
    "---\n",
    "\n",
    "# Machine Learning 101\n",
    "\n",
    "Supervised learning is a powerful way to teach machines to tackle all kinds of tasks, from recognizing objects in images to predicting future outcomes based on historical data. Here are some key words you should know:\n",
    "- Learning algorithm\n",
    "- Training data\n",
    "- Examples\n",
    "- Features\n",
    "- Labels\n",
    "- Parameters\n",
    "\n",
    "A simple, yet very important problem we need to tackle is predicting ouput labels based on given input features with a trained model containing parameters that should maximise performance. The model is trained via a learning algoirthm to find these parameters. Linear regression is a technique used to solve problems like this. It allows us to draw a straight line through the scattered data points, allowing us to make predictions and uncover valuable insights.\n",
    "\n",
    "---\n",
    "\n",
    "### Additional packages\n",
    "\n",
    "In this notebook, we will be using a linear algebra package `Numpy`, machine learning package `scikit-learn` and data analysis package `pandas`. \n",
    "\n",
    "**NOTE: All packages have really good documentation websites with detailed explanations and user guides**\n",
    "- numpy [documentation](https://numpy.org/doc/stable/)\n",
    "- scikit-learn [user guide](https://scikit-learn.org/stable/user_guide.html)\n",
    "- pandas [documentation](https://pandas.pydata.org/docs/)\n",
    "\n",
    "---\n",
    "\n",
    "**Please fill in the notebook as you read through.** This shouldn't require a lot of lines of code since we encourage you to use the existing scikit learn functions. These sections are wrapped by \"###\" comments! The current outputs for each cell show the desired result from your code - if you rerun it with the blank lines that need to be filled in, the output will have errors."
   ]
  },
  {
   "cell_type": "markdown",
   "metadata": {},
   "source": [
    "## Part 1: Linear Regression"
   ]
  },
  {
   "attachments": {},
   "cell_type": "markdown",
   "metadata": {},
   "source": [
    "### Linear regression implemented with Scikit-Learn"
   ]
  },
  {
   "cell_type": "code",
   "execution_count": null,
   "metadata": {},
   "outputs": [],
   "source": [
    "# Import the packages and classes needed in this example:\n",
    "import numpy as np\n",
    "import matplotlib.pyplot as plt\n",
    "from sklearn.linear_model import LinearRegression\n",
    "\n",
    "\n",
    "# Create a numpy array of data:\n",
    "temperature = np.array([0, 4, 35, 28, 21, 24, 17, 22]).reshape((-1, 1))\n",
    "icecream_sold = np.array([0, 1, 250, 150, 90, 115, 40, 99])\n",
    "\n",
    "# Create an instance of a linear regression model and fit it to the data with the fit() function:\n",
    "model = LinearRegression()\n",
    "model.fit(temperature, icecream_sold)\n",
    "\n",
    "# The following section will get results by interpreting the created instance:\n",
    "# Print the Intercept:\n",
    "print(\"Intercept:\", model.intercept_)\n",
    "\n",
    "# Print the Slope:\n",
    "print(\"Slope:\", model.coef_[0])\n",
    "\n",
    "pred = temperature * model.coef_ + model.intercept_\n",
    "\n",
    "# Plotting the data.\n",
    "fig = plt.figure(figsize=(8, 6))\n",
    "plt.title(\"Relationship Between Number of Icecream Sold and Temperature\")\n",
    "plt.ylabel(\"Icecream Sold\")\n",
    "plt.xlabel(\"Temperature\")\n",
    "plt.plot(temperature, icecream_sold, \"b.\")\n",
    "\n",
    "# Plotting prediction computed with line fitting\n",
    "plt.plot(temperature, pred)"
   ]
  },
  {
   "attachments": {},
   "cell_type": "markdown",
   "metadata": {},
   "source": [
    "## Line Fitting \n",
    "Below, we have generated a set of n examples (a set of features paired with labels) where the labels are linearly mapped from the features with noise added. The goal is to find the best fit line for this dataset. There are many approaches to solve this:"
   ]
  },
  {
   "cell_type": "code",
   "execution_count": null,
   "metadata": {},
   "outputs": [],
   "source": [
    "# Generate a set of examples\n",
    "np.random.seed(42)\n",
    "n = 500\n",
    "X = np.random.randn(n, 1)\n",
    "y = 2 * X + 1 + 1.2 * np.random.randn(n, 1)\n",
    "\n",
    "# Plotting the data.\n",
    "fig = plt.figure(figsize=(8, 6))\n",
    "plt.title(\"Predictions\")\n",
    "plt.ylabel(\"Y\")\n",
    "plt.xlabel(\"X\")\n",
    "plt.plot(X, y, \"b.\")\n",
    "plt.show()"
   ]
  },
  {
   "cell_type": "markdown",
   "metadata": {},
   "source": [
    "### 1. Random Guess\n",
    "In this example, we only have two parameters $\\theta_0$ and $\\theta_1$ that define our linear regression model. Since we don't have any better idea right now, how about we just take a random guess? Let's try $\\theta_0 = 1$ and $\\theta_1 = 2$ and plot the resulting line:"
   ]
  },
  {
   "cell_type": "code",
   "execution_count": null,
   "metadata": {},
   "outputs": [],
   "source": [
    "# method 1\n",
    "def random_guess(X):\n",
    "    theta_1 = 1\n",
    "    theta_0 = 2\n",
    "    pred = X * theta_1 + theta_0\n",
    "    return pred\n",
    "\n",
    "\n",
    "pred1 = random_guess(X)\n",
    "\n",
    "# Plotting the data.\n",
    "fig = plt.figure(figsize=(8, 6))\n",
    "plt.title(\"Predictions\")\n",
    "plt.ylabel(\"Y\")\n",
    "plt.xlabel(\"X\")\n",
    "plt.plot(X, y, \"b.\")\n",
    "plt.plot(X, pred1, \"c-\")\n",
    "plt.show()"
   ]
  },
  {
   "cell_type": "markdown",
   "metadata": {},
   "source": [
    "That's not terrible for a guess, but our slope is too small. If we were to do better, it might be useful to define some kind of a *cost function* that defines how far off our predictions were from the actual data. For linear regression model, the most natural / common cost function to use is the **Mean Squared Error (MSE)**. Mathematically, MSE is defined as following:\n",
    "\n",
    "$$MSE(\\theta) = \\frac{1}{m} \\sum_{i=1}^{m} ((\\theta_0 + \\theta_1 x_i) - y_i)^2,$$\n",
    "\n",
    "where $\\theta_0 + \\theta_1 x_i$ is the prediction of the model and $y_i$ is the true label.\n",
    "\n",
    "Since we are randomly guessing, this method is very unreliable and may take many tries to get a good solution.\n"
   ]
  },
  {
   "cell_type": "markdown",
   "metadata": {},
   "source": [
    "### 2. Closed-form solution with the Normal Equation\n",
    "\n",
    "#### 2.1. Maths background (optional)\n",
    "\n",
    "If you know a bit of linear algebra, you might know that there is a *closed-form* solution to the least-squares problem that gives us the optimal values for $a$ and $b$. We won't go through the proof here, but interested students can check out Lecture 15 of Gilbert Strang's wonderful Linear Algebra lecture series on Youtube. Here is the equation (called the *Normal Equation*) for obtaining the optimal $\\theta$ that minimizes the squared loss of our best-fit line:\n",
    "\n",
    "\n",
    "$$\\theta = (X^T X)^{-1} X^T y $$\n",
    "\n",
    "$X$ is a *matrix* form of the input variables of dimensions $m$ by $n$, where $m$ is the number of data instances (i.e. `len(df)` in our case, $m=200$) and $n$ is the dimension of the feature vectors (for our simple linear regression example, we have $n=2$: $x_1$ representing the TV advertising budget and $x_0$ which is always 1 for the bias term). \n",
    "\n",
    "#### 2.2 Implementation using scikit-learn\n",
    "\n",
    "We'll continue with the code now to show how to use scikit-learn to solve this problem:"
   ]
  },
  {
   "cell_type": "code",
   "execution_count": 13,
   "metadata": {},
   "outputs": [
    {
     "data": {
      "text/plain": [
       "[<matplotlib.lines.Line2D at 0x1d72b3dbe80>]"
      ]
     },
     "execution_count": 13,
     "metadata": {},
     "output_type": "execute_result"
    },
    {
     "data": {
      "image/png": "[encoded data removed]",
      "text/plain": [
       "<Figure size 800x600 with 1 Axes>"
      ]
     },
     "metadata": {},
     "output_type": "display_data"
    }
   ],
   "source": [
    "### Set model to a linear regression one with scikit learn, train the model with\n",
    "### Scikit learn function and store the prediction from your trained model in pred2.\n",
    "\n",
    "model = None\n",
    "\n",
    "pred2 = None\n",
    "\n",
    "###\n",
    "\n",
    "# Plotting the data.\n",
    "fig = plt.figure(figsize=(8, 6))\n",
    "plt.title(\"Predictions\")\n",
    "plt.ylabel(\"Y\")\n",
    "plt.xlabel(\"X\")\n",
    "plt.plot(X, y, \"b.\")\n",
    "plt.plot(X, pred2, \"r-\")"
   ]
  },
  {
   "cell_type": "markdown",
   "metadata": {},
   "source": [
    "### 3. Optimization with Gradient Descent\n",
    "\n",
    "A problem with calculating the closed-form solution problems like above is that the computation cost of calculating it does not scale efficiently as the number of independent variables increases. In most real-world data, we usually have many independent variables which could affect $y$ in various ways. If we have $k$ such independent variables, then the computational cost of finding the closed-form solution is dominated by the calculation of the inverse of $X^T X$, which is $O(k^3)$. For most real-world data, this is too computationally expensive.\n",
    "\n",
    "Instead, we can train our linear regression model gradually, using a technique called **gradient descent**. It is as an optimization algorithm that iteratively modifies parameters in way that minimizes a predefined cost function. It does so by finding the derivative of the cost function with regards to the said parameters, which tells the algorithm mathematically how to change each parameter to result in a smaller cost."
   ]
  },
  {
   "cell_type": "markdown",
   "metadata": {},
   "source": [
    "#### 3.2 Using Gradient Descent from scikit-learn to solve our problem\n",
    "\n",
    "First, let's generate some data and visualise them. Hint: we've already done it somewhere in this notebook!\n",
    "\n",
    "Feel free to experiment how the number of examples influences how good the learned model is. You can inspect the model parameters as `gd_model.coef_` and `gd_model.intercept_` and compare them with the parameters you used to generate the data."
   ]
  },
  {
   "cell_type": "code",
   "execution_count": null,
   "metadata": {},
   "outputs": [
    {
     "data": {
      "image/png": "[encoded data removed]",
      "text/plain": [
       "<Figure size 800x600 with 1 Axes>"
      ]
     },
     "metadata": {},
     "output_type": "display_data"
    }
   ],
   "source": [
    "### Generate a set of 300 examples\n",
    "n = ...  # number of examples\n",
    "X = ...  # Generate random points using np.random.randn()\n",
    "y = (\n",
    "    ...\n",
    ")  # apply a linear function to the generated points and add random noise. E.g. 2 * X - 5 + random noise\n",
    "\n",
    "### Visualise the generated data\n",
    "\n",
    "\n",
    "# Plotting the data.\n",
    "fig = plt.figure(figsize=(8, 6))\n",
    "plt.title(\"Predictions\")\n",
    "plt.ylabel(\"Y\")\n",
    "plt.xlabel(\"X\")\n",
    "plt.plot(X, y, \"b.\")\n",
    "plt.show()"
   ]
  },
  {
   "cell_type": "markdown",
   "metadata": {},
   "source": [
    "Good, now let's apply a gradient descent method from scikit-learn to fit the linear regression model."
   ]
  },
  {
   "cell_type": "code",
   "execution_count": null,
   "metadata": {},
   "outputs": [
    {
     "name": "stderr",
     "output_type": "stream",
     "text": [
      "c:\\Users\\suhai\\AppData\\Local\\Programs\\Python\\Python310\\lib\\site-packages\\sklearn\\utils\\validation.py:1111: DataConversionWarning: A column-vector y was passed when a 1d array was expected. Please change the shape of y to (n_samples, ), for example using ravel().\n",
      "  y = column_or_1d(y, warn=True)\n"
     ]
    },
    {
     "data": {
      "text/plain": [
       "[<matplotlib.lines.Line2D at 0x1d72c33fca0>]"
      ]
     },
     "execution_count": 15,
     "metadata": {},
     "output_type": "execute_result"
    },
    {
     "data": {
      "image/png": "[encoded data removed]",
      "text/plain": [
       "<Figure size 800x600 with 1 Axes>"
      ]
     },
     "metadata": {},
     "output_type": "display_data"
    }
   ],
   "source": [
    "from sklearn.linear_model import SGDRegressor\n",
    "\n",
    "### Use the built-in function for SGD regression as your gd_model, train it\n",
    "### and save prediction in pred3. Only use sklearn functions.\n",
    "\n",
    "gd_model = None\n",
    "\n",
    "pred3 = None\n",
    "\n",
    "###\n",
    "\n",
    "# Plotting the data.\n",
    "fig = plt.figure(figsize=(8, 6))\n",
    "plt.title(\"Predictions\")\n",
    "plt.ylabel(\"Y\")\n",
    "plt.xlabel(\"X\")\n",
    "plt.plot(X, y, \"b.\")\n",
    "plt.plot(X, pred3, \"g-\")"
   ]
  },
  {
   "cell_type": "markdown",
   "metadata": {},
   "source": [
    "#### 3.2 Gradient Descent Implementation (optional)\n",
    "\n",
    "Now let's derive the derivative of our MSE loss with respect to $\\theta_0$ and $\\theta_1$. Recall that MSE is expressed as:\n",
    "\n",
    "$$MSE(\\theta) = \\frac{1}{m} \\sum_{i=1}^{m} ((\\theta_0 + \\theta_1 x_i) - y_i)^2$$\n",
    "\n",
    "Let's now compute the partial derivate of the loss with regard to parameter $\\theta_0$, our bias term:\n",
    "\n",
    "$$\\frac{\\partial MSE(\\theta)}{\\partial \\theta_0} = \\frac{2}{m}\\sum_{i=1}^{m}  ((\\theta_0 + \\theta_1 x_i) - y_i) \\cdot 1 $$\n",
    "\n",
    "And the partial derivate of the loss with regard to parameter $\\theta_1$:\n",
    "\n",
    "$$\\frac{\\partial MSE(\\theta)}{\\partial \\theta_1} = \\frac{2}{m} \\sum_{i=1}^{m} ((\\theta_0 + \\theta_1 x_i) - y_i) \\cdot x_i$$\n",
    "\n",
    "\n",
    "Here is our update rule for the parameters $\\theta_0$ and $\\theta_1$ at iteration $t$, using gradient descent:\n",
    "\n",
    "$$\\theta_i^{(t+1)} = \\theta_i^t - \\eta \\cdot \\frac{\\partial MSE(\\theta)}{\\partial \\theta_i} $$\n",
    "\n",
    "where $\\eta$ is what's called the **learning rate**.\n",
    "\n",
    "Now, let's look at the code for fitting a linear regression model with gradient descent:\n",
    "\n",
    "Before we optimise with gradient descent, we are going to use `scikit-learn`'s `StandardScaler` to scale our independent variable before adding the bias terms. Otherwise, you'll find that you'll need to use an extremely low learning rate to train the model properly. While we could have used a simpler example where all the data are drawn from a standard normal distribution, we wanted to show you that preprocessing is often a very important step in machine learning projects, because the data you're working with can come in any form!"
   ]
  },
  {
   "cell_type": "code",
   "execution_count": null,
   "metadata": {},
   "outputs": [],
   "source": [
    "# Optional\n",
    "from sklearn.preprocessing import StandardScaler\n",
    "\n",
    "scaler = StandardScaler()\n",
    "X_scaled = scaler.fit_transform(X)\n",
    "\n",
    "\n",
    "def gradient_descent(X, y, learning_rate, record_at, num_iterations=2000):\n",
    "    theta_0 = np.zeros((1, 1))\n",
    "    theta_1 = np.zeros((1, 1))\n",
    "    theta_hist = []\n",
    "\n",
    "    for it in range(num_iterations):\n",
    "        ### Type out the three formulae above.\n",
    "        ### 1) Compute the MSE (mean squared error) for the current values of theta_0 and theta_1.\n",
    "        ### 2) Compute the gradient of the MSE with respect to theta_0.\n",
    "        ### 3) Compute the gradient of the MSE with respect to theta_1.\n",
    "\n",
    "        mse = 0\n",
    "        d_theta_0 = 0\n",
    "        d_theta_1 = 0\n",
    "\n",
    "        ### Now update the values of theta_0 and theta_1 using the fourth formula.\n",
    "\n",
    "        theta_0 -= 0\n",
    "        theta_1 -= 0\n",
    "\n",
    "        ###\n",
    "\n",
    "        if it in record_at:\n",
    "            theta_hist.append((theta_0.copy(), theta_1.copy()))\n",
    "    return theta_0, theta_1, theta_hist\n",
    "\n",
    "\n",
    "### Choose your learning rate.\n",
    "\n",
    "lr = 0\n",
    "\n",
    "###\n",
    "\n",
    "record_at = [10, 100, 500, 1800]\n",
    "theta_0, theta_1, theta_hist = gradient_descent(X_scaled, y, lr, record_at)\n",
    "\n",
    "# Plotting the data.\n",
    "fig, ax = plt.subplots(1, 4, figsize=(20, 5))\n",
    "\n",
    "\n",
    "for i in range(4):\n",
    "    theta_0_it, theta_1_it = theta_hist[i]\n",
    "    y_pred_it = X_scaled.dot(theta_1_it) + theta_0_it\n",
    "    ax[i].set_title(\"Number of Iterations: \" + str(record_at[i]))\n",
    "    ax[i].scatter(X, y)\n",
    "    ax[i].plot(X, y_pred_it, color=\"r\")\n",
    "    ax[i].set_xlabel(\"X\")\n",
    "    ax[i].set_ylabel(\"Y\")\n",
    "\n",
    "fig.subplots_adjust(wspace=0.5)\n",
    "\n",
    "plt.show()"
   ]
  },
  {
   "cell_type": "markdown",
   "metadata": {},
   "source": [
    "## Part 2: Exploring Data and Models"
   ]
  },
  {
   "cell_type": "markdown",
   "metadata": {},
   "source": [
    "The objectives for this part include:\n",
    "\n",
    "1.   Introduce and explore a real medical dataset.\n",
    "2.   Understand two machine learning models.\n",
    "3.   Attempt to predict the Sex of a patient from features contained in the dataset.\n",
    "4.   Attempt to predict Fatal Heart Failure from features in the dataset.\n",
    "5.   Explain what underfitting and overfitting models are.\n",
    "\n"
   ]
  },
  {
   "cell_type": "markdown",
   "metadata": {},
   "source": [
    "### Imports"
   ]
  },
  {
   "cell_type": "code",
   "execution_count": 2,
   "metadata": {},
   "outputs": [],
   "source": [
    "import pandas as pd\n",
    "from sklearn.tree import DecisionTreeClassifier\n",
    "from sklearn.ensemble import RandomForestClassifier\n",
    "from sklearn.model_selection import train_test_split\n",
    "from sklearn.metrics import (\n",
    "    classification_report,\n",
    "    accuracy_score,\n",
    "    ConfusionMatrixDisplay,\n",
    ")\n",
    "from sklearn.tree import plot_tree\n",
    "import matplotlib.pyplot as plt\n",
    "\n",
    "from time import time"
   ]
  },
  {
   "cell_type": "markdown",
   "metadata": {},
   "source": [
    "### Dataset Loading"
   ]
  },
  {
   "cell_type": "code",
   "execution_count": 3,
   "metadata": {},
   "outputs": [],
   "source": [
    "dataset = pd.read_csv(\n",
    "    \"https://raw.githubusercontent.com/TheRootOf3/cam-coding-ml-workshops/refs/heads/main/2_machine_learning/data/heart_failure_clinical_records_dataset.csv\"\n",
    ")\n",
    "del dataset[\"time\"]  # not useful in this tutorial"
   ]
  },
  {
   "cell_type": "code",
   "execution_count": 4,
   "metadata": {},
   "outputs": [],
   "source": [
    "def get_train_test(list_of_features, dependent_variable):\n",
    "    return train_test_split(\n",
    "        dataset[list_of_features],\n",
    "        dataset[dependent_variable],\n",
    "        test_size=0.2,\n",
    "        random_state=1,\n",
    "    )"
   ]
  },
  {
   "cell_type": "markdown",
   "metadata": {},
   "source": [
    "### Data Dive (No Edits Needed)"
   ]
  },
  {
   "cell_type": "markdown",
   "metadata": {},
   "source": [
    "#### View the dataset\n",
    "First, lets take a look at the dataset.\n",
    "\n",
    "We're using a dataset that contains various features that can be used to predict heart failure.\n",
    "\n",
    "Lets look at the first few entries of our dataset so we can get to know the features we're working with and their typical values:"
   ]
  },
  {
   "cell_type": "code",
   "execution_count": null,
   "metadata": {},
   "outputs": [],
   "source": [
    "dataset"
   ]
  },
  {
   "cell_type": "markdown",
   "metadata": {},
   "source": [
    "##Feature Descriptions:\n",
    "\n",
    "Age: Age (in years) of patient.\n",
    "\n",
    "Anaemia: Deficiency in the number or quality of red blood cells in your body. (1 = Anaemic patient)\n",
    "\n",
    "Creatine Phosphokinase: Enzyme that catalyses transfer of Phosphate from creatine to ADP. This creates ATP (basic energy unit) and is a source of rapid ATP (energy) during strenous activity. Think during exercise.\n",
    "\n",
    "Diabetes: A problem with either insulin production or insulin sensitivity. Leads to high blood sugar and low cellular sugar utilisation. (1 = Patient is Diabetic)\n",
    "\n",
    "Ejection Fraction: The fraction of the amount of blood pushed out of the left side of the heart during contraction to the amount of blood in the same place before contraction. In healthy individuals, this value is 50-75%: it's not possible to have a perfect system that pushes all blood out. (Value as %)\n",
    "\n",
    "High Blood Pressure: When the pressure exerted by the blood in your vessels is abnormally high. Reasons could include too much blood, constricted vessels and more. (1 = Patient has HBP)\n",
    "\n",
    "Platelets: Small, colorless cell fragments in our blood that form clots and stop or prevent bleeding.\n",
    "\n",
    "Serum Creatinine: The amount of creatinine in the blood. Creatinine is a by product of energy production in muscles and is excreted in the urine to prevent toxic build up.\n",
    "\n",
    "Serum Sodium: The amount of the chemical element sodium the blood. Sodium has a myriad of roles in physiology including blood volume maintenance, nerve conduction and acid-base balance maintenance.\n",
    "\n",
    "Sex: Female = 0, Male = 1.\n",
    "\n",
    "Smoking: 1 = Patient is a smoker.\n",
    "\n",
    "DEATH_EVENT: 1 represents a Fatal Heart Failure in patient.\n"
   ]
  },
  {
   "cell_type": "markdown",
   "metadata": {},
   "source": [
    "### \"Quick and Dirty\" Statistics\n",
    "\n",
    "As you can see from the table, we have total of 12 features to play with. Lets look at some \"quick and dirty\" statistics - easy to obtain stats to begin to help us understand our data. We use a library called `pandas` to do some simple data analysis for us - one of the keys to understanding our data is to know what the typical values are.\n",
    "\n",
    "Here we have table providing various statistics about each individual feature.\n",
    "\n",
    "General Note: not all of these statistics may necessarily provide useful insights, but this type of readout is usually a nice starting point."
   ]
  },
  {
   "cell_type": "code",
   "execution_count": null,
   "metadata": {},
   "outputs": [],
   "source": [
    "dataset.describe()"
   ]
  },
  {
   "cell_type": "markdown",
   "metadata": {},
   "source": [
    "#### Data Distribution\n",
    "\n",
    "We can also look at histograms for each feature, allowing us to see the data distribution.\n",
    "\n",
    "Data distribution readouts can help inform us about any data imbalance in our dataset, for example, sex in this dataset is imbalanced as there are double the number of men than women in the set. This is certainly a problem that needs solving but we don't need to worry about it in this workshop!\n",
    "\n",
    "Note: Binary features will only have 2 bars on the histogram."
   ]
  },
  {
   "cell_type": "code",
   "execution_count": null,
   "metadata": {},
   "outputs": [],
   "source": [
    "dataset.hist(figsize=(20, 20), rwidth=0.95)"
   ]
  },
  {
   "cell_type": "markdown",
   "metadata": {},
   "source": [
    "We've looked at what our features are, their typical values, and the distribution of values for each feature across the dataset. This isn't an exhastive list of insights we can glean from our data but it's a good start and is enough for us to begin with.\n",
    "\n",
    "Throughout this section we're going to be using different sets of input features in order to create ML models to predict an output feature.\n",
    "\n",
    "Now we've explored the data, our first task will be to choose a set of features and model parameters to see if we can predict the sex of a patient. However, we first need a model to use..."
   ]
  },
  {
   "cell_type": "markdown",
   "metadata": {},
   "source": [
    "### Decision Tree Model"
   ]
  },
  {
   "cell_type": "markdown",
   "metadata": {},
   "source": [
    "#### Model Explaination\n",
    "\n",
    "Our first model will be the decision tree. A decision tree is pretty similar to a flowchat: a series of sequential decisions (using a tree structure) that will eventually reach a specific result depending on the path taken. The Decision Tree algorithms job is to decide what decisions should be made at each step and tune them to the data it is provided. An example is shown below."
   ]
  },
  {
   "cell_type": "markdown",
   "metadata": {},
   "source": [
    "![decision tree 4 leaves.png](data:image/png;base64,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)"
   ]
  },
  {
   "cell_type": "markdown",
   "metadata": {},
   "source": [
    "The effectiveness of a machine learning model relies on its data and parameters. In general, we have to input relevant data into the model in order to make sound predictions. Decision Trees further rely on its algorithm parameters. For example, we can choose the number of leaves (nodes with no children) or the maximum depth (largest number of edges from root (topmost node) to leaf) of the tree. In the upcoming task, play around with these numbers and see what effect it has on your model and accuracy."
   ]
  },
  {
   "cell_type": "markdown",
   "metadata": {},
   "source": [
    "#### Model Running (code editing section)"
   ]
  },
  {
   "cell_type": "markdown",
   "metadata": {},
   "source": [
    "To create our decision tree, we are going to use the `scikit-learn` library. `scikit-learn` has lots of machine learning models implemented and ready to use, so our focus is solely on the data and the parameters of the ML model.\n",
    "\n",
    "As we have seen before, to create a machine learning model using scikit-learn (or in general), we need to follow 5 steps:\n",
    "\n",
    "1.   Prepare data\n",
    "2.   Choose and calibrate a model\n",
    "3.   Fit the data using the model (training)\n",
    "4.   Predict values using the model (testing)\n",
    "5.   Evaluate the model\n",
    "\n",
    "At this point, step 1 is done. In this next code block, you'll choose the features you would like to use in the model and then train, test, and evalate the model. After you evaluate you model, you can either recalibrate your model (model parameters, feature selection or both) to improve on your results, or pat yourself on the back - you've used your first machine learning model!"
   ]
  },
  {
   "cell_type": "code",
   "execution_count": null,
   "metadata": {},
   "outputs": [],
   "source": [
    "# Setting for showing the generated decision tree\n",
    "show_tree = True\n",
    "\n",
    "# choose a set of features and model parameters to see if you can predict the sex of a patient\n",
    "# ********** Step 2 **********\n",
    "\n",
    "# Parameters for the decision tree.\n",
    "# Set as 'None' for automatic choice, or choose an appropriate value.\n",
    "# There are more parameters to fiddle with if you're comfortable reading\n",
    "# documentation, which can be found here:\n",
    "# https://scikit-learn.org/stable/modules/generated/sklearn.tree.DecisionTreeClassifier.html\n",
    "# Experiment and see what works and what doesn't!\n",
    "max_number_of_leaves = 15  # integer\n",
    "max_depth = 10  # integer\n",
    "\n",
    "# Choose the features you want to use in your model, place between the square\n",
    "# brackets and seperate features with a comma.\n",
    "# Example: if we wanted to use the features 'age' and 'smoking', we would write:\n",
    "# features = [\"age\", \"smoking\"]\n",
    "# Feature List:\n",
    "# 'age', 'anaemia', 'creatinine_phosphokinase', 'diabetes',\n",
    "# 'ejection_fraction', 'high_blood_pressure', 'platelets',\n",
    "# 'serum_creatinine', 'serum_sodium', 'sex', 'smoking', 'DEATH_EVENT'\n",
    "\n",
    "features = [\"age\", \"smoking\", \"high_blood_pressure\"]\n",
    "\n",
    "# Define the decision tree classsifier model\n",
    "classifier = DecisionTreeClassifier(\n",
    "    random_state=0, max_leaf_nodes=max_number_of_leaves, max_depth=max_depth\n",
    ")\n",
    "\n",
    "# ********** Step 3 **********\n",
    "# Here we obtain our training and testing sets from our dataset and then\n",
    "# train the model. No need to change anything here.\n",
    "predict = \"diabetes\"\n",
    "# predict = \"anemia\"\n",
    "X_train, X_test, y_train, y_test = get_train_test(features, predict)\n",
    "start_train = time()\n",
    "classifier = classifier.fit(X_train, y_train)\n",
    "end_train = time()\n",
    "training_time = end_train - start_train\n",
    "print(f\"Training took {training_time}s \\n\")\n",
    "# ********** Step 4 **********\n",
    "# Run the trained model on the test set and store the predictions.\n",
    "y_pred = classifier.predict(X_test)\n",
    "\n",
    "# ********** Step 5 **********\n",
    "if show_tree:\n",
    "    # if the graph isn't readable, fiddle with these settings.\n",
    "    graph_X_axis_size, graph_Y_axis_size = 25, 25\n",
    "    fontsize = 10\n",
    "\n",
    "    plt.figure(figsize=(graph_X_axis_size, graph_Y_axis_size))\n",
    "    plot_tree(classifier, fontsize=fontsize, feature_names=features)\n",
    "    print(\"Decision Tree\")\n",
    "    plt.show()\n",
    "    print(\"\\n\\n\")\n",
    "\n",
    "# Generate a confusion matrix on the predictions to judge model effectiveness.\n",
    "# If you know that is, great!\n",
    "# If you don't, focus the decimal on the 'accuracy' line to judge your model,\n",
    "# we'll learn about confusion matricies at a later date.\n",
    "print(\"************************ Confusion Matrix ************************\")\n",
    "print(classification_report(y_test, y_pred, digits=3))\n",
    "ConfusionMatrixDisplay.from_predictions(y_true=y_test, y_pred=y_pred)\n",
    "print(\"******************************************************************\")"
   ]
  },
  {
   "cell_type": "markdown",
   "metadata": {},
   "source": [
    "Once you are happy with your model, move onto the next section, where we will introduce another model."
   ]
  },
  {
   "cell_type": "markdown",
   "metadata": {},
   "source": [
    "### Random Forest Model"
   ]
  },
  {
   "cell_type": "markdown",
   "metadata": {},
   "source": [
    "So we've looked at the Decision Tree model, but why stop at a single tree? The Random Forest model incorporates multiple decision trees (called a 'forest') and the results from the trees are combined to output the final result. We call the model 'random' due to the way we produce the trees: each tree contains a random selection of the provided features. A diagram of the structure of a Random Forest model is shown below."
   ]
  },
  {
   "cell_type": "markdown",
   "metadata": {},
   "source": [
    "![random forest diagram.png](data:image/png;base64,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)"
   ]
  },
  {
   "cell_type": "markdown",
   "metadata": {},
   "source": [
    "Sounds good right? Well, Random Forests have their positives and negatives. Firstly, more trees means more training, which means longer training times and extra resource usage. Also, if we have a large number of trees in the forest, it may become hard to interpret what exactly the model is looking for when making its predictions - which is a problem if we need an \"explainable AI\".\n",
    "\n",
    "On the otherhand, all these extra trees can make for better results: the model can focus on which input features are more heavily weighted for the prediction: not all features will have equal importance."
   ]
  },
  {
   "cell_type": "markdown",
   "metadata": {},
   "source": [
    "### Heart Failure Prediction"
   ]
  },
  {
   "cell_type": "markdown",
   "metadata": {},
   "source": [
    "Now we've got two models to play with, lets move onto a different task. We are going to attempt to predict fatal heart failure from features contained in the dataset.\n",
    "\n",
    "The \"DEATH_EVENT\" column in our dataset represents a fatal heart failure in a patient. This is a binary variable - 0 for no death, 1 for death. Using a model of your choice (we've shown you two but if you know about others, feel free to experiment!), try to achieve the best accuracy possible in predicting heart failures. You may choose the parameter settings and which features to input into your model.\n",
    "\n",
    "Below are two code sections, the first is a Decision Tree model and the second is for a Random Forest model, both of which are setup for this task. Give them both a go and see what results you can obtain!"
   ]
  },
  {
   "cell_type": "markdown",
   "metadata": {},
   "source": [
    "#### Decision Tree (code editing section)\n",
    "Note: the code here is the same as before with some minor changes."
   ]
  },
  {
   "cell_type": "code",
   "execution_count": null,
   "metadata": {},
   "outputs": [],
   "source": [
    "# Setting for showing the generated decision tree\n",
    "show_tree = True\n",
    "\n",
    "# Parameters for the decision tree.\n",
    "# Set as 'None' for automatic choice, or choose an appropriate value.\n",
    "# There are more parameters to fiddle with if you're comfortable reading\n",
    "# documentation, which can be found here:\n",
    "# https://scikit-learn.org/stable/modules/generated/sklearn.tree.DecisionTreeClassifier.html\n",
    "# Experiment and see what works and what doesn't!\n",
    "max_number_of_leaves = 10  # Integer\n",
    "max_depth = 8  # Integer\n",
    "\n",
    "# Choose the features you want to use in your model, place between the square\n",
    "# brackets and seperate features with a comma.\n",
    "# features = [\"age\", \"smoking\"]\n",
    "# Feature List:\n",
    "# 'age', 'anaemia', 'creatinine_phosphokinase', 'diabetes',\n",
    "# 'ejection_fraction', 'high_blood_pressure', 'platelets',\n",
    "# 'serum_creatinine', 'serum_sodium', 'sex', 'smoking', 'DEATH_EVENT'\n",
    "\n",
    "features = [\"age\", \"smoking\", \"high_blood_pressure\"]\n",
    "\n",
    "# Define the decision tree classsifier model\n",
    "# No need to change anything past here.\n",
    "classifier = DecisionTreeClassifier(\n",
    "    random_state=0, max_leaf_nodes=max_number_of_leaves, max_depth=max_depth\n",
    ")\n",
    "\n",
    "# Here we obtain our training and testing sets from our dataset and then\n",
    "# train the model.\n",
    "predict = \"DEATH_EVENT\"\n",
    "X_train, X_test, y_train, y_test = get_train_test(features, predict)\n",
    "start_train = time()\n",
    "classifier = classifier.fit(X_train, y_train)\n",
    "end_train = time()\n",
    "training_time = end_train - start_train\n",
    "print(f\"Training took {training_time}s \\n\")\n",
    "\n",
    "# Run the trained model on the test set and store the predictions.\n",
    "y_pred = classifier.predict(X_test)\n",
    "\n",
    "if show_tree:\n",
    "    # if the graph isn't readable, fiddle with these settings.\n",
    "    graph_X_axis_size, graph_Y_axis_size = 10, 10\n",
    "    fontsize = 10\n",
    "\n",
    "    plt.figure(figsize=(graph_X_axis_size, graph_Y_axis_size))\n",
    "    plot_tree(classifier, fontsize=fontsize, feature_names=features)\n",
    "    print(\"Decision Tree\")\n",
    "    plt.tight_layout()\n",
    "    plt.show()\n",
    "    print(\"\\n\\n\")\n",
    "\n",
    "# Generate a confusion matrix on the predictions to judge model effectiveness.\n",
    "# If you know that is, great!\n",
    "# If you don't, focus the decimal on the 'accuracy' line to judge your model,\n",
    "# we'll learn about confusion matricies at a later date.\n",
    "print(\"************************ Confusion Matrix ************************\")\n",
    "print(classification_report(y_test, y_pred, digits=3))\n",
    "ConfusionMatrixDisplay.from_predictions(y_true=y_test, y_pred=y_pred)\n",
    "print(\"******************************************************************\")"
   ]
  },
  {
   "cell_type": "markdown",
   "metadata": {},
   "source": [
    "#### Random Forest (code editing section)"
   ]
  },
  {
   "cell_type": "code",
   "execution_count": null,
   "metadata": {},
   "outputs": [],
   "source": [
    "# Parameters for the random forest.\n",
    "# Set as 'None' for automatic choice (unless stated otherwise),\n",
    "# or choose an appropriate value.\n",
    "# There are more parameters to fiddle with if you're comfortable reading\n",
    "# documentation, which can be found here:\n",
    "# https://scikit-learn.org/stable/modules/generated/sklearn.ensemble.RandomForestClassifier.html\n",
    "# Experiment and see what works and what doesn't!\n",
    "number_of_trees = 100  # Integer, default value 100, no None value\n",
    "max_number_of_leaves = 10  # Integer\n",
    "max_depth = 8  # Integer\n",
    "\n",
    "# Choose the features you want to use in your model, place between the square\n",
    "# brackets and seperate features with a comma.\n",
    "# Example: if we wanted to use the features 'age' and 'smoking', we would write:\n",
    "# features = [\"age\", \"smoking\"]\n",
    "# Feature List:\n",
    "# 'age', 'anaemia', 'creatinine_phosphokinase', 'diabetes',\n",
    "# 'ejection_fraction', 'high_blood_pressure', 'platelets',\n",
    "# 'serum_creatinine', 'serum_sodium', 'sex', 'smoking', 'DEATH_EVENT'\n",
    "\n",
    "features = [\"age\", \"smoking\", \"high_blood_pressure\"]\n",
    "\n",
    "# Define the random forest classsifier model\n",
    "classifier = RandomForestClassifier(\n",
    "    random_state=0,\n",
    "    max_depth=max_depth,\n",
    "    max_leaf_nodes=max_number_of_leaves,\n",
    "    n_estimators=number_of_trees,\n",
    ")\n",
    "\n",
    "# Here we obtain our training and testing sets from our dataset and then\n",
    "# train the model. No need to change anything here.\n",
    "predict = \"DEATH_EVENT\"\n",
    "X_train, X_test, y_train, y_test = get_train_test(features, predict)\n",
    "start_train = time()\n",
    "classifier = classifier.fit(X_train, y_train)\n",
    "end_train = time()\n",
    "training_time = end_train - start_train\n",
    "print(f\"Training took {training_time}s \\n\")\n",
    "\n",
    "# Run the trained model on the test set and store the predictions.\n",
    "y_pred = classifier.predict(X_test)\n",
    "\n",
    "# Generate a confusion matrix on the predictions to judge model effectiveness.\n",
    "# If you know that is, great!\n",
    "# If you don't, focus the decimal on the 'accuracy' line to judge your model,\n",
    "# we'll learn about confusion matricies at a later date.\n",
    "print(\"************************ Confusion Matrix ************************\")\n",
    "print(classification_report(y_test, y_pred, digits=3))\n",
    "ConfusionMatrixDisplay.from_predictions(y_true=y_test, y_pred=y_pred)\n",
    "print(\"******************************************************************\")"
   ]
  },
  {
   "cell_type": "markdown",
   "metadata": {},
   "source": [
    "Once you're happy with your results, move onto the next section."
   ]
  },
  {
   "cell_type": "markdown",
   "metadata": {},
   "source": [
    "### Overfitting and Underfitting (No Edits Needed)"
   ]
  },
  {
   "cell_type": "markdown",
   "metadata": {},
   "source": [
    "Before we get into what overfitting and underfitting are, lets talk about generalisation. ML models will attempt to learn concepts that, when applied, allow for accurate predictions for its given task. If the model has generalised the concepts for its well, predictions using unseen data will have a similar accuracy to predictions made on training data. This leads into our first problem, overfitting."
   ]
  },
  {
   "cell_type": "markdown",
   "metadata": {},
   "source": [
    "#### Overfitting"
   ]
  },
  {
   "cell_type": "markdown",
   "metadata": {},
   "source": [
    "Overfitting is a problem in machine learning models when a model learns concepts about its training data so well, it fails to generalise them to the overall task and concequently performs poorly on testing/real-life data.\n",
    "\n",
    "Lets see overfitting in action."
   ]
  },
  {
   "cell_type": "code",
   "execution_count": null,
   "metadata": {},
   "outputs": [],
   "source": [
    "def example_model(\n",
    "    max_depth=None,\n",
    "    features=[\"creatinine_phosphokinase\", \"ejection_fraction\"],\n",
    "    graph=False,\n",
    "    predict=\"DEATH_EVENT\",\n",
    "    max_number_of_leaves=None,\n",
    "):\n",
    "    classifier = DecisionTreeClassifier(\n",
    "        random_state=0, max_leaf_nodes=max_number_of_leaves, max_depth=max_depth\n",
    "    )\n",
    "    X_train, X_test, y_train, y_test = get_train_test(features, predict)\n",
    "    classifier = classifier.fit(X_train, y_train)\n",
    "    y_pred = classifier.predict(X_test)\n",
    "\n",
    "    if graph:\n",
    "        graph_X_axis_size, graph_Y_axis_size = 100, 100\n",
    "        fontsize = 10\n",
    "        plt.figure(figsize=(graph_X_axis_size, graph_Y_axis_size))\n",
    "        plot_tree(classifier, fontsize=fontsize, feature_names=features)\n",
    "        print(\"Decision Tree\")\n",
    "        plt.show()\n",
    "        print(\"\\n\\n\")\n",
    "    else:\n",
    "        print(\n",
    "            \"************************ Confusion Matrix: Training Data ************************\"\n",
    "        )\n",
    "        print(\n",
    "            classification_report(\n",
    "                y_train, classifier.predict(X_train), zero_division=0, digits=3\n",
    "            )\n",
    "        )\n",
    "        ConfusionMatrixDisplay.from_predictions(\n",
    "            y_true=y_train, y_pred=classifier.predict(X_train)\n",
    "        )\n",
    "        print(\n",
    "            \"********************************************************************************\"\n",
    "        )\n",
    "        print()\n",
    "        print(\n",
    "            \"************************ Confusion Matrix: Testing Data ************************\"\n",
    "        )\n",
    "        print(classification_report(y_test, y_pred, zero_division=0, digits=3))\n",
    "        ConfusionMatrixDisplay.from_predictions(y_true=y_test, y_pred=y_pred)\n",
    "        print(\n",
    "            \"********************************************************************************\"\n",
    "        )"
   ]
  },
  {
   "cell_type": "code",
   "execution_count": null,
   "metadata": {},
   "outputs": [],
   "source": [
    "example_model(max_depth=100)"
   ]
  },
  {
   "cell_type": "markdown",
   "metadata": {},
   "source": [
    "Wow! In this setup we have an amazing 95% accuracy on our training data, but when compared with our real-life testing data, we only obtain 62% accuracy.\n",
    "\n",
    "For this specific example (Heart Failure) we used a Decision Tree. The problem is due to size of the tree:"
   ]
  },
  {
   "cell_type": "code",
   "execution_count": null,
   "metadata": {},
   "outputs": [],
   "source": [
    "example_model(max_depth=100, graph=True)"
   ]
  },
  {
   "cell_type": "markdown",
   "metadata": {},
   "source": [
    "Its huge! The decisions in this tree are so specific to the training data there is no chance for generalisation to occur. Fine tuning of parameters will help to solve overfitting. Run the next line of code and compare the training and testing accuracies now that the parameters are more appropriately tuned."
   ]
  },
  {
   "cell_type": "code",
   "execution_count": null,
   "metadata": {},
   "outputs": [],
   "source": [
    "example_model(max_depth=5)"
   ]
  },
  {
   "cell_type": "markdown",
   "metadata": {},
   "source": [
    "#### Underfitting"
   ]
  },
  {
   "cell_type": "markdown",
   "metadata": {},
   "source": [
    "So what about underfitting? This is the opposite problem from overfitting, where we fail to learn enough from training that we obtain poor accuracy in our training and testing results."
   ]
  },
  {
   "cell_type": "code",
   "execution_count": null,
   "metadata": {},
   "outputs": [],
   "source": [
    "example_model(features=[\"age\"], predict=\"sex\", max_number_of_leaves=2, graph=False)"
   ]
  },
  {
   "cell_type": "markdown",
   "metadata": {},
   "source": [
    "In this example (Sex prediction from Age), the number of decisions that can be made is so low, the model is predicting exclusively 'male' as the result. In this case, increasing the number of learnable parameters (i.e. number of leaves) will help solve the underfitting."
   ]
  },
  {
   "cell_type": "markdown",
   "metadata": {},
   "source": [
    "#### Let's explore this trade-off\n",
    "\n",
    "Since this is a relatively simple problem, we can gradually increase the model complexity (by increasing the depth parameter of our decision tree) and observe plot the accuracy curves."
   ]
  },
  {
   "cell_type": "code",
   "execution_count": null,
   "metadata": {},
   "outputs": [],
   "source": [
    "train_set_accs = []\n",
    "test_set_accs = []\n",
    "\n",
    "tree_depth_lst = list(range(1, 20))\n",
    "\n",
    "for tree_depth in tree_depth_lst:\n",
    "    classifier = DecisionTreeClassifier(random_state=0, max_depth=tree_depth)\n",
    "    X_train, X_test, y_train, y_test = get_train_test(\n",
    "        list_of_features=[\n",
    "            \"age\",\n",
    "            \"anaemia\",\n",
    "            \"creatinine_phosphokinase\",\n",
    "            \"diabetes\",\n",
    "            \"ejection_fraction\",\n",
    "            # \"high_blood_pressure\",\n",
    "            \"platelets\",\n",
    "            \"serum_creatinine\",\n",
    "            \"serum_sodium\",\n",
    "            \"sex\",\n",
    "            \"smoking\",\n",
    "        ],\n",
    "        dependent_variable=\"high_blood_pressure\",\n",
    "    )\n",
    "    classifier = classifier.fit(X_train, y_train)\n",
    "\n",
    "    train_set_accs.append(accuracy_score(y_train, classifier.predict(X_train)))\n",
    "    test_set_accs.append(accuracy_score(y_test, classifier.predict(X_test)))\n",
    "\n",
    "plt.plot(tree_depth_lst, train_set_accs, label=\"train set accuracy\")\n",
    "plt.plot(tree_depth_lst, test_set_accs, label=\"test set accuracy\")\n",
    "plt.xlabel(\"decision tree depth\")\n",
    "plt.ylabel(\"model accuracy\")\n",
    "plt.legend()"
   ]
  },
  {
   "cell_type": "markdown",
   "metadata": {},
   "source": [
    "### The End"
   ]
  },
  {
   "cell_type": "markdown",
   "metadata": {},
   "source": [
    "Congratulations, you've reached the end of the section! The next one, gives an overview of an end-to-end ML process."
   ]
  },
  {
   "cell_type": "markdown",
   "metadata": {},
   "source": [
    "## Part 3: Case-Study: Brain Stroke Prediction "
   ]
  },
  {
   "cell_type": "markdown",
   "metadata": {},
   "source": [
    "**Background**: A stroke occurs when the bloody supply to the brain is blocked or when a blood vessel within the brain bursts. Brain cells can begin to die within minutes, so a stroke is a medical emergency, and prompt treatment is crucial. A stroke can cause lasting brain damage, long-term disability and eventually death, so early action is crucial to minimise brain damage and other complications.\n",
    "\n",
    "**Objective**: Our objective is to be able to predict whether a person has a stroke or not given some information about them.\n",
    "\n",
    "**Dataset**: The dataset is based on the following [stroke prediction dataset](https://www.kaggle.com/datasets/zzettrkalpakbal/full-filled-brain-stroke-dataset).\n",
    "\n",
    "The columns in the dataset are:\n",
    "1) gender: \"Male\", \"Female\" or \"Other\"\n",
    "2) age: age of the patient\n",
    "3) hypertension: 0 if the patient doesn't have hypertension, 1 if the patient has hypertension\n",
    "4) heart_disease: 0 if the patient doesn't have any heart diseases, 1 if the patient has a heart disease\n",
    "5) ever_married: \"No\" or \"Yes\"\n",
    "6) work_type: \"children\", \"Govt_jov\", \"Never_worked\", \"Private\" or \"Self-employed\"\n",
    "7) Residence_type: \"Rural\" or \"Urban\"\n",
    "8) avg_glucose_level: average glucose level in blood\n",
    "9) bmi: body mass index\n",
    "10) smoking_status: \"formerly smoked\", \"never smoked\", \"smokes\" or \"Unknown\"*\n",
    "11) stroke: 1 if the patient had a stroke or 0 if not"
   ]
  },
  {
   "cell_type": "markdown",
   "metadata": {},
   "source": [
    "### Machine Learning Workflow\n",
    "\n",
    "![title](https://miro.medium.com/max/1400/0*V0GyOt3LoDVfY7y5.png)"
   ]
  },
  {
   "cell_type": "markdown",
   "metadata": {},
   "source": [
    "As you already know, the machine learning process covers a wide set of steps. As you go through this notebook, try to keep in mind which stage are we dealing with at that moment and what we are trying to achieve. \n",
    "\n",
    "As you reach the end of the notebook, you will notice that the sixth step (parameter tuning) from the figure above is missing; this is a challenge for you! Be creative and try to learn something new as you implement your ideas."
   ]
  },
  {
   "cell_type": "code",
   "execution_count": 60,
   "metadata": {},
   "outputs": [],
   "source": [
    "# Import relevant libraries\n",
    "import os\n",
    "import numpy as np\n",
    "import pandas as pd\n",
    "import seaborn as sns\n",
    "import matplotlib.pyplot as plt\n",
    "\n",
    "# Import relevant sklearn classes/functions related to data preprocessing\n",
    "from sklearn.model_selection import train_test_split\n",
    "from sklearn.decomposition import PCA\n",
    "from sklearn.preprocessing import MinMaxScaler, StandardScaler, OrdinalEncoder\n",
    "\n",
    "# Import relevant sklearn classes related to machine learning models\n",
    "from sklearn.linear_model import LinearRegression, LogisticRegression, Lasso\n",
    "from sklearn.svm import SVC, SVR, NuSVC\n",
    "from sklearn.tree import DecisionTreeClassifier, DecisionTreeRegressor\n",
    "from sklearn.ensemble import RandomForestClassifier, GradientBoostingClassifier, BaggingClassifier\n",
    "\n",
    "# Import relevant sklearn class/function related to evaluation\n",
    "from sklearn.metrics import accuracy_score, f1_score, ConfusionMatrixDisplay\n",
    "\n",
    "%matplotlib inline"
   ]
  },
  {
   "cell_type": "markdown",
   "metadata": {},
   "source": [
    "## Data Loading"
   ]
  },
  {
   "cell_type": "code",
   "execution_count": 6,
   "metadata": {},
   "outputs": [],
   "source": [
    "# Import the training dataset\n",
    "data_original = pd.read_csv(\n",
    "    \"https://raw.githubusercontent.com/TheRootOf3/cam-coding-ml-workshops/refs/heads/main/2_machine_learning/data/brain_stroke_train.csv\"\n",
    ")  # Change the path accordingly\n",
    "\n",
    "# We then make a deep copy of the dataset that we can manipulate\n",
    "# and process while leaving the original intact\n",
    "data = data_original.copy()"
   ]
  },
  {
   "cell_type": "markdown",
   "metadata": {},
   "source": [
    "## Data Understanding & Visualisation"
   ]
  },
  {
   "cell_type": "markdown",
   "metadata": {},
   "source": [
    "Before we start to train our Machine Learning model, it is important to have a look and understand first the dataset that we will be using. This will provide some insights onto which model, model hyperparameter, and loss function are suitable for the problem we are dealing with. "
   ]
  },
  {
   "cell_type": "code",
   "execution_count": null,
   "metadata": {},
   "outputs": [],
   "source": [
    "# Let's see the first 15 entries of our dataset\n",
    "data.head(15)"
   ]
  },
  {
   "cell_type": "code",
   "execution_count": null,
   "metadata": {},
   "outputs": [],
   "source": [
    "# View the size and shape of our training data\n",
    "print(f\"Shape: {data.shape}\\n\")\n",
    "\n",
    "# Display the list of features we have\n",
    "print(f\"List of features: {data.columns}\\n\")\n",
    "\n",
    "# Check for any missing values\n",
    "print(\"Missing values: \")\n",
    "print(data.isna().sum())"
   ]
  },
  {
   "cell_type": "markdown",
   "metadata": {},
   "source": [
    "From the dataframe and simple analysis above, there are several things we can observe:\n",
    "\n",
    "- There are 10 features (excluding `stroke`, which we are trying to predict) and 4500 samples\n",
    "- The features in our dataset involve both numerical and categorical value\n",
    "- The range of the numerical features in our dataset varies significantly\n",
    "- There are no missing data values in our dataset\n",
    "- We are dealing with a binary classification problem, where the output is either 0 or 1\n",
    "\n",
    "One of the most important findings from listing even just the first 15 values of our dataset is that we are dealing with an imbalanced classification problem, where the output (whether a person has had a stroke or not) is heavily skewed towards 0 (i.e. not having had a stroke)."
   ]
  },
  {
   "cell_type": "code",
   "execution_count": null,
   "metadata": {},
   "outputs": [],
   "source": [
    "num_stroke_false = len(data[data[\"stroke\"] == 0])\n",
    "num_stroke_true = len(data[data[\"stroke\"] == 1])\n",
    "\n",
    "print(f\"Number of people that have stroke: {num_stroke_false}\")\n",
    "print(f\"Number of people that have stroke: {num_stroke_true}\")"
   ]
  },
  {
   "cell_type": "markdown",
   "metadata": {},
   "source": [
    "In fact, almost 95% of our sample has a label of 0, which indicates that most people in our dataset have not had a stroke."
   ]
  },
  {
   "cell_type": "markdown",
   "metadata": {},
   "source": [
    "## Data Visualisation\n",
    "\n",
    "In general, we know that as the age of a person increases, the chance of that person having a stroke also increases. \n",
    "\n",
    "But, is this true? And does it apply to this dataset? We can verify this correlation by producing a plot of the rate of having a stroke against age."
   ]
  },
  {
   "cell_type": "code",
   "execution_count": null,
   "metadata": {},
   "outputs": [],
   "source": [
    "fig = plt.figure(figsize=(10, 5))\n",
    "ax0 = fig.add_subplot()\n",
    "\n",
    "data[\"age\"] = data[\"age\"].astype(int)\n",
    "\n",
    "# Calculate the rate of a person getting stroke as a function of age\n",
    "rate = []\n",
    "for i in range(data[\"age\"].min(), data[\"age\"].max()):\n",
    "    rate.append(\n",
    "        data[data[\"age\"] < i][\"stroke\"].sum() / len(data[data[\"age\"] < i][\"stroke\"])\n",
    "    )\n",
    "\n",
    "# Draw a lineplote\n",
    "sns.lineplot(data=rate, ax=ax0)\n",
    "\n",
    "# Remove the top, right, and left surrounding line for aesthetic purposes\n",
    "for s in [\"top\", \"right\", \"left\"]:\n",
    "    ax0.spines[s].set_visible(False)\n",
    "\n",
    "# Adjust the tick appearance for aesthetic purposes\n",
    "ax0.tick_params(axis=\"both\", which=\"major\", labelsize=8)\n",
    "ax0.tick_params(axis=\"both\", which=\"both\", length=0)\n",
    "\n",
    "# Add some text on the figure\n",
    "ax0.text(\n",
    "    -3,\n",
    "    0.055,\n",
    "    \"Stroke Risk by Age\",\n",
    "    fontsize=18,\n",
    "    fontweight=\"bold\",\n",
    ")\n",
    "ax0.text(\n",
    "    -3,\n",
    "    0.047,\n",
    "    \"As people age, the risk of having a stroke increases\",\n",
    "    fontsize=14,\n",
    ")\n",
    "\n",
    "plt.show()"
   ]
  },
  {
   "cell_type": "markdown",
   "metadata": {},
   "source": [
    "Yep - as expected, the higher the age, the higher the chance of having a stroke. \n",
    "\n",
    "We can also plot two features at once in a single 2d scatter plot! This may be useful if we want to get an additional insight in our data.\n",
    "\n",
    "For example, let's see what is the relation between 'age' and 'bmi' of our samples."
   ]
  },
  {
   "cell_type": "code",
   "execution_count": null,
   "metadata": {},
   "outputs": [],
   "source": [
    "plt.scatter(data[\"age\"], data[\"bmi\"], label=\"age-bmi pair per sample\")\n",
    "plt.xlabel(\"age\")\n",
    "plt.ylabel(\"bmi\")\n",
    "plt.legend()\n",
    "plt.show()"
   ]
  },
  {
   "cell_type": "markdown",
   "metadata": {},
   "source": [
    "And we can also add mean and standard deviation to understand the graph better!"
   ]
  },
  {
   "cell_type": "code",
   "execution_count": null,
   "metadata": {},
   "outputs": [],
   "source": [
    "plt.scatter(data[\"age\"], data[\"bmi\"], zorder=1, label=\"age-bmi pair per sample\")\n",
    "bmi_mean = np.array(\n",
    "    [data[data[\"age\"] == a][\"bmi\"].mean() for a in data[\"age\"].sort_values().unique()]\n",
    ")\n",
    "bmi_std = np.array(\n",
    "    [data[data[\"age\"] == a][\"bmi\"].std() for a in data[\"age\"].sort_values().unique()]\n",
    ")\n",
    "\n",
    "plt.fill_between(\n",
    "    data[\"age\"].sort_values().unique(),\n",
    "    bmi_mean + bmi_std,\n",
    "    bmi_mean - bmi_std,\n",
    "    alpha=0.4,\n",
    "    color=\"red\",\n",
    "    label=\"avg bmi +/- 1std\",\n",
    ")\n",
    "plt.plot(\n",
    "    data[\"age\"].sort_values().unique(),\n",
    "    bmi_mean,\n",
    "    zorder=2,\n",
    "    color=\"red\",\n",
    "    label=\"avg bmi\",\n",
    ")\n",
    "plt.xlabel(\"age\")\n",
    "plt.ylabel(\"bmi\")\n",
    "plt.legend()\n",
    "plt.show()"
   ]
  },
  {
   "cell_type": "markdown",
   "metadata": {},
   "source": [
    "As we can see, the age is related to bmi. Younger people in the dataset exhibit lower bmi, with a rapid increase between 10 and 15 years of age. The bmi in older people is higher, but it is varies significantly more. "
   ]
  },
  {
   "cell_type": "markdown",
   "metadata": {},
   "source": [
    "## Data Preprocessing"
   ]
  },
  {
   "cell_type": "markdown",
   "metadata": {},
   "source": [
    "There are a few more things we need to do before we can start training a machine learning model. Among them are the following:\n",
    "- Converting categorical data into numerical data\n",
    "- Standardising the range of our datasets"
   ]
  },
  {
   "cell_type": "code",
   "execution_count": null,
   "metadata": {},
   "outputs": [],
   "source": [
    "# Find categorical features, along with their values\n",
    "# We do this by exploiting the fact that categorical features have a data type of 'object'\n",
    "\n",
    "for col in data.columns:\n",
    "    if data[col].dtype == \"object\":\n",
    "        print(col, data[col].unique())"
   ]
  },
  {
   "cell_type": "markdown",
   "metadata": {},
   "source": [
    "We can convert these series to `pd.Categorical` type, which has a special `.codes` attribute!\n",
    "Let's do it for the `gender` feature."
   ]
  },
  {
   "cell_type": "code",
   "execution_count": null,
   "metadata": {},
   "outputs": [],
   "source": [
    "# Change the type of gender series to categorical\n",
    "data[\"gender\"] = pd.Categorical(data[\"gender\"])\n",
    "\n",
    "# Print the resulting mapping\n",
    "mapping = dict(\n",
    "    zip(data[\"gender\"].cat.categories, range(len(data[\"gender\"].cat.categories)))\n",
    ")\n",
    "print(mapping)\n",
    "\n",
    "\n",
    "# Replace the no longer needed column with the codes\n",
    "data[\"gender\"] = data[\"gender\"].cat.codes"
   ]
  },
  {
   "cell_type": "markdown",
   "metadata": {},
   "source": [
    "Now we can apply it to the remaining features."
   ]
  },
  {
   "cell_type": "code",
   "execution_count": null,
   "metadata": {},
   "outputs": [],
   "source": [
    "for feature_name in [\"ever_married\", \"work_type\", \"Residence_type\", \"smoking_status\"]:\n",
    "    data[feature_name] = pd.Categorical(data[feature_name])\n",
    "\n",
    "    mapping = dict(\n",
    "        zip(\n",
    "            data[feature_name].cat.categories,\n",
    "            range(len(data[feature_name].cat.categories)),\n",
    "        )\n",
    "    )\n",
    "    print(mapping)\n",
    "\n",
    "    data[feature_name] = data[feature_name].cat.codes"
   ]
  },
  {
   "cell_type": "code",
   "execution_count": null,
   "metadata": {},
   "outputs": [],
   "source": [
    "# Let's check our dataset to see whether our categorical data has correctly been changed into numerical data\n",
    "data.head()"
   ]
  },
  {
   "cell_type": "markdown",
   "metadata": {},
   "source": [
    "Cool! Now, we have converted the categorical features in our dataset into numerical features. Another way of doing this is by using the [OrdinalEncoder](https://scikit-learn.org/stable/modules/generated/sklearn.preprocessing.OrdinalEncoder.html#sklearn.preprocessing.OrdinalEncoder) class provided by scikit-learn.\n",
    "\n",
    "**Challenge**: have a think about the way we have encoded our categorical data - what are the potential consequences of encoding categorical data in this way? What might be a better way of encoding this type of data? We'll discuss this further later on in the notebook.\n",
    "\n",
    "Next, let's standardise the numerical features by taking off the mean and scaling the data to unit variance."
   ]
  },
  {
   "cell_type": "code",
   "execution_count": null,
   "metadata": {},
   "outputs": [],
   "source": [
    "scaler = StandardScaler()\n",
    "data[[\"age\", \"avg_glucose_level\", \"bmi\"]] = scaler.fit_transform(\n",
    "    data[[\"age\", \"avg_glucose_level\", \"bmi\"]]\n",
    ")\n",
    "\n",
    "# Verify that our feature has been standardized\n",
    "data.head()"
   ]
  },
  {
   "cell_type": "markdown",
   "metadata": {},
   "source": [
    "Now that our data has been standardised and all our features are numerical, we are very close to training our first machine learning model.\n",
    "\n",
    "All that is left to do is the following:\n",
    "\n",
    "1. **Separate the input features and the output label**: this is an important requirement when training our dataset - we don't want to train our `scikit-learn` models on the data we are trying to predict!\n",
    "\n",
    "2. **Split our data into training and test sets**: the training set is the dataset on which our models will be trained. After training our models, we then test them on our newly created test set.\n",
    "\n",
    "We will use the **empirical error** from evaluating our models on the test set as a proxy for the **generalisation error**: a measure of how accurately an algorithm can predict outcomes for unseen data (which is what we are trying to do eventually!). It will also provide us with a useful tool for comparing the different models we have trained so that we can decide which model to use."
   ]
  },
  {
   "cell_type": "code",
   "execution_count": 120,
   "metadata": {},
   "outputs": [],
   "source": [
    "# Separate our data into X, which contains all the features in our dataset and y, which contains only the output/label (stroke)\n",
    "X = data.drop(columns=[\"stroke\"])\n",
    "y = data[\"stroke\"]"
   ]
  },
  {
   "cell_type": "code",
   "execution_count": null,
   "metadata": {},
   "outputs": [],
   "source": [
    "# Verify that we have correctly separated the features and the output by looking at the shape of X and y\n",
    "print(X.shape)\n",
    "print(y.shape)"
   ]
  },
  {
   "cell_type": "code",
   "execution_count": 122,
   "metadata": {},
   "outputs": [],
   "source": [
    "# Split our features and output into a training set and a test set\n",
    "X_train, X_test, y_train, y_test = train_test_split(X, y, test_size=0.2)\n",
    "\n",
    "# In this case, the test_size parameter is equal to 0.2, so our test set will\n",
    "# have 20% the data, while the training set will have the other 80% of the data\n",
    "\n",
    "### TODO: try changing the test_size parameter and see whether it impacts the performance of our model"
   ]
  },
  {
   "cell_type": "code",
   "execution_count": null,
   "metadata": {},
   "outputs": [],
   "source": [
    "# Verify that the operation ran as intended by checking the shape of the splitted dataset\n",
    "print(f\"Shape of X_train: {X_train.shape}\")\n",
    "print(f\"Shape of X_test: {X_test.shape}\")\n",
    "print(f\"Shape of y_train: {y_train.shape}\")\n",
    "print(f\"Shape of y_test: {y_test.shape}\")"
   ]
  },
  {
   "cell_type": "markdown",
   "metadata": {},
   "source": [
    "## Model Training"
   ]
  },
  {
   "cell_type": "markdown",
   "metadata": {},
   "source": [
    "This is where the magic begins. As an example, we will be training our dataset by using three different models and choosing the best model for submission later. The models we will be testing out are [logistic regression models](https://scikit-learn.org/stable/modules/generated/sklearn.linear_model.LogisticRegression.html), [support vector machines](https://scikit-learn.org/stable/modules/generated/sklearn.svm.SVC.html) and [decision trees](https://scikit-learn.org/stable/modules/generated/sklearn.tree.DecisionTreeClassifier.html). \n",
    "\n",
    "Bear in mind that each of the different types of model has its own set of hyperparameters that you can tune to improve performance. Do check out the documentation for each type of model!"
   ]
  },
  {
   "cell_type": "code",
   "execution_count": null,
   "metadata": {},
   "outputs": [],
   "source": [
    "clf_lr = LogisticRegression()\n",
    "clf_lr.fit(X=X_train, y=y_train)\n",
    "\n",
    "clf_svm = SVC()\n",
    "clf_svm.fit(X=X_train, y=y_train)\n",
    "\n",
    "clf_tree = DecisionTreeClassifier()\n",
    "clf_tree.fit(X=X_train, y=y_train)"
   ]
  },
  {
   "cell_type": "markdown",
   "metadata": {},
   "source": [
    "## Model Testing\n",
    "Now that we have trained our machine learning models, we can test them on our test set"
   ]
  },
  {
   "cell_type": "code",
   "execution_count": 125,
   "metadata": {},
   "outputs": [],
   "source": [
    "# Use the .predict() method to predict output values for our test set\n",
    "lr_predicted = clf_lr.predict(X_test)\n",
    "svm_predicted = clf_svm.predict(X_test)\n",
    "tree_predicted = clf_tree.predict(X_test)"
   ]
  },
  {
   "cell_type": "code",
   "execution_count": null,
   "metadata": {},
   "outputs": [],
   "source": [
    "# We will be using the accuracy_score() function as our evaluation metric, which simply calculates\n",
    "# the number of predictions that are correct and divides it by the total number of predictions.\n",
    "lr_accuracy = accuracy_score(lr_predicted, y_test)\n",
    "svm_accuracy = accuracy_score(svm_predicted, y_test)\n",
    "tree_accuracy = accuracy_score(tree_predicted, y_test)\n",
    "\n",
    "print(\"Accuracy (Logistic Regression): \", lr_accuracy)\n",
    "print(\"Accuracy (SVM): \", svm_accuracy)\n",
    "print(\"Accuracy (Decision Tree): \", tree_accuracy)"
   ]
  },
  {
   "cell_type": "markdown",
   "metadata": {},
   "source": [
    "With Logistic Regression, we can explore which input features contributed most to the decision making process by inspecting the coefficients directly related to the features! "
   ]
  },
  {
   "cell_type": "code",
   "execution_count": null,
   "metadata": {},
   "outputs": [],
   "source": [
    "sorted(list(zip(clf_lr.coef_[0], data.columns[:-1])), key=lambda x: x[0], reverse=True)"
   ]
  },
  {
   "cell_type": "markdown",
   "metadata": {},
   "source": [
    "Neat! We can see that the logistic regression model and the SVM performed equally well (with about 95% accuracy), while our decision tree has slightly worst performance.\n",
    "\n",
    "Let's put things back into perspective. Right now, we are doing an imbalanced classification problem for which only 5% of our outputs have a value of 1; thus, we could easily achieve 95% accuracy just by always outputting 0 even! There is definitely a long way to go with regards to producing a model that is able to predict accurately whether a person has a stroke or not. \n",
    "\n",
    "If you're interested in ways to deal with this problem, you should look up how to approach *severe class imbalance in classification tasks*. An example of an approach is oversampling small classes or undersampling the overrepresented cases."
   ]
  },
  {
   "cell_type": "code",
   "execution_count": null,
   "metadata": {},
   "outputs": [],
   "source": [
    "# We can do further analysis by confusion matrices\n",
    "print(\"Confusion Matrix (Logistic Regression)\")\n",
    "print(ConfusionMatrixDisplay.from_predictions(y_true=y_test, y_pred=lr_predicted))\n",
    "\n",
    "print(\"\\nConfusion Matrix (SVM)\")\n",
    "print(ConfusionMatrixDisplay.from_predictions(y_true=y_test, y_pred=svm_predicted))\n",
    "\n",
    "print(\"\\nConfusion Matrix (Decision Tree)\")\n",
    "print(ConfusionMatrixDisplay.from_predictions(y_true=y_test, y_pred=tree_predicted))"
   ]
  },
  {
   "cell_type": "markdown",
   "metadata": {},
   "source": [
    "Congratulations! You made to the end of the final part of this notebook! We hope you enjoyed this short journey through the landscapes of Machine Learning, and will continue exploring further!"
   ]
  }
 ],
 "metadata": {
  "kernelspec": {
   "display_name": "venv",
   "language": "python",
   "name": "python3"
  },
  "language_info": {
   "codemirror_mode": {
    "name": "ipython",
    "version": 3
   },
   "file_extension": ".py",
   "mimetype": "text/x-python",
   "name": "python",
   "nbconvert_exporter": "python",
   "pygments_lexer": "ipython3",
   "version": "3.12.6"
  }
 },
 "nbformat": 4,
 "nbformat_minor": 4
}
